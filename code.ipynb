{
 "cells": [
  {
   "cell_type": "markdown",
   "metadata": {},
   "source": [
    "# Project "
   ]
  },
  {
   "cell_type": "markdown",
   "metadata": {},
   "source": [
    "## Preprocessing"
   ]
  },
  {
   "cell_type": "markdown",
   "metadata": {},
   "source": [
    "### Upload data "
   ]
  },
  {
   "cell_type": "code",
   "execution_count": 125,
   "metadata": {},
   "outputs": [],
   "source": [
    "import pandas as pd \n",
    "import numpy as np \n",
    "import matplotlib.pyplot as plt\n",
    "import seaborn as sns\n",
    "\n",
    "filePath = r\"E:\\DataMining\\Breast_Cancer\\Breast_Cancer_Uncleaned-1.csv\"\n",
    "df = pd.read_csv(filePath)\n",
    "df\n",
    "ndf = df "
   ]
  },
  {
   "cell_type": "code",
   "execution_count": 126,
   "metadata": {},
   "outputs": [
    {
     "data": {
      "text/html": [
       "<div>\n",
       "<style scoped>\n",
       "    .dataframe tbody tr th:only-of-type {\n",
       "        vertical-align: middle;\n",
       "    }\n",
       "\n",
       "    .dataframe tbody tr th {\n",
       "        vertical-align: top;\n",
       "    }\n",
       "\n",
       "    .dataframe thead th {\n",
       "        text-align: right;\n",
       "    }\n",
       "</style>\n",
       "<table border=\"1\" class=\"dataframe\">\n",
       "  <thead>\n",
       "    <tr style=\"text-align: right;\">\n",
       "      <th></th>\n",
       "      <th>Age</th>\n",
       "      <th>Race</th>\n",
       "      <th>Marital Status</th>\n",
       "      <th>T Stage</th>\n",
       "      <th>N Stage</th>\n",
       "      <th>6th Stage</th>\n",
       "      <th>differentiate</th>\n",
       "      <th>Grade</th>\n",
       "      <th>A Stage</th>\n",
       "      <th>Tumor Size</th>\n",
       "      <th>Estrogen Status</th>\n",
       "      <th>Progesterone Status</th>\n",
       "      <th>Regional Node Examined</th>\n",
       "      <th>Reginol Node Positive</th>\n",
       "      <th>Survival Months</th>\n",
       "      <th>Status</th>\n",
       "    </tr>\n",
       "  </thead>\n",
       "  <tbody>\n",
       "    <tr>\n",
       "      <th>count</th>\n",
       "      <td>3851</td>\n",
       "      <td>3817</td>\n",
       "      <td>3830</td>\n",
       "      <td>3813</td>\n",
       "      <td>3800</td>\n",
       "      <td>3803</td>\n",
       "      <td>3811</td>\n",
       "      <td>3814</td>\n",
       "      <td>3834</td>\n",
       "      <td>3818</td>\n",
       "      <td>3831</td>\n",
       "      <td>3805</td>\n",
       "      <td>3807</td>\n",
       "      <td>3817</td>\n",
       "      <td>3798</td>\n",
       "      <td>4024</td>\n",
       "    </tr>\n",
       "    <tr>\n",
       "      <th>unique</th>\n",
       "      <td>44</td>\n",
       "      <td>18</td>\n",
       "      <td>30</td>\n",
       "      <td>16</td>\n",
       "      <td>12</td>\n",
       "      <td>20</td>\n",
       "      <td>24</td>\n",
       "      <td>8</td>\n",
       "      <td>12</td>\n",
       "      <td>110</td>\n",
       "      <td>12</td>\n",
       "      <td>12</td>\n",
       "      <td>56</td>\n",
       "      <td>42</td>\n",
       "      <td>110</td>\n",
       "      <td>2</td>\n",
       "    </tr>\n",
       "    <tr>\n",
       "      <th>top</th>\n",
       "      <td>missing</td>\n",
       "      <td>White</td>\n",
       "      <td>Married</td>\n",
       "      <td>T2</td>\n",
       "      <td>N1</td>\n",
       "      <td>IIA</td>\n",
       "      <td>Moderately differentiated</td>\n",
       "      <td>2</td>\n",
       "      <td>Regional</td>\n",
       "      <td>25</td>\n",
       "      <td>Positive</td>\n",
       "      <td>Positive</td>\n",
       "      <td>missing</td>\n",
       "      <td>1</td>\n",
       "      <td>missing</td>\n",
       "      <td>Alive</td>\n",
       "    </tr>\n",
       "    <tr>\n",
       "      <th>freq</th>\n",
       "      <td>217</td>\n",
       "      <td>1142</td>\n",
       "      <td>854</td>\n",
       "      <td>847</td>\n",
       "      <td>1275</td>\n",
       "      <td>620</td>\n",
       "      <td>761</td>\n",
       "      <td>2231</td>\n",
       "      <td>1231</td>\n",
       "      <td>233</td>\n",
       "      <td>1217</td>\n",
       "      <td>1087</td>\n",
       "      <td>216</td>\n",
       "      <td>1286</td>\n",
       "      <td>226</td>\n",
       "      <td>3408</td>\n",
       "    </tr>\n",
       "  </tbody>\n",
       "</table>\n",
       "</div>"
      ],
      "text/plain": [
       "            Age   Race Marital Status T Stage  N Stage 6th Stage  \\\n",
       "count      3851   3817           3830     3813    3800      3803   \n",
       "unique       44     18             30       16      12        20   \n",
       "top     missing  White        Married       T2      N1       IIA   \n",
       "freq        217   1142            854      847    1275       620   \n",
       "\n",
       "                    differentiate Grade   A Stage Tumor Size Estrogen Status  \\\n",
       "count                        3811  3814      3834       3818            3831   \n",
       "unique                         24     8        12        110              12   \n",
       "top     Moderately differentiated     2  Regional         25        Positive   \n",
       "freq                          761  2231      1231        233            1217   \n",
       "\n",
       "       Progesterone Status Regional Node Examined Reginol Node Positive  \\\n",
       "count                 3805                   3807                  3817   \n",
       "unique                  12                     56                    42   \n",
       "top               Positive                missing                     1   \n",
       "freq                  1087                    216                  1286   \n",
       "\n",
       "       Survival Months Status  \n",
       "count             3798   4024  \n",
       "unique             110      2  \n",
       "top            missing  Alive  \n",
       "freq               226   3408  "
      ]
     },
     "execution_count": 126,
     "metadata": {},
     "output_type": "execute_result"
    }
   ],
   "source": [
    "ndf.describe()"
   ]
  },
  {
   "cell_type": "code",
   "execution_count": 127,
   "metadata": {},
   "outputs": [
    {
     "name": "stdout",
     "output_type": "stream",
     "text": [
      "<class 'pandas.core.frame.DataFrame'>\n",
      "RangeIndex: 4024 entries, 0 to 4023\n",
      "Data columns (total 16 columns):\n",
      " #   Column                  Non-Null Count  Dtype \n",
      "---  ------                  --------------  ----- \n",
      " 0   Age                     3851 non-null   object\n",
      " 1   Race                    3817 non-null   object\n",
      " 2   Marital Status          3830 non-null   object\n",
      " 3   T Stage                 3813 non-null   object\n",
      " 4   N Stage                 3800 non-null   object\n",
      " 5   6th Stage               3803 non-null   object\n",
      " 6   differentiate           3811 non-null   object\n",
      " 7   Grade                   3814 non-null   object\n",
      " 8   A Stage                 3834 non-null   object\n",
      " 9   Tumor Size              3818 non-null   object\n",
      " 10  Estrogen Status         3831 non-null   object\n",
      " 11  Progesterone Status     3805 non-null   object\n",
      " 12  Regional Node Examined  3807 non-null   object\n",
      " 13  Reginol Node Positive   3817 non-null   object\n",
      " 14  Survival Months         3798 non-null   object\n",
      " 15  Status                  4024 non-null   object\n",
      "dtypes: object(16)\n",
      "memory usage: 503.1+ KB\n"
     ]
    }
   ],
   "source": [
    "ndf.info()\n"
   ]
  },
  {
   "cell_type": "code",
   "execution_count": 128,
   "metadata": {},
   "outputs": [
    {
     "data": {
      "text/plain": [
       "Age                       173\n",
       "Race                      207\n",
       "Marital Status            194\n",
       "T Stage                   211\n",
       "N Stage                   224\n",
       "6th Stage                 221\n",
       "differentiate             213\n",
       "Grade                     210\n",
       "A Stage                   190\n",
       "Tumor Size                206\n",
       "Estrogen Status           193\n",
       "Progesterone Status       219\n",
       "Regional Node Examined    217\n",
       "Reginol Node Positive     207\n",
       "Survival Months           226\n",
       "Status                      0\n",
       "dtype: int64"
      ]
     },
     "execution_count": 128,
     "metadata": {},
     "output_type": "execute_result"
    }
   ],
   "source": [
    "missing_data = ndf.isnull().sum()\n",
    "missing_data"
   ]
  },
  {
   "cell_type": "markdown",
   "metadata": {},
   "source": [
    "#### Age "
   ]
  },
  {
   "cell_type": "code",
   "execution_count": 129,
   "metadata": {},
   "outputs": [
    {
     "data": {
      "text/plain": [
       "0       68.0\n",
       "1       50.0\n",
       "2       58.0\n",
       "3       58.0\n",
       "4       47.0\n",
       "        ... \n",
       "4019    62.0\n",
       "4020    56.0\n",
       "4021    68.0\n",
       "4022    58.0\n",
       "4023    46.0\n",
       "Name: Age, Length: 4024, dtype: float64"
      ]
     },
     "execution_count": 129,
     "metadata": {},
     "output_type": "execute_result"
    }
   ],
   "source": [
    "ndf['Age'] = pd.to_numeric(ndf['Age'], errors='coerce')\n",
    "ndf['Age']"
   ]
  },
  {
   "cell_type": "code",
   "execution_count": 130,
   "metadata": {},
   "outputs": [
    {
     "name": "stdout",
     "output_type": "stream",
     "text": [
      "<class 'pandas.core.frame.DataFrame'>\n",
      "RangeIndex: 4024 entries, 0 to 4023\n",
      "Data columns (total 16 columns):\n",
      " #   Column                  Non-Null Count  Dtype  \n",
      "---  ------                  --------------  -----  \n",
      " 0   Age                     3449 non-null   float64\n",
      " 1   Race                    3817 non-null   object \n",
      " 2   Marital Status          3830 non-null   object \n",
      " 3   T Stage                 3813 non-null   object \n",
      " 4   N Stage                 3800 non-null   object \n",
      " 5   6th Stage               3803 non-null   object \n",
      " 6   differentiate           3811 non-null   object \n",
      " 7   Grade                   3814 non-null   object \n",
      " 8   A Stage                 3834 non-null   object \n",
      " 9   Tumor Size              3818 non-null   object \n",
      " 10  Estrogen Status         3831 non-null   object \n",
      " 11  Progesterone Status     3805 non-null   object \n",
      " 12  Regional Node Examined  3807 non-null   object \n",
      " 13  Reginol Node Positive   3817 non-null   object \n",
      " 14  Survival Months         3798 non-null   object \n",
      " 15  Status                  4024 non-null   object \n",
      "dtypes: float64(1), object(15)\n",
      "memory usage: 503.1+ KB\n"
     ]
    }
   ],
   "source": [
    "ndf.info()"
   ]
  },
  {
   "cell_type": "code",
   "execution_count": 131,
   "metadata": {},
   "outputs": [
    {
     "data": {
      "text/plain": [
       "np.int64(575)"
      ]
     },
     "execution_count": 131,
     "metadata": {},
     "output_type": "execute_result"
    }
   ],
   "source": [
    "missing_data = ndf['Age'].isnull().sum()\n",
    "missing_data"
   ]
  },
  {
   "cell_type": "code",
   "execution_count": 132,
   "metadata": {},
   "outputs": [
    {
     "data": {
      "text/plain": [
       "array([68., 50., 58., 47., 51., 40., 69., nan, 65., 56., 43., 48., 57.,\n",
       "       55., 62., 63., 46., 66., 53., 59., 60., 54., 49., 64., 42., 37.,\n",
       "       67., 31., 52., 33., 45., 61., 39., 38., 36., 44., 41., 32., 34.,\n",
       "       30., 35.])"
      ]
     },
     "execution_count": 132,
     "metadata": {},
     "output_type": "execute_result"
    }
   ],
   "source": [
    "df['Age'].unique()"
   ]
  },
  {
   "cell_type": "code",
   "execution_count": 133,
   "metadata": {},
   "outputs": [
    {
     "name": "stdout",
     "output_type": "stream",
     "text": [
      "Mean Age: 53.929834734705715\n",
      "Mode Age: 47.0\n",
      "Median Age: 54.0\n"
     ]
    }
   ],
   "source": [
    "mean_age = ndf['Age'].mean()\n",
    "mode_age = ndf['Age'].mode()[0]\n",
    "median_age = ndf['Age'].median()\n",
    "\n",
    "# Print the results\n",
    "print(f\"Mean Age: {mean_age}\")\n",
    "print(f\"Mode Age: {mode_age}\")\n",
    "print(f\"Median Age: {median_age}\")\n"
   ]
  },
  {
   "cell_type": "code",
   "execution_count": 134,
   "metadata": {},
   "outputs": [],
   "source": [
    "# Fill missing values in Age with the median\n",
    "ndf['Age'].fillna(ndf['Age'].median(), inplace=True)\n"
   ]
  },
  {
   "cell_type": "code",
   "execution_count": 135,
   "metadata": {},
   "outputs": [
    {
     "data": {
      "text/plain": [
       "np.int64(0)"
      ]
     },
     "execution_count": 135,
     "metadata": {},
     "output_type": "execute_result"
    }
   ],
   "source": [
    "ndf['Age'].isnull().sum()"
   ]
  },
  {
   "cell_type": "markdown",
   "metadata": {},
   "source": [
    "#### Race"
   ]
  },
  {
   "cell_type": "code",
   "execution_count": 136,
   "metadata": {},
   "outputs": [
    {
     "data": {
      "text/plain": [
       "array(['White', ' white ', 'WHITE', nan, 'white', ' WHITE ', ' Black ',\n",
       "       ' other ', 'other', ' Other ', 'Other', 'black', ' White ',\n",
       "       ' black ', ' OTHER ', 'Black', 'OTHER', ' BLACK ', 'BLACK'],\n",
       "      dtype=object)"
      ]
     },
     "execution_count": 136,
     "metadata": {},
     "output_type": "execute_result"
    }
   ],
   "source": [
    "ndf['Race'].unique()"
   ]
  },
  {
   "cell_type": "code",
   "execution_count": 137,
   "metadata": {},
   "outputs": [
    {
     "data": {
      "text/plain": [
       "array(['White', nan, 'Black', 'Other'], dtype=object)"
      ]
     },
     "execution_count": 137,
     "metadata": {},
     "output_type": "execute_result"
    }
   ],
   "source": [
    "ndf['Race'] = ndf['Race'].str.strip().str.lower()\n",
    "\n",
    "ndf['Race'] = ndf['Race'].replace({\n",
    "    'white': 'White', \n",
    "    'black': 'Black', \n",
    "    'other': 'Other'\n",
    "})\n",
    "\n",
    "ndf['Race'].unique()\n"
   ]
  },
  {
   "cell_type": "code",
   "execution_count": 138,
   "metadata": {},
   "outputs": [
    {
     "name": "stdout",
     "output_type": "stream",
     "text": [
      "Race\n",
      "White    3241\n",
      "Other     302\n",
      "Black     274\n",
      "NaN       207\n",
      "Name: count, dtype: int64\n"
     ]
    }
   ],
   "source": [
    "race_frequency = ndf['Race'].value_counts(dropna=False)\n",
    "\n",
    "print(race_frequency)\n"
   ]
  },
  {
   "cell_type": "code",
   "execution_count": 139,
   "metadata": {},
   "outputs": [
    {
     "name": "stderr",
     "output_type": "stream",
     "text": [
      "C:\\Users\\Concept D\\AppData\\Local\\Temp\\ipykernel_25804\\1498493891.py:2: FutureWarning: A value is trying to be set on a copy of a DataFrame or Series through chained assignment using an inplace method.\n",
      "The behavior will change in pandas 3.0. This inplace method will never work because the intermediate object on which we are setting values always behaves as a copy.\n",
      "\n",
      "For example, when doing 'df[col].method(value, inplace=True)', try using 'df.method({col: value}, inplace=True)' or df[col] = df[col].method(value) instead, to perform the operation inplace on the original object.\n",
      "\n",
      "\n",
      "  ndf['Race'].fillna(most_frequent_race, inplace=True)\n"
     ]
    }
   ],
   "source": [
    "most_frequent_race = ndf['Race'].mode()[0] \n",
    "ndf['Race'].fillna(most_frequent_race, inplace=True)\n"
   ]
  },
  {
   "cell_type": "code",
   "execution_count": 140,
   "metadata": {},
   "outputs": [
    {
     "data": {
      "text/plain": [
       "array(['White', 'Black', 'Other'], dtype=object)"
      ]
     },
     "execution_count": 140,
     "metadata": {},
     "output_type": "execute_result"
    }
   ],
   "source": [
    "ndf['Race'].unique()"
   ]
  },
  {
   "cell_type": "code",
   "execution_count": 141,
   "metadata": {},
   "outputs": [
    {
     "data": {
      "text/html": [
       "<div>\n",
       "<style scoped>\n",
       "    .dataframe tbody tr th:only-of-type {\n",
       "        vertical-align: middle;\n",
       "    }\n",
       "\n",
       "    .dataframe tbody tr th {\n",
       "        vertical-align: top;\n",
       "    }\n",
       "\n",
       "    .dataframe thead th {\n",
       "        text-align: right;\n",
       "    }\n",
       "</style>\n",
       "<table border=\"1\" class=\"dataframe\">\n",
       "  <thead>\n",
       "    <tr style=\"text-align: right;\">\n",
       "      <th></th>\n",
       "      <th>Age</th>\n",
       "      <th>Marital Status</th>\n",
       "      <th>T Stage</th>\n",
       "      <th>N Stage</th>\n",
       "      <th>6th Stage</th>\n",
       "      <th>differentiate</th>\n",
       "      <th>Grade</th>\n",
       "      <th>A Stage</th>\n",
       "      <th>Tumor Size</th>\n",
       "      <th>Estrogen Status</th>\n",
       "      <th>Progesterone Status</th>\n",
       "      <th>Regional Node Examined</th>\n",
       "      <th>Reginol Node Positive</th>\n",
       "      <th>Survival Months</th>\n",
       "      <th>Status</th>\n",
       "      <th>Race_Black</th>\n",
       "      <th>Race_Other</th>\n",
       "      <th>Race_White</th>\n",
       "    </tr>\n",
       "  </thead>\n",
       "  <tbody>\n",
       "    <tr>\n",
       "      <th>0</th>\n",
       "      <td>68.0</td>\n",
       "      <td>Married</td>\n",
       "      <td>T1</td>\n",
       "      <td>N1</td>\n",
       "      <td>iia</td>\n",
       "      <td>Poorly differentiated</td>\n",
       "      <td>3</td>\n",
       "      <td>REGIONAL</td>\n",
       "      <td>missing</td>\n",
       "      <td>positive</td>\n",
       "      <td>positive</td>\n",
       "      <td>24</td>\n",
       "      <td>1</td>\n",
       "      <td>MISSING</td>\n",
       "      <td>Alive</td>\n",
       "      <td>False</td>\n",
       "      <td>False</td>\n",
       "      <td>True</td>\n",
       "    </tr>\n",
       "    <tr>\n",
       "      <th>1</th>\n",
       "      <td>50.0</td>\n",
       "      <td>married</td>\n",
       "      <td>t2</td>\n",
       "      <td>N2</td>\n",
       "      <td>IIIA</td>\n",
       "      <td>Moderately differentiated</td>\n",
       "      <td>2</td>\n",
       "      <td>Regional</td>\n",
       "      <td>35</td>\n",
       "      <td>positive</td>\n",
       "      <td>Positive</td>\n",
       "      <td>14</td>\n",
       "      <td>NaN</td>\n",
       "      <td>62</td>\n",
       "      <td>Alive</td>\n",
       "      <td>False</td>\n",
       "      <td>False</td>\n",
       "      <td>True</td>\n",
       "    </tr>\n",
       "    <tr>\n",
       "      <th>2</th>\n",
       "      <td>58.0</td>\n",
       "      <td>Divorced</td>\n",
       "      <td>T3</td>\n",
       "      <td>N3</td>\n",
       "      <td>IIIC</td>\n",
       "      <td>Moderately differentiated</td>\n",
       "      <td>2</td>\n",
       "      <td>REGIONAL</td>\n",
       "      <td>63</td>\n",
       "      <td>Positive</td>\n",
       "      <td>NaN</td>\n",
       "      <td>14</td>\n",
       "      <td>NaN</td>\n",
       "      <td>75</td>\n",
       "      <td>Alive</td>\n",
       "      <td>False</td>\n",
       "      <td>False</td>\n",
       "      <td>True</td>\n",
       "    </tr>\n",
       "    <tr>\n",
       "      <th>3</th>\n",
       "      <td>58.0</td>\n",
       "      <td>married</td>\n",
       "      <td>T1</td>\n",
       "      <td>N1</td>\n",
       "      <td>IIA</td>\n",
       "      <td>Poorly differentiated</td>\n",
       "      <td>NaN</td>\n",
       "      <td>Regional</td>\n",
       "      <td>18</td>\n",
       "      <td>positive</td>\n",
       "      <td>POSITIVE</td>\n",
       "      <td>2</td>\n",
       "      <td>1</td>\n",
       "      <td>84</td>\n",
       "      <td>Alive</td>\n",
       "      <td>False</td>\n",
       "      <td>False</td>\n",
       "      <td>True</td>\n",
       "    </tr>\n",
       "    <tr>\n",
       "      <th>4</th>\n",
       "      <td>47.0</td>\n",
       "      <td>MARRIED</td>\n",
       "      <td>t2</td>\n",
       "      <td>N1</td>\n",
       "      <td>IIB</td>\n",
       "      <td>POORLY DIFFERENTIATED</td>\n",
       "      <td>3</td>\n",
       "      <td>regional</td>\n",
       "      <td>missing</td>\n",
       "      <td>Positive</td>\n",
       "      <td>POSITIVE</td>\n",
       "      <td>MISSING</td>\n",
       "      <td>1</td>\n",
       "      <td>50</td>\n",
       "      <td>Alive</td>\n",
       "      <td>False</td>\n",
       "      <td>False</td>\n",
       "      <td>True</td>\n",
       "    </tr>\n",
       "  </tbody>\n",
       "</table>\n",
       "</div>"
      ],
      "text/plain": [
       "    Age Marital Status T Stage  N Stage 6th Stage  \\\n",
       "0  68.0        Married       T1      N1       iia   \n",
       "1  50.0        married       t2      N2      IIIA   \n",
       "2  58.0      Divorced        T3     N3      IIIC    \n",
       "3  58.0        married       T1      N1      IIA    \n",
       "4  47.0        MARRIED      t2      N1        IIB   \n",
       "\n",
       "                 differentiate Grade     A Stage Tumor Size Estrogen Status  \\\n",
       "0        Poorly differentiated     3   REGIONAL     missing       positive    \n",
       "1   Moderately differentiated      2    Regional         35       positive    \n",
       "2    Moderately differentiated     2    REGIONAL         63       Positive    \n",
       "3        Poorly differentiated   NaN    Regional         18        positive   \n",
       "4        POORLY DIFFERENTIATED     3   regional     missing        Positive   \n",
       "\n",
       "  Progesterone Status Regional Node Examined Reginol Node Positive  \\\n",
       "0           positive                      24                     1   \n",
       "1           Positive                      14                   NaN   \n",
       "2                 NaN                     14                   NaN   \n",
       "3            POSITIVE                      2                     1   \n",
       "4           POSITIVE                 MISSING                     1   \n",
       "\n",
       "  Survival Months Status  Race_Black  Race_Other  Race_White  \n",
       "0         MISSING  Alive       False       False        True  \n",
       "1              62  Alive       False       False        True  \n",
       "2              75  Alive       False       False        True  \n",
       "3              84  Alive       False       False        True  \n",
       "4              50  Alive       False       False        True  "
      ]
     },
     "execution_count": 141,
     "metadata": {},
     "output_type": "execute_result"
    }
   ],
   "source": [
    "# Perform one-hot encoding on the 'Race' column\n",
    "ndf = pd.get_dummies(ndf, columns=['Race'], drop_first=False)\n",
    "\n",
    "ndf.head()"
   ]
  },
  {
   "cell_type": "code",
   "execution_count": 142,
   "metadata": {},
   "outputs": [
    {
     "name": "stdout",
     "output_type": "stream",
     "text": [
      "<class 'pandas.core.frame.DataFrame'>\n",
      "RangeIndex: 4024 entries, 0 to 4023\n",
      "Data columns (total 18 columns):\n",
      " #   Column                  Non-Null Count  Dtype  \n",
      "---  ------                  --------------  -----  \n",
      " 0   Age                     4024 non-null   float64\n",
      " 1   Marital Status          3830 non-null   object \n",
      " 2   T Stage                 3813 non-null   object \n",
      " 3   N Stage                 3800 non-null   object \n",
      " 4   6th Stage               3803 non-null   object \n",
      " 5   differentiate           3811 non-null   object \n",
      " 6   Grade                   3814 non-null   object \n",
      " 7   A Stage                 3834 non-null   object \n",
      " 8   Tumor Size              3818 non-null   object \n",
      " 9   Estrogen Status         3831 non-null   object \n",
      " 10  Progesterone Status     3805 non-null   object \n",
      " 11  Regional Node Examined  3807 non-null   object \n",
      " 12  Reginol Node Positive   3817 non-null   object \n",
      " 13  Survival Months         3798 non-null   object \n",
      " 14  Status                  4024 non-null   object \n",
      " 15  Race_Black              4024 non-null   int64  \n",
      " 16  Race_Other              4024 non-null   int64  \n",
      " 17  Race_White              4024 non-null   int64  \n",
      "dtypes: float64(1), int64(3), object(14)\n",
      "memory usage: 566.0+ KB\n"
     ]
    }
   ],
   "source": [
    "ndf['Race_White'] = ndf['Race_White'].astype(int)\n",
    "ndf['Race_Black'] = ndf['Race_Black'].astype(int)\n",
    "ndf['Race_Other'] = ndf['Race_Other'].astype(int)\n",
    "\n",
    "ndf.info()"
   ]
  },
  {
   "cell_type": "markdown",
   "metadata": {},
   "source": [
    "#### Marital Status"
   ]
  },
  {
   "cell_type": "code",
   "execution_count": 143,
   "metadata": {},
   "outputs": [
    {
     "data": {
      "text/plain": [
       "array(['Married', 'married', ' Divorced ', 'MARRIED', nan, 'widowed',\n",
       "       ' MARRIED ', 'Divorced', ' married ', ' Single ', ' DIVORCED ',\n",
       "       ' Married ', ' SINGLE ', 'DIVORCED', 'separated', 'single',\n",
       "       'Widowed', 'Single', ' Widowed ', ' single ', 'SINGLE',\n",
       "       ' WIDOWED ', 'divorced', 'WIDOWED', ' divorced ', 'SEPARATED',\n",
       "       ' separated ', ' widowed ', 'Separated', ' Separated ',\n",
       "       ' SEPARATED '], dtype=object)"
      ]
     },
     "execution_count": 143,
     "metadata": {},
     "output_type": "execute_result"
    }
   ],
   "source": [
    "ndf['Marital Status'].unique()"
   ]
  },
  {
   "cell_type": "code",
   "execution_count": 144,
   "metadata": {},
   "outputs": [
    {
     "data": {
      "text/plain": [
       "array(['married', 'divorced', nan, 'widowed', 'single', 'separated'],\n",
       "      dtype=object)"
      ]
     },
     "execution_count": 144,
     "metadata": {},
     "output_type": "execute_result"
    }
   ],
   "source": [
    "ndf['Marital Status'] = ndf['Marital Status'].str.strip().str.lower()\n",
    "\n",
    "ndf['Marital Status'] = ndf['Marital Status'].replace({\n",
    "    'married': 'married',\n",
    "    'marrried': 'married',\n",
    "    'single': 'single',\n",
    "    'widowed': 'widowed',\n",
    "    'divorced': 'divorced',\n",
    "    'separated': 'separated'\n",
    "})\n",
    "ndf['Marital Status'].unique()\n"
   ]
  },
  {
   "cell_type": "code",
   "execution_count": 145,
   "metadata": {},
   "outputs": [
    {
     "data": {
      "text/plain": [
       "Marital Status\n",
       "married      2504\n",
       "single        591\n",
       "divorced      464\n",
       "widowed       228\n",
       "NaN           194\n",
       "separated      43\n",
       "Name: count, dtype: int64"
      ]
     },
     "execution_count": 145,
     "metadata": {},
     "output_type": "execute_result"
    }
   ],
   "source": [
    "Marital_Status_frequency = ndf['Marital Status'].value_counts(dropna=False)\n",
    "\n",
    "Marital_Status_frequency"
   ]
  },
  {
   "cell_type": "code",
   "execution_count": 146,
   "metadata": {},
   "outputs": [
    {
     "name": "stderr",
     "output_type": "stream",
     "text": [
      "C:\\Users\\Concept D\\AppData\\Local\\Temp\\ipykernel_25804\\3432635002.py:2: FutureWarning: A value is trying to be set on a copy of a DataFrame or Series through chained assignment using an inplace method.\n",
      "The behavior will change in pandas 3.0. This inplace method will never work because the intermediate object on which we are setting values always behaves as a copy.\n",
      "\n",
      "For example, when doing 'df[col].method(value, inplace=True)', try using 'df.method({col: value}, inplace=True)' or df[col] = df[col].method(value) instead, to perform the operation inplace on the original object.\n",
      "\n",
      "\n",
      "  ndf['Marital Status'].fillna(most_frequent_value, inplace=True)\n"
     ]
    }
   ],
   "source": [
    "most_frequent_value = ndf['Marital Status'].mode()[0]\n",
    "ndf['Marital Status'].fillna(most_frequent_value, inplace=True)\n"
   ]
  },
  {
   "cell_type": "code",
   "execution_count": 147,
   "metadata": {},
   "outputs": [
    {
     "data": {
      "text/plain": [
       "Marital Status\n",
       "married      2698\n",
       "single        591\n",
       "divorced      464\n",
       "widowed       228\n",
       "separated      43\n",
       "Name: count, dtype: int64"
      ]
     },
     "execution_count": 147,
     "metadata": {},
     "output_type": "execute_result"
    }
   ],
   "source": [
    "Marital_Status_frequency = ndf['Marital Status'].value_counts(dropna=False)\n",
    "\n",
    "Marital_Status_frequency"
   ]
  },
  {
   "cell_type": "code",
   "execution_count": 148,
   "metadata": {},
   "outputs": [
    {
     "name": "stdout",
     "output_type": "stream",
     "text": [
      "<class 'pandas.core.frame.DataFrame'>\n",
      "RangeIndex: 4024 entries, 0 to 4023\n",
      "Data columns (total 22 columns):\n",
      " #   Column                    Non-Null Count  Dtype  \n",
      "---  ------                    --------------  -----  \n",
      " 0   Age                       4024 non-null   float64\n",
      " 1   T Stage                   3813 non-null   object \n",
      " 2   N Stage                   3800 non-null   object \n",
      " 3   6th Stage                 3803 non-null   object \n",
      " 4   differentiate             3811 non-null   object \n",
      " 5   Grade                     3814 non-null   object \n",
      " 6   A Stage                   3834 non-null   object \n",
      " 7   Tumor Size                3818 non-null   object \n",
      " 8   Estrogen Status           3831 non-null   object \n",
      " 9   Progesterone Status       3805 non-null   object \n",
      " 10  Regional Node Examined    3807 non-null   object \n",
      " 11  Reginol Node Positive     3817 non-null   object \n",
      " 12  Survival Months           3798 non-null   object \n",
      " 13  Status                    4024 non-null   object \n",
      " 14  Race_Black                4024 non-null   int64  \n",
      " 15  Race_Other                4024 non-null   int64  \n",
      " 16  Race_White                4024 non-null   int64  \n",
      " 17  Marital Status_divorced   4024 non-null   bool   \n",
      " 18  Marital Status_married    4024 non-null   bool   \n",
      " 19  Marital Status_separated  4024 non-null   bool   \n",
      " 20  Marital Status_single     4024 non-null   bool   \n",
      " 21  Marital Status_widowed    4024 non-null   bool   \n",
      "dtypes: bool(5), float64(1), int64(3), object(13)\n",
      "memory usage: 554.2+ KB\n"
     ]
    }
   ],
   "source": [
    "ndf = pd.get_dummies(ndf, columns=['Marital Status'], drop_first=False)\n",
    "\n",
    "ndf.info()"
   ]
  },
  {
   "cell_type": "code",
   "execution_count": 149,
   "metadata": {},
   "outputs": [
    {
     "name": "stdout",
     "output_type": "stream",
     "text": [
      "<class 'pandas.core.frame.DataFrame'>\n",
      "RangeIndex: 4024 entries, 0 to 4023\n",
      "Data columns (total 22 columns):\n",
      " #   Column                    Non-Null Count  Dtype  \n",
      "---  ------                    --------------  -----  \n",
      " 0   Age                       4024 non-null   float64\n",
      " 1   T Stage                   3813 non-null   object \n",
      " 2   N Stage                   3800 non-null   object \n",
      " 3   6th Stage                 3803 non-null   object \n",
      " 4   differentiate             3811 non-null   object \n",
      " 5   Grade                     3814 non-null   object \n",
      " 6   A Stage                   3834 non-null   object \n",
      " 7   Tumor Size                3818 non-null   object \n",
      " 8   Estrogen Status           3831 non-null   object \n",
      " 9   Progesterone Status       3805 non-null   object \n",
      " 10  Regional Node Examined    3807 non-null   object \n",
      " 11  Reginol Node Positive     3817 non-null   object \n",
      " 12  Survival Months           3798 non-null   object \n",
      " 13  Status                    4024 non-null   object \n",
      " 14  Race_Black                4024 non-null   int64  \n",
      " 15  Race_Other                4024 non-null   int64  \n",
      " 16  Race_White                4024 non-null   int64  \n",
      " 17  Marital Status_divorced   4024 non-null   int64  \n",
      " 18  Marital Status_married    4024 non-null   int64  \n",
      " 19  Marital Status_separated  4024 non-null   int64  \n",
      " 20  Marital Status_single     4024 non-null   int64  \n",
      " 21  Marital Status_widowed    4024 non-null   int64  \n",
      "dtypes: float64(1), int64(8), object(13)\n",
      "memory usage: 691.8+ KB\n"
     ]
    }
   ],
   "source": [
    "ndf['Marital Status_widowed'] = ndf['Marital Status_widowed'].astype(int)\n",
    "ndf['Marital Status_single'] = ndf['Marital Status_single'].astype(int)\n",
    "ndf['Marital Status_married'] = ndf['Marital Status_married'].astype(int)\n",
    "ndf['Marital Status_separated'] = ndf['Marital Status_separated'].astype(int)\n",
    "ndf['Marital Status_divorced'] = ndf['Marital Status_divorced'].astype(int)\n",
    "\n",
    "\n",
    "ndf.info()"
   ]
  },
  {
   "cell_type": "code",
   "execution_count": 150,
   "metadata": {},
   "outputs": [
    {
     "data": {
      "text/plain": [
       "(4024, 22)"
      ]
     },
     "execution_count": 150,
     "metadata": {},
     "output_type": "execute_result"
    }
   ],
   "source": [
    "ndf.shape"
   ]
  },
  {
   "cell_type": "markdown",
   "metadata": {},
   "source": [
    "#### Edit Columns"
   ]
  },
  {
   "cell_type": "code",
   "execution_count": 151,
   "metadata": {},
   "outputs": [
    {
     "name": "stdout",
     "output_type": "stream",
     "text": [
      "Index(['Age', 'T_Stage_', 'N_Stage', '6th_Stage', 'differentiate', 'Grade',\n",
      "       'A_Stage', 'Tumor_Size', 'Estrogen_Status', 'Progesterone_Status',\n",
      "       'Regional_Node_Examined', 'Reginol_Node_Positive', 'Survival_Months',\n",
      "       'Status', 'Race_Black', 'Race_Other', 'Race_White',\n",
      "       'Marital_Status_divorced', 'Marital_Status_married',\n",
      "       'Marital_Status_separated', 'Marital_Status_single',\n",
      "       'Marital_Status_widowed'],\n",
      "      dtype='object')\n"
     ]
    }
   ],
   "source": [
    "ndf.columns = ndf.columns.str.replace(' ', '_')\n",
    "\n",
    "# Display the updated column names\n",
    "print(ndf.columns)\n"
   ]
  },
  {
   "cell_type": "markdown",
   "metadata": {},
   "source": [
    "#### Adjusted AJCC 6th T\n"
   ]
  },
  {
   "cell_type": "code",
   "execution_count": 152,
   "metadata": {},
   "outputs": [
    {
     "data": {
      "text/plain": [
       "array(['T1', 'T2', 'T3', nan, 'T4'], dtype=object)"
      ]
     },
     "execution_count": 152,
     "metadata": {},
     "output_type": "execute_result"
    }
   ],
   "source": [
    "ndf['T_Stage_'] = ndf['T_Stage_'].str.strip().str.upper()\n",
    "\n",
    "ndf['T_Stage_'].unique()"
   ]
  },
  {
   "cell_type": "code",
   "execution_count": 153,
   "metadata": {},
   "outputs": [
    {
     "data": {
      "text/plain": [
       "T_Stage_\n",
       "T2     1702\n",
       "T1     1516\n",
       "T3      500\n",
       "NaN     211\n",
       "T4       95\n",
       "Name: count, dtype: int64"
      ]
     },
     "execution_count": 153,
     "metadata": {},
     "output_type": "execute_result"
    }
   ],
   "source": [
    "T_Stage_frequency = ndf['T_Stage_'].value_counts(dropna=False)\n",
    "\n",
    "T_Stage_frequency"
   ]
  },
  {
   "cell_type": "code",
   "execution_count": 154,
   "metadata": {},
   "outputs": [
    {
     "name": "stderr",
     "output_type": "stream",
     "text": [
      "C:\\Users\\Concept D\\AppData\\Local\\Temp\\ipykernel_25804\\668313778.py:1: FutureWarning: A value is trying to be set on a copy of a DataFrame or Series through chained assignment using an inplace method.\n",
      "The behavior will change in pandas 3.0. This inplace method will never work because the intermediate object on which we are setting values always behaves as a copy.\n",
      "\n",
      "For example, when doing 'df[col].method(value, inplace=True)', try using 'df.method({col: value}, inplace=True)' or df[col] = df[col].method(value) instead, to perform the operation inplace on the original object.\n",
      "\n",
      "\n",
      "  ndf['T_Stage_'].fillna('T2', inplace=True)\n"
     ]
    }
   ],
   "source": [
    "ndf['T_Stage_'].fillna('T2', inplace=True)\n"
   ]
  },
  {
   "cell_type": "code",
   "execution_count": 155,
   "metadata": {},
   "outputs": [
    {
     "data": {
      "text/plain": [
       "T_Stage_\n",
       "T2    1913\n",
       "T1    1516\n",
       "T3     500\n",
       "T4      95\n",
       "Name: count, dtype: int64"
      ]
     },
     "execution_count": 155,
     "metadata": {},
     "output_type": "execute_result"
    }
   ],
   "source": [
    "T_Stage_frequency = ndf['T_Stage_'].value_counts(dropna=False)\n",
    "\n",
    "T_Stage_frequency"
   ]
  },
  {
   "cell_type": "code",
   "execution_count": 156,
   "metadata": {},
   "outputs": [
    {
     "name": "stderr",
     "output_type": "stream",
     "text": [
      "C:\\Users\\Concept D\\AppData\\Local\\Temp\\ipykernel_25804\\2357429313.py:1: FutureWarning: Downcasting behavior in `replace` is deprecated and will be removed in a future version. To retain the old behavior, explicitly call `result.infer_objects(copy=False)`. To opt-in to the future behavior, set `pd.set_option('future.no_silent_downcasting', True)`\n",
      "  ndf['T_Stage_'] = ndf['T_Stage_'].replace({'T1': 1, 'T2': 2, 'T3': 3, 'T4': 4})\n"
     ]
    },
    {
     "data": {
      "text/plain": [
       "array([1, 2, 3, 4])"
      ]
     },
     "execution_count": 156,
     "metadata": {},
     "output_type": "execute_result"
    }
   ],
   "source": [
    "ndf['T_Stage_'] = ndf['T_Stage_'].replace({'T1': 1, 'T2': 2, 'T3': 3, 'T4': 4})\n",
    "\n",
    "ndf['T_Stage_'].unique()\n"
   ]
  },
  {
   "cell_type": "code",
   "execution_count": 157,
   "metadata": {},
   "outputs": [
    {
     "name": "stdout",
     "output_type": "stream",
     "text": [
      "<class 'pandas.core.frame.DataFrame'>\n",
      "RangeIndex: 4024 entries, 0 to 4023\n",
      "Data columns (total 22 columns):\n",
      " #   Column                    Non-Null Count  Dtype  \n",
      "---  ------                    --------------  -----  \n",
      " 0   Age                       4024 non-null   float64\n",
      " 1   T_Stage_                  4024 non-null   int64  \n",
      " 2   N_Stage                   3800 non-null   object \n",
      " 3   6th_Stage                 3803 non-null   object \n",
      " 4   differentiate             3811 non-null   object \n",
      " 5   Grade                     3814 non-null   object \n",
      " 6   A_Stage                   3834 non-null   object \n",
      " 7   Tumor_Size                3818 non-null   object \n",
      " 8   Estrogen_Status           3831 non-null   object \n",
      " 9   Progesterone_Status       3805 non-null   object \n",
      " 10  Regional_Node_Examined    3807 non-null   object \n",
      " 11  Reginol_Node_Positive     3817 non-null   object \n",
      " 12  Survival_Months           3798 non-null   object \n",
      " 13  Status                    4024 non-null   object \n",
      " 14  Race_Black                4024 non-null   int64  \n",
      " 15  Race_Other                4024 non-null   int64  \n",
      " 16  Race_White                4024 non-null   int64  \n",
      " 17  Marital_Status_divorced   4024 non-null   int64  \n",
      " 18  Marital_Status_married    4024 non-null   int64  \n",
      " 19  Marital_Status_separated  4024 non-null   int64  \n",
      " 20  Marital_Status_single     4024 non-null   int64  \n",
      " 21  Marital_Status_widowed    4024 non-null   int64  \n",
      "dtypes: float64(1), int64(9), object(12)\n",
      "memory usage: 691.8+ KB\n"
     ]
    }
   ],
   "source": [
    "ndf.info()"
   ]
  },
  {
   "cell_type": "markdown",
   "metadata": {},
   "source": [
    "#### N Stage "
   ]
  },
  {
   "cell_type": "code",
   "execution_count": 158,
   "metadata": {},
   "outputs": [
    {
     "data": {
      "text/plain": [
       "array(['N1', 'N2', ' N3 ', ' N1 ', ' n1 ', nan, 'N3', 'n1', ' n3 ', 'n3',\n",
       "       'n2', ' N2 ', ' n2 '], dtype=object)"
      ]
     },
     "execution_count": 158,
     "metadata": {},
     "output_type": "execute_result"
    }
   ],
   "source": [
    "ndf['N_Stage'].unique()\n"
   ]
  },
  {
   "cell_type": "code",
   "execution_count": 159,
   "metadata": {},
   "outputs": [
    {
     "data": {
      "text/plain": [
       "array(['N1', 'N2', 'N3', nan], dtype=object)"
      ]
     },
     "execution_count": 159,
     "metadata": {},
     "output_type": "execute_result"
    }
   ],
   "source": [
    "ndf['N_Stage'] = ndf['N_Stage'].str.strip().str.upper()\n",
    "\n",
    "ndf['N_Stage'].unique()"
   ]
  },
  {
   "cell_type": "code",
   "execution_count": 160,
   "metadata": {},
   "outputs": [
    {
     "data": {
      "text/plain": [
       "N_Stage\n",
       "N1     2574\n",
       "N2      787\n",
       "N3      439\n",
       "NaN     224\n",
       "Name: count, dtype: int64"
      ]
     },
     "execution_count": 160,
     "metadata": {},
     "output_type": "execute_result"
    }
   ],
   "source": [
    "N_Stage_frequency = ndf['N_Stage'].value_counts(dropna=False)\n",
    "\n",
    "N_Stage_frequency"
   ]
  },
  {
   "cell_type": "code",
   "execution_count": 161,
   "metadata": {},
   "outputs": [
    {
     "name": "stderr",
     "output_type": "stream",
     "text": [
      "C:\\Users\\Concept D\\AppData\\Local\\Temp\\ipykernel_25804\\750662734.py:1: FutureWarning: A value is trying to be set on a copy of a DataFrame or Series through chained assignment using an inplace method.\n",
      "The behavior will change in pandas 3.0. This inplace method will never work because the intermediate object on which we are setting values always behaves as a copy.\n",
      "\n",
      "For example, when doing 'df[col].method(value, inplace=True)', try using 'df.method({col: value}, inplace=True)' or df[col] = df[col].method(value) instead, to perform the operation inplace on the original object.\n",
      "\n",
      "\n",
      "  ndf['N_Stage'].fillna('N1', inplace=True)\n"
     ]
    }
   ],
   "source": [
    "ndf['N_Stage'].fillna('N1', inplace=True)\n"
   ]
  },
  {
   "cell_type": "code",
   "execution_count": 162,
   "metadata": {},
   "outputs": [
    {
     "data": {
      "text/plain": [
       "N_Stage\n",
       "N1    2798\n",
       "N2     787\n",
       "N3     439\n",
       "Name: count, dtype: int64"
      ]
     },
     "execution_count": 162,
     "metadata": {},
     "output_type": "execute_result"
    }
   ],
   "source": [
    "N_Stage_frequency = ndf['N_Stage'].value_counts(dropna=False)\n",
    "\n",
    "N_Stage_frequency"
   ]
  },
  {
   "cell_type": "code",
   "execution_count": 163,
   "metadata": {},
   "outputs": [
    {
     "name": "stderr",
     "output_type": "stream",
     "text": [
      "C:\\Users\\Concept D\\AppData\\Local\\Temp\\ipykernel_25804\\4016260961.py:1: FutureWarning: Downcasting behavior in `replace` is deprecated and will be removed in a future version. To retain the old behavior, explicitly call `result.infer_objects(copy=False)`. To opt-in to the future behavior, set `pd.set_option('future.no_silent_downcasting', True)`\n",
      "  ndf['N_Stage'] = ndf['N_Stage'].replace({'N1': 1, 'N2': 2, 'N3': 3})\n"
     ]
    },
    {
     "data": {
      "text/plain": [
       "array([1, 2, 3])"
      ]
     },
     "execution_count": 163,
     "metadata": {},
     "output_type": "execute_result"
    }
   ],
   "source": [
    "ndf['N_Stage'] = ndf['N_Stage'].replace({'N1': 1, 'N2': 2, 'N3': 3})\n",
    "\n",
    "ndf['N_Stage'].unique()\n"
   ]
  },
  {
   "cell_type": "code",
   "execution_count": 164,
   "metadata": {},
   "outputs": [
    {
     "name": "stdout",
     "output_type": "stream",
     "text": [
      "<class 'pandas.core.frame.DataFrame'>\n",
      "RangeIndex: 4024 entries, 0 to 4023\n",
      "Data columns (total 22 columns):\n",
      " #   Column                    Non-Null Count  Dtype  \n",
      "---  ------                    --------------  -----  \n",
      " 0   Age                       4024 non-null   float64\n",
      " 1   T_Stage_                  4024 non-null   int64  \n",
      " 2   N_Stage                   4024 non-null   int64  \n",
      " 3   6th_Stage                 3803 non-null   object \n",
      " 4   differentiate             3811 non-null   object \n",
      " 5   Grade                     3814 non-null   object \n",
      " 6   A_Stage                   3834 non-null   object \n",
      " 7   Tumor_Size                3818 non-null   object \n",
      " 8   Estrogen_Status           3831 non-null   object \n",
      " 9   Progesterone_Status       3805 non-null   object \n",
      " 10  Regional_Node_Examined    3807 non-null   object \n",
      " 11  Reginol_Node_Positive     3817 non-null   object \n",
      " 12  Survival_Months           3798 non-null   object \n",
      " 13  Status                    4024 non-null   object \n",
      " 14  Race_Black                4024 non-null   int64  \n",
      " 15  Race_Other                4024 non-null   int64  \n",
      " 16  Race_White                4024 non-null   int64  \n",
      " 17  Marital_Status_divorced   4024 non-null   int64  \n",
      " 18  Marital_Status_married    4024 non-null   int64  \n",
      " 19  Marital_Status_separated  4024 non-null   int64  \n",
      " 20  Marital_Status_single     4024 non-null   int64  \n",
      " 21  Marital_Status_widowed    4024 non-null   int64  \n",
      "dtypes: float64(1), int64(10), object(11)\n",
      "memory usage: 691.8+ KB\n"
     ]
    }
   ],
   "source": [
    "ndf.info()"
   ]
  },
  {
   "cell_type": "markdown",
   "metadata": {},
   "source": [
    "#### 6th Stage\n",
    "##### Breast Adjusted AJCC 6th Stage"
   ]
  },
  {
   "cell_type": "code",
   "execution_count": 165,
   "metadata": {},
   "outputs": [
    {
     "data": {
      "text/plain": [
       "array(['iia', 'IIIA', ' IIIC ', ' IIA ', 'IIB', 'IIA', nan, 'IIIC',\n",
       "       'iiia', ' iib ', 'iib', 'iiic', ' IIIA ', ' iiic ', ' IIB ',\n",
       "       ' iiia ', ' iia ', ' IIIB ', 'IIIB', 'iiib', ' iiib '],\n",
       "      dtype=object)"
      ]
     },
     "execution_count": 165,
     "metadata": {},
     "output_type": "execute_result"
    }
   ],
   "source": [
    "ndf['6th_Stage'].unique()"
   ]
  },
  {
   "cell_type": "code",
   "execution_count": 166,
   "metadata": {},
   "outputs": [
    {
     "name": "stdout",
     "output_type": "stream",
     "text": [
      "['IIA' 'IIIA' 'IIIC' 'IIB' nan 'IIIB']\n"
     ]
    }
   ],
   "source": [
    "ndf['6th_Stage'] = ndf['6th_Stage'].str.strip().str.upper()\n",
    "\n",
    "ndf['6th_Stage'] = ndf['6th_Stage'].replace({\n",
    "    'IIA': 'IIA', 'IIIB': 'IIIB', 'IIIA': 'IIIA', 'IIB': 'IIB',\n",
    "    'III': 'IIIC', 'IIIC': 'IIIC'\n",
    "})\n",
    "\n",
    "print(ndf['6th_Stage'].unique())\n"
   ]
  },
  {
   "cell_type": "code",
   "execution_count": 167,
   "metadata": {},
   "outputs": [
    {
     "data": {
      "text/plain": [
       "6th_Stage\n",
       "IIA     1245\n",
       "IIB     1055\n",
       "IIIA     994\n",
       "IIIC     448\n",
       "NaN      221\n",
       "IIIB      61\n",
       "Name: count, dtype: int64"
      ]
     },
     "execution_count": 167,
     "metadata": {},
     "output_type": "execute_result"
    }
   ],
   "source": [
    "_6th_Stage_frequency = ndf['6th_Stage'].value_counts(dropna=False)\n",
    "\n",
    "_6th_Stage_frequency"
   ]
  },
  {
   "cell_type": "code",
   "execution_count": 168,
   "metadata": {},
   "outputs": [
    {
     "name": "stderr",
     "output_type": "stream",
     "text": [
      "C:\\Users\\Concept D\\AppData\\Local\\Temp\\ipykernel_25804\\3873962072.py:1: FutureWarning: A value is trying to be set on a copy of a DataFrame or Series through chained assignment using an inplace method.\n",
      "The behavior will change in pandas 3.0. This inplace method will never work because the intermediate object on which we are setting values always behaves as a copy.\n",
      "\n",
      "For example, when doing 'df[col].method(value, inplace=True)', try using 'df.method({col: value}, inplace=True)' or df[col] = df[col].method(value) instead, to perform the operation inplace on the original object.\n",
      "\n",
      "\n",
      "  ndf['6th_Stage'].fillna('IIA', inplace=True)\n"
     ]
    },
    {
     "data": {
      "text/plain": [
       "6th_Stage\n",
       "IIA     1466\n",
       "IIB     1055\n",
       "IIIA     994\n",
       "IIIC     448\n",
       "IIIB      61\n",
       "Name: count, dtype: int64"
      ]
     },
     "execution_count": 168,
     "metadata": {},
     "output_type": "execute_result"
    }
   ],
   "source": [
    "ndf['6th_Stage'].fillna('IIA', inplace=True)\n",
    "_6th_Stage_frequency = ndf['6th_Stage'].value_counts(dropna=False)\n",
    "\n",
    "_6th_Stage_frequency"
   ]
  },
  {
   "cell_type": "code",
   "execution_count": 169,
   "metadata": {},
   "outputs": [
    {
     "name": "stderr",
     "output_type": "stream",
     "text": [
      "C:\\Users\\Concept D\\AppData\\Local\\Temp\\ipykernel_25804\\3016239562.py:9: FutureWarning: Downcasting behavior in `replace` is deprecated and will be removed in a future version. To retain the old behavior, explicitly call `result.infer_objects(copy=False)`. To opt-in to the future behavior, set `pd.set_option('future.no_silent_downcasting', True)`\n",
      "  ndf['6th_Stage'] = ndf['6th_Stage'].replace(stage_mapping)\n"
     ]
    },
    {
     "data": {
      "text/plain": [
       "0       1\n",
       "1       3\n",
       "2       4\n",
       "3       1\n",
       "4       2\n",
       "       ..\n",
       "4019    1\n",
       "4020    3\n",
       "4021    2\n",
       "4022    2\n",
       "4023    2\n",
       "Name: 6th_Stage, Length: 4024, dtype: int64"
      ]
     },
     "execution_count": 169,
     "metadata": {},
     "output_type": "execute_result"
    }
   ],
   "source": [
    "stage_mapping = {\n",
    "    'IIA': 1,\n",
    "    'IIB': 2,\n",
    "    'IIIA': 3,\n",
    "    'IIIC': 4,\n",
    "    'IIIB': 5\n",
    "}\n",
    "\n",
    "ndf['6th_Stage'] = ndf['6th_Stage'].replace(stage_mapping)\n",
    "\n",
    "ndf['6th_Stage']"
   ]
  },
  {
   "cell_type": "code",
   "execution_count": 170,
   "metadata": {},
   "outputs": [
    {
     "name": "stdout",
     "output_type": "stream",
     "text": [
      "<class 'pandas.core.frame.DataFrame'>\n",
      "RangeIndex: 4024 entries, 0 to 4023\n",
      "Data columns (total 22 columns):\n",
      " #   Column                    Non-Null Count  Dtype  \n",
      "---  ------                    --------------  -----  \n",
      " 0   Age                       4024 non-null   float64\n",
      " 1   T_Stage_                  4024 non-null   int64  \n",
      " 2   N_Stage                   4024 non-null   int64  \n",
      " 3   6th_Stage                 4024 non-null   int64  \n",
      " 4   differentiate             3811 non-null   object \n",
      " 5   Grade                     3814 non-null   object \n",
      " 6   A_Stage                   3834 non-null   object \n",
      " 7   Tumor_Size                3818 non-null   object \n",
      " 8   Estrogen_Status           3831 non-null   object \n",
      " 9   Progesterone_Status       3805 non-null   object \n",
      " 10  Regional_Node_Examined    3807 non-null   object \n",
      " 11  Reginol_Node_Positive     3817 non-null   object \n",
      " 12  Survival_Months           3798 non-null   object \n",
      " 13  Status                    4024 non-null   object \n",
      " 14  Race_Black                4024 non-null   int64  \n",
      " 15  Race_Other                4024 non-null   int64  \n",
      " 16  Race_White                4024 non-null   int64  \n",
      " 17  Marital_Status_divorced   4024 non-null   int64  \n",
      " 18  Marital_Status_married    4024 non-null   int64  \n",
      " 19  Marital_Status_separated  4024 non-null   int64  \n",
      " 20  Marital_Status_single     4024 non-null   int64  \n",
      " 21  Marital_Status_widowed    4024 non-null   int64  \n",
      "dtypes: float64(1), int64(11), object(10)\n",
      "memory usage: 691.8+ KB\n"
     ]
    }
   ],
   "source": [
    "ndf.info()"
   ]
  },
  {
   "cell_type": "markdown",
   "metadata": {},
   "source": [
    "#### Differentiate\n"
   ]
  },
  {
   "cell_type": "code",
   "execution_count": 171,
   "metadata": {},
   "outputs": [
    {
     "data": {
      "text/plain": [
       "array(['Poorly differentiated', ' Moderately differentiated ',\n",
       "       'Moderately differentiated', 'POORLY DIFFERENTIATED', nan,\n",
       "       'well differentiated', 'Well differentiated',\n",
       "       ' MODERATELY DIFFERENTIATED ', ' poorly differentiated ',\n",
       "       'moderately differentiated', 'MODERATELY DIFFERENTIATED',\n",
       "       ' Poorly differentiated ', ' moderately differentiated ',\n",
       "       ' POORLY DIFFERENTIATED ', ' WELL DIFFERENTIATED ',\n",
       "       'poorly differentiated', ' well differentiated ',\n",
       "       'WELL DIFFERENTIATED', ' Well differentiated ', 'undifferentiated',\n",
       "       ' undifferentiated ', ' Undifferentiated ', 'Undifferentiated',\n",
       "       ' UNDIFFERENTIATED ', 'UNDIFFERENTIATED'], dtype=object)"
      ]
     },
     "execution_count": 171,
     "metadata": {},
     "output_type": "execute_result"
    }
   ],
   "source": [
    "ndf['differentiate'].unique()"
   ]
  },
  {
   "cell_type": "code",
   "execution_count": 172,
   "metadata": {},
   "outputs": [
    {
     "name": "stdout",
     "output_type": "stream",
     "text": [
      "['POORLY DIFFERENTIATED' 'MODERATELY DIFFERENTIATED' nan\n",
      " 'WELL DIFFERENTIATED' 'UNDIFFERENTIATED']\n"
     ]
    }
   ],
   "source": [
    "ndf['differentiate'] = ndf['differentiate'].str.strip().str.upper()\n",
    "\n",
    "ndf['differentiate'] = ndf['differentiate'].replace({\n",
    "    'POORLY DIFFERENTIATED': 'POORLY DIFFERENTIATED',\n",
    "    'MODERATELY DIFFERENTIATED': 'MODERATELY DIFFERENTIATED',\n",
    "    'WELL DIFFERENTIATED': 'WELL DIFFERENTIATED',\n",
    "    'UNDIFFERENTIATED': 'UNDIFFERENTIATED'\n",
    "})\n",
    "\n",
    "print(ndf['differentiate'].unique())\n"
   ]
  },
  {
   "cell_type": "markdown",
   "metadata": {},
   "source": [
    "- POORLY DIFFERENTIATED:\n",
    "-- The cancer cells are very different from normal cells.\n",
    "-- This typically indicates a more aggressive and rapidly growing tumor.\n",
    "\n",
    "- MODERATELY DIFFERENTIATED:\n",
    "\n",
    "-- The cancer cells have some similarity to normal cells, but not a lot.\n",
    "-- This suggests that the tumor is somewhat aggressive, though not as much as poorly differentiated tumors.\n",
    "\n",
    "- WELL DIFFERENTIATED:\n",
    "\n",
    "-- The cancer cells closely resemble normal cells.\n",
    "-- This suggests the tumor is less aggressive and tends to grow more slowly.\n",
    "\n",
    "- UNDIFFERENTIATED:\n",
    "\n",
    "The cancer cells are unrecognizable compared to normal cells.\n",
    "This generally indicates a highly aggressive and fast-growing tumor."
   ]
  },
  {
   "cell_type": "code",
   "execution_count": 173,
   "metadata": {},
   "outputs": [
    {
     "name": "stdout",
     "output_type": "stream",
     "text": [
      "<class 'pandas.core.frame.DataFrame'>\n",
      "RangeIndex: 4024 entries, 0 to 4023\n",
      "Data columns (total 22 columns):\n",
      " #   Column                    Non-Null Count  Dtype  \n",
      "---  ------                    --------------  -----  \n",
      " 0   Age                       4024 non-null   float64\n",
      " 1   T_Stage_                  4024 non-null   int64  \n",
      " 2   N_Stage                   4024 non-null   int64  \n",
      " 3   6th_Stage                 4024 non-null   int64  \n",
      " 4   differentiate             3811 non-null   object \n",
      " 5   Grade                     3814 non-null   object \n",
      " 6   A_Stage                   3834 non-null   object \n",
      " 7   Tumor_Size                3818 non-null   object \n",
      " 8   Estrogen_Status           3831 non-null   object \n",
      " 9   Progesterone_Status       3805 non-null   object \n",
      " 10  Regional_Node_Examined    3807 non-null   object \n",
      " 11  Reginol_Node_Positive     3817 non-null   object \n",
      " 12  Survival_Months           3798 non-null   object \n",
      " 13  Status                    4024 non-null   object \n",
      " 14  Race_Black                4024 non-null   int64  \n",
      " 15  Race_Other                4024 non-null   int64  \n",
      " 16  Race_White                4024 non-null   int64  \n",
      " 17  Marital_Status_divorced   4024 non-null   int64  \n",
      " 18  Marital_Status_married    4024 non-null   int64  \n",
      " 19  Marital_Status_separated  4024 non-null   int64  \n",
      " 20  Marital_Status_single     4024 non-null   int64  \n",
      " 21  Marital_Status_widowed    4024 non-null   int64  \n",
      "dtypes: float64(1), int64(11), object(10)\n",
      "memory usage: 691.8+ KB\n"
     ]
    }
   ],
   "source": [
    "ndf.info()"
   ]
  },
  {
   "cell_type": "code",
   "execution_count": 174,
   "metadata": {},
   "outputs": [
    {
     "name": "stdout",
     "output_type": "stream",
     "text": [
      "['POORLY DIFFERENTIATED' 'MODERATELY DIFFERENTIATED' 'WELL DIFFERENTIATED'\n",
      " 'UNDIFFERENTIATED']\n"
     ]
    },
    {
     "name": "stderr",
     "output_type": "stream",
     "text": [
      "C:\\Users\\Concept D\\AppData\\Local\\Temp\\ipykernel_25804\\2955897330.py:3: FutureWarning: A value is trying to be set on a copy of a DataFrame or Series through chained assignment using an inplace method.\n",
      "The behavior will change in pandas 3.0. This inplace method will never work because the intermediate object on which we are setting values always behaves as a copy.\n",
      "\n",
      "For example, when doing 'df[col].method(value, inplace=True)', try using 'df.method({col: value}, inplace=True)' or df[col] = df[col].method(value) instead, to perform the operation inplace on the original object.\n",
      "\n",
      "\n",
      "  ndf['differentiate'].fillna(most_frequent_differentiate, inplace=True)\n"
     ]
    }
   ],
   "source": [
    "most_frequent_differentiate = ndf['differentiate'].mode()[0]\n",
    "\n",
    "ndf['differentiate'].fillna(most_frequent_differentiate, inplace=True)\n",
    "\n",
    "print(ndf['differentiate'].unique())\n"
   ]
  },
  {
   "cell_type": "code",
   "execution_count": 175,
   "metadata": {},
   "outputs": [
    {
     "data": {
      "text/plain": [
       "0           POORLY DIFFERENTIATED\n",
       "1       MODERATELY DIFFERENTIATED\n",
       "2       MODERATELY DIFFERENTIATED\n",
       "3           POORLY DIFFERENTIATED\n",
       "4           POORLY DIFFERENTIATED\n",
       "                  ...            \n",
       "4019    MODERATELY DIFFERENTIATED\n",
       "4020    MODERATELY DIFFERENTIATED\n",
       "4021    MODERATELY DIFFERENTIATED\n",
       "4022    MODERATELY DIFFERENTIATED\n",
       "4023    MODERATELY DIFFERENTIATED\n",
       "Name: differentiate, Length: 4024, dtype: object"
      ]
     },
     "execution_count": 175,
     "metadata": {},
     "output_type": "execute_result"
    }
   ],
   "source": [
    "ndf['differentiate']"
   ]
  },
  {
   "cell_type": "code",
   "execution_count": 176,
   "metadata": {},
   "outputs": [
    {
     "name": "stdout",
     "output_type": "stream",
     "text": [
      "<class 'pandas.core.frame.DataFrame'>\n",
      "RangeIndex: 4024 entries, 0 to 4023\n",
      "Data columns (total 22 columns):\n",
      " #   Column                    Non-Null Count  Dtype  \n",
      "---  ------                    --------------  -----  \n",
      " 0   Age                       4024 non-null   float64\n",
      " 1   T_Stage_                  4024 non-null   int64  \n",
      " 2   N_Stage                   4024 non-null   int64  \n",
      " 3   6th_Stage                 4024 non-null   int64  \n",
      " 4   differentiate             4024 non-null   object \n",
      " 5   Grade                     3814 non-null   object \n",
      " 6   A_Stage                   3834 non-null   object \n",
      " 7   Tumor_Size                3818 non-null   object \n",
      " 8   Estrogen_Status           3831 non-null   object \n",
      " 9   Progesterone_Status       3805 non-null   object \n",
      " 10  Regional_Node_Examined    3807 non-null   object \n",
      " 11  Reginol_Node_Positive     3817 non-null   object \n",
      " 12  Survival_Months           3798 non-null   object \n",
      " 13  Status                    4024 non-null   object \n",
      " 14  Race_Black                4024 non-null   int64  \n",
      " 15  Race_Other                4024 non-null   int64  \n",
      " 16  Race_White                4024 non-null   int64  \n",
      " 17  Marital_Status_divorced   4024 non-null   int64  \n",
      " 18  Marital_Status_married    4024 non-null   int64  \n",
      " 19  Marital_Status_separated  4024 non-null   int64  \n",
      " 20  Marital_Status_single     4024 non-null   int64  \n",
      " 21  Marital_Status_widowed    4024 non-null   int64  \n",
      "dtypes: float64(1), int64(11), object(10)\n",
      "memory usage: 691.8+ KB\n"
     ]
    }
   ],
   "source": [
    "ndf.info()"
   ]
  },
  {
   "cell_type": "code",
   "execution_count": 177,
   "metadata": {},
   "outputs": [
    {
     "name": "stdout",
     "output_type": "stream",
     "text": [
      "<class 'pandas.core.frame.DataFrame'>\n",
      "RangeIndex: 4024 entries, 0 to 4023\n",
      "Data columns (total 24 columns):\n",
      " #   Column                               Non-Null Count  Dtype  \n",
      "---  ------                               --------------  -----  \n",
      " 0   Age                                  4024 non-null   float64\n",
      " 1   T_Stage_                             4024 non-null   int64  \n",
      " 2   N_Stage                              4024 non-null   int64  \n",
      " 3   6th_Stage                            4024 non-null   int64  \n",
      " 4   Grade                                3814 non-null   object \n",
      " 5   A_Stage                              3834 non-null   object \n",
      " 6   Tumor_Size                           3818 non-null   object \n",
      " 7   Estrogen_Status                      3831 non-null   object \n",
      " 8   Progesterone_Status                  3805 non-null   object \n",
      " 9   Regional_Node_Examined               3807 non-null   object \n",
      " 10  Reginol_Node_Positive                3817 non-null   object \n",
      " 11  Survival_Months                      3798 non-null   object \n",
      " 12  Status                               4024 non-null   object \n",
      " 13  Race_Black                           4024 non-null   int64  \n",
      " 14  Race_Other                           4024 non-null   int64  \n",
      " 15  Race_White                           4024 non-null   int64  \n",
      " 16  Marital_Status_divorced              4024 non-null   int64  \n",
      " 17  Marital_Status_married               4024 non-null   int64  \n",
      " 18  Marital_Status_separated             4024 non-null   int64  \n",
      " 19  Marital_Status_single                4024 non-null   int64  \n",
      " 20  Marital_Status_widowed               4024 non-null   int64  \n",
      " 21  differentiate_POORLY DIFFERENTIATED  4024 non-null   bool   \n",
      " 22  differentiate_UNDIFFERENTIATED       4024 non-null   bool   \n",
      " 23  differentiate_WELL DIFFERENTIATED    4024 non-null   bool   \n",
      "dtypes: bool(3), float64(1), int64(11), object(9)\n",
      "memory usage: 672.1+ KB\n"
     ]
    }
   ],
   "source": [
    "ndf = pd.get_dummies(ndf, columns=['differentiate'], drop_first=True)\n",
    "\n",
    "ndf.info()"
   ]
  },
  {
   "cell_type": "code",
   "execution_count": 178,
   "metadata": {},
   "outputs": [
    {
     "name": "stdout",
     "output_type": "stream",
     "text": [
      "<class 'pandas.core.frame.DataFrame'>\n",
      "RangeIndex: 4024 entries, 0 to 4023\n",
      "Data columns (total 24 columns):\n",
      " #   Column                               Non-Null Count  Dtype  \n",
      "---  ------                               --------------  -----  \n",
      " 0   Age                                  4024 non-null   float64\n",
      " 1   T_Stage_                             4024 non-null   int64  \n",
      " 2   N_Stage                              4024 non-null   int64  \n",
      " 3   6th_Stage                            4024 non-null   int64  \n",
      " 4   Grade                                3814 non-null   object \n",
      " 5   A_Stage                              3834 non-null   object \n",
      " 6   Tumor_Size                           3818 non-null   object \n",
      " 7   Estrogen_Status                      3831 non-null   object \n",
      " 8   Progesterone_Status                  3805 non-null   object \n",
      " 9   Regional_Node_Examined               3807 non-null   object \n",
      " 10  Reginol_Node_Positive                3817 non-null   object \n",
      " 11  Survival_Months                      3798 non-null   object \n",
      " 12  Status                               4024 non-null   object \n",
      " 13  Race_Black                           4024 non-null   int64  \n",
      " 14  Race_Other                           4024 non-null   int64  \n",
      " 15  Race_White                           4024 non-null   int64  \n",
      " 16  Marital_Status_divorced              4024 non-null   int64  \n",
      " 17  Marital_Status_married               4024 non-null   int64  \n",
      " 18  Marital_Status_separated             4024 non-null   int64  \n",
      " 19  Marital_Status_single                4024 non-null   int64  \n",
      " 20  Marital_Status_widowed               4024 non-null   int64  \n",
      " 21  differentiate_POORLY DIFFERENTIATED  4024 non-null   int64  \n",
      " 22  differentiate_UNDIFFERENTIATED       4024 non-null   int64  \n",
      " 23  differentiate_WELL DIFFERENTIATED    4024 non-null   int64  \n",
      "dtypes: float64(1), int64(14), object(9)\n",
      "memory usage: 754.6+ KB\n"
     ]
    }
   ],
   "source": [
    "ndf['differentiate_POORLY DIFFERENTIATED'] = ndf['differentiate_POORLY DIFFERENTIATED'].astype(int)\n",
    "ndf['differentiate_UNDIFFERENTIATED'] = ndf['differentiate_UNDIFFERENTIATED'].astype(int)\n",
    "ndf['differentiate_WELL DIFFERENTIATED'] = ndf['differentiate_WELL DIFFERENTIATED'].astype(int)\n",
    "\n",
    "ndf.info()"
   ]
  },
  {
   "cell_type": "markdown",
   "metadata": {},
   "source": [
    "#### Grade\n",
    "##### The grade"
   ]
  },
  {
   "cell_type": "code",
   "execution_count": 179,
   "metadata": {},
   "outputs": [
    {
     "data": {
      "text/plain": [
       "array(['3', '2', nan, '1', ' anaplastic; grade iv ',\n",
       "       'anaplastic; grade iv', ' anaplastic; Grade IV ',\n",
       "       'anaplastic; Grade IV', ' ANAPLASTIC; GRADE IV '], dtype=object)"
      ]
     },
     "execution_count": 179,
     "metadata": {},
     "output_type": "execute_result"
    }
   ],
   "source": [
    "ndf['Grade'].unique()"
   ]
  },
  {
   "cell_type": "code",
   "execution_count": 180,
   "metadata": {},
   "outputs": [
    {
     "name": "stdout",
     "output_type": "stream",
     "text": [
      "['3' '2' nan '1' 'ANAPLASTIC GRADE IV']\n"
     ]
    },
    {
     "data": {
      "text/plain": [
       "'2'"
      ]
     },
     "execution_count": 180,
     "metadata": {},
     "output_type": "execute_result"
    }
   ],
   "source": [
    "ndf['Grade'] = ndf['Grade'].str.strip().str.upper()\n",
    "\n",
    "ndf['Grade'] = ndf['Grade'].replace({\n",
    "    'ANAPLASTIC; GRADE IV': 'ANAPLASTIC GRADE IV',\n",
    "    'ANAPLASTIC GRADE IV': 'ANAPLASTIC GRADE IV'\n",
    "})\n",
    "\n",
    "most_frequent_grade = ndf['Grade'].mode()[0]\n",
    "most_frequent_grade\n",
    "\n",
    "print(ndf['Grade'].unique())\n",
    "\n",
    "most_frequent_grade\n"
   ]
  },
  {
   "cell_type": "code",
   "execution_count": 181,
   "metadata": {},
   "outputs": [
    {
     "name": "stdout",
     "output_type": "stream",
     "text": [
      "['3' '2' '1' 'ANAPLASTIC GRADE IV']\n"
     ]
    },
    {
     "name": "stderr",
     "output_type": "stream",
     "text": [
      "C:\\Users\\Concept D\\AppData\\Local\\Temp\\ipykernel_25804\\3785702972.py:1: FutureWarning: A value is trying to be set on a copy of a DataFrame or Series through chained assignment using an inplace method.\n",
      "The behavior will change in pandas 3.0. This inplace method will never work because the intermediate object on which we are setting values always behaves as a copy.\n",
      "\n",
      "For example, when doing 'df[col].method(value, inplace=True)', try using 'df.method({col: value}, inplace=True)' or df[col] = df[col].method(value) instead, to perform the operation inplace on the original object.\n",
      "\n",
      "\n",
      "  ndf['Grade'].fillna(most_frequent_grade, inplace=True)\n"
     ]
    }
   ],
   "source": [
    "ndf['Grade'].fillna(most_frequent_grade, inplace=True)\n",
    "\n",
    "print(ndf['Grade'].unique())"
   ]
  },
  {
   "cell_type": "code",
   "execution_count": 182,
   "metadata": {},
   "outputs": [
    {
     "name": "stdout",
     "output_type": "stream",
     "text": [
      "['3' '2' '1' 4]\n"
     ]
    }
   ],
   "source": [
    "ndf['Grade'] = ndf['Grade'].replace('ANAPLASTIC GRADE IV', 4)\n",
    "\n",
    "print(ndf['Grade'].unique())\n"
   ]
  },
  {
   "cell_type": "code",
   "execution_count": 183,
   "metadata": {},
   "outputs": [
    {
     "data": {
      "text/plain": [
       "np.int64(2)"
      ]
     },
     "execution_count": 183,
     "metadata": {},
     "output_type": "execute_result"
    }
   ],
   "source": [
    "ndf['Grade'] = pd.to_numeric(ndf['Grade'], errors='coerce')\n",
    "\n",
    "most_frequent_grade = ndf['Grade'].mode()[0]\n",
    "\n",
    "most_frequent_grade"
   ]
  },
  {
   "cell_type": "code",
   "execution_count": 184,
   "metadata": {},
   "outputs": [
    {
     "data": {
      "text/plain": [
       "array([3, 2, 1, 4])"
      ]
     },
     "execution_count": 184,
     "metadata": {},
     "output_type": "execute_result"
    }
   ],
   "source": [
    "ndf['Grade'].unique()"
   ]
  },
  {
   "cell_type": "code",
   "execution_count": 185,
   "metadata": {},
   "outputs": [
    {
     "name": "stdout",
     "output_type": "stream",
     "text": [
      "<class 'pandas.core.series.Series'>\n",
      "RangeIndex: 4024 entries, 0 to 4023\n",
      "Series name: Grade\n",
      "Non-Null Count  Dtype\n",
      "--------------  -----\n",
      "4024 non-null   int64\n",
      "dtypes: int64(1)\n",
      "memory usage: 31.6 KB\n"
     ]
    }
   ],
   "source": [
    "ndf['Grade'].info()"
   ]
  },
  {
   "cell_type": "markdown",
   "metadata": {},
   "source": [
    "#### A Stage\n",
    "##### Regional — A neoplasm that has extended, Distant — A neoplasm that has spread to parts of the body remote from"
   ]
  },
  {
   "cell_type": "code",
   "execution_count": 186,
   "metadata": {},
   "outputs": [
    {
     "name": "stdout",
     "output_type": "stream",
     "text": [
      "['REGIONAL' 'DISTANT' nan]\n"
     ]
    }
   ],
   "source": [
    "ndf['A_Stage'] = ndf['A_Stage'].str.strip().str.upper()\n",
    "\n",
    "ndf['A_Stage'] = ndf['A_Stage'].replace({\n",
    "    'REGIONAL': 'REGIONAL',\n",
    "    'DISTANT': 'DISTANT'\n",
    "})\n",
    "\n",
    "print(ndf['A_Stage'].unique())\n"
   ]
  },
  {
   "cell_type": "code",
   "execution_count": 187,
   "metadata": {},
   "outputs": [
    {
     "data": {
      "text/plain": [
       "A_Stage\n",
       "REGIONAL    3748\n",
       "NaN          190\n",
       "DISTANT       86\n",
       "Name: count, dtype: int64"
      ]
     },
     "execution_count": 187,
     "metadata": {},
     "output_type": "execute_result"
    }
   ],
   "source": [
    "A_Stage_frequency = ndf['A_Stage'].value_counts(dropna=False)\n",
    "\n",
    "A_Stage_frequency\n"
   ]
  },
  {
   "cell_type": "code",
   "execution_count": 188,
   "metadata": {},
   "outputs": [
    {
     "name": "stdout",
     "output_type": "stream",
     "text": [
      "['REGIONAL' 'DISTANT' nan]\n"
     ]
    },
    {
     "name": "stderr",
     "output_type": "stream",
     "text": [
      "C:\\Users\\Concept D\\AppData\\Local\\Temp\\ipykernel_25804\\479882919.py:1: FutureWarning: A value is trying to be set on a copy of a DataFrame or Series through chained assignment using an inplace method.\n",
      "The behavior will change in pandas 3.0. This inplace method will never work because the intermediate object on which we are setting values always behaves as a copy.\n",
      "\n",
      "For example, when doing 'df[col].method(value, inplace=True)', try using 'df.method({col: value}, inplace=True)' or df[col] = df[col].method(value) instead, to perform the operation inplace on the original object.\n",
      "\n",
      "\n",
      "  ndf['A_Stage'].fillna(A_Stage_frequency, inplace=True)\n"
     ]
    }
   ],
   "source": [
    "ndf['A_Stage'].fillna(A_Stage_frequency, inplace=True)\n",
    "\n",
    "# Display the unique values after replacement\n",
    "print(ndf['A_Stage'].unique())"
   ]
  },
  {
   "cell_type": "code",
   "execution_count": 189,
   "metadata": {},
   "outputs": [
    {
     "name": "stdout",
     "output_type": "stream",
     "text": [
      "['REGIONAL' 'DISTANT' nan]\n"
     ]
    }
   ],
   "source": [
    "print(ndf['A_Stage'].unique())"
   ]
  },
  {
   "cell_type": "code",
   "execution_count": 190,
   "metadata": {},
   "outputs": [
    {
     "name": "stdout",
     "output_type": "stream",
     "text": [
      "['REGIONAL' 'DISTANT']\n"
     ]
    }
   ],
   "source": [
    "most_frequent_A_Stage = A_Stage_frequency.idxmax()\n",
    "\n",
    "ndf['A_Stage'].fillna(most_frequent_A_Stage, inplace=True)\n",
    "\n",
    "print(ndf['A_Stage'].unique())\n"
   ]
  },
  {
   "cell_type": "code",
   "execution_count": 191,
   "metadata": {},
   "outputs": [
    {
     "name": "stdout",
     "output_type": "stream",
     "text": [
      "    Age  T_Stage_  N_Stage  6th_Stage  Grade Tumor_Size Estrogen_Status  \\\n",
      "0  68.0         1        1          1      3    missing       positive    \n",
      "1  50.0         2        2          3      2         35       positive    \n",
      "2  58.0         3        3          4      2         63       Positive    \n",
      "3  58.0         1        1          1      2         18        positive   \n",
      "4  47.0         2        1          2      3    missing        Positive   \n",
      "\n",
      "  Progesterone_Status Regional_Node_Examined Reginol_Node_Positive  ...  \\\n",
      "0           positive                      24                     1  ...   \n",
      "1           Positive                      14                   NaN  ...   \n",
      "2                 NaN                     14                   NaN  ...   \n",
      "3            POSITIVE                      2                     1  ...   \n",
      "4           POSITIVE                 MISSING                     1  ...   \n",
      "\n",
      "  Marital_Status_divorced Marital_Status_married  Marital_Status_separated  \\\n",
      "0                       0                      1                         0   \n",
      "1                       0                      1                         0   \n",
      "2                       1                      0                         0   \n",
      "3                       0                      1                         0   \n",
      "4                       0                      1                         0   \n",
      "\n",
      "   Marital_Status_single  Marital_Status_widowed  \\\n",
      "0                      0                       0   \n",
      "1                      0                       0   \n",
      "2                      0                       0   \n",
      "3                      0                       0   \n",
      "4                      0                       0   \n",
      "\n",
      "   differentiate_POORLY DIFFERENTIATED  differentiate_UNDIFFERENTIATED  \\\n",
      "0                                    1                               0   \n",
      "1                                    0                               0   \n",
      "2                                    0                               0   \n",
      "3                                    1                               0   \n",
      "4                                    1                               0   \n",
      "\n",
      "   differentiate_WELL DIFFERENTIATED  A_Stage_DISTANT  A_Stage_REGIONAL  \n",
      "0                                  0            False              True  \n",
      "1                                  0            False              True  \n",
      "2                                  0            False              True  \n",
      "3                                  0            False              True  \n",
      "4                                  0            False              True  \n",
      "\n",
      "[5 rows x 25 columns]\n"
     ]
    }
   ],
   "source": [
    "ndf = pd.get_dummies(ndf, columns=['A_Stage'], drop_first=False)\n",
    "\n",
    "print(ndf.head())\n"
   ]
  },
  {
   "cell_type": "code",
   "execution_count": 192,
   "metadata": {},
   "outputs": [
    {
     "name": "stdout",
     "output_type": "stream",
     "text": [
      "<class 'pandas.core.frame.DataFrame'>\n",
      "RangeIndex: 4024 entries, 0 to 4023\n",
      "Data columns (total 25 columns):\n",
      " #   Column                               Non-Null Count  Dtype  \n",
      "---  ------                               --------------  -----  \n",
      " 0   Age                                  4024 non-null   float64\n",
      " 1   T_Stage_                             4024 non-null   int64  \n",
      " 2   N_Stage                              4024 non-null   int64  \n",
      " 3   6th_Stage                            4024 non-null   int64  \n",
      " 4   Grade                                4024 non-null   int64  \n",
      " 5   Tumor_Size                           3818 non-null   object \n",
      " 6   Estrogen_Status                      3831 non-null   object \n",
      " 7   Progesterone_Status                  3805 non-null   object \n",
      " 8   Regional_Node_Examined               3807 non-null   object \n",
      " 9   Reginol_Node_Positive                3817 non-null   object \n",
      " 10  Survival_Months                      3798 non-null   object \n",
      " 11  Status                               4024 non-null   object \n",
      " 12  Race_Black                           4024 non-null   int64  \n",
      " 13  Race_Other                           4024 non-null   int64  \n",
      " 14  Race_White                           4024 non-null   int64  \n",
      " 15  Marital_Status_divorced              4024 non-null   int64  \n",
      " 16  Marital_Status_married               4024 non-null   int64  \n",
      " 17  Marital_Status_separated             4024 non-null   int64  \n",
      " 18  Marital_Status_single                4024 non-null   int64  \n",
      " 19  Marital_Status_widowed               4024 non-null   int64  \n",
      " 20  differentiate_POORLY DIFFERENTIATED  4024 non-null   int64  \n",
      " 21  differentiate_UNDIFFERENTIATED       4024 non-null   int64  \n",
      " 22  differentiate_WELL DIFFERENTIATED    4024 non-null   int64  \n",
      " 23  A_Stage_DISTANT                      4024 non-null   bool   \n",
      " 24  A_Stage_REGIONAL                     4024 non-null   bool   \n",
      "dtypes: bool(2), float64(1), int64(15), object(7)\n",
      "memory usage: 731.1+ KB\n"
     ]
    }
   ],
   "source": [
    "ndf.info()"
   ]
  },
  {
   "cell_type": "code",
   "execution_count": 193,
   "metadata": {},
   "outputs": [
    {
     "data": {
      "text/html": [
       "<div>\n",
       "<style scoped>\n",
       "    .dataframe tbody tr th:only-of-type {\n",
       "        vertical-align: middle;\n",
       "    }\n",
       "\n",
       "    .dataframe tbody tr th {\n",
       "        vertical-align: top;\n",
       "    }\n",
       "\n",
       "    .dataframe thead th {\n",
       "        text-align: right;\n",
       "    }\n",
       "</style>\n",
       "<table border=\"1\" class=\"dataframe\">\n",
       "  <thead>\n",
       "    <tr style=\"text-align: right;\">\n",
       "      <th></th>\n",
       "      <th>A_Stage_DISTANT</th>\n",
       "      <th>A_Stage_REGIONAL</th>\n",
       "    </tr>\n",
       "  </thead>\n",
       "  <tbody>\n",
       "    <tr>\n",
       "      <th>0</th>\n",
       "      <td>0</td>\n",
       "      <td>1</td>\n",
       "    </tr>\n",
       "    <tr>\n",
       "      <th>1</th>\n",
       "      <td>0</td>\n",
       "      <td>1</td>\n",
       "    </tr>\n",
       "    <tr>\n",
       "      <th>2</th>\n",
       "      <td>0</td>\n",
       "      <td>1</td>\n",
       "    </tr>\n",
       "    <tr>\n",
       "      <th>3</th>\n",
       "      <td>0</td>\n",
       "      <td>1</td>\n",
       "    </tr>\n",
       "    <tr>\n",
       "      <th>4</th>\n",
       "      <td>0</td>\n",
       "      <td>1</td>\n",
       "    </tr>\n",
       "    <tr>\n",
       "      <th>...</th>\n",
       "      <td>...</td>\n",
       "      <td>...</td>\n",
       "    </tr>\n",
       "    <tr>\n",
       "      <th>4019</th>\n",
       "      <td>0</td>\n",
       "      <td>1</td>\n",
       "    </tr>\n",
       "    <tr>\n",
       "      <th>4020</th>\n",
       "      <td>0</td>\n",
       "      <td>1</td>\n",
       "    </tr>\n",
       "    <tr>\n",
       "      <th>4021</th>\n",
       "      <td>0</td>\n",
       "      <td>1</td>\n",
       "    </tr>\n",
       "    <tr>\n",
       "      <th>4022</th>\n",
       "      <td>0</td>\n",
       "      <td>1</td>\n",
       "    </tr>\n",
       "    <tr>\n",
       "      <th>4023</th>\n",
       "      <td>0</td>\n",
       "      <td>1</td>\n",
       "    </tr>\n",
       "  </tbody>\n",
       "</table>\n",
       "<p>4024 rows × 2 columns</p>\n",
       "</div>"
      ],
      "text/plain": [
       "      A_Stage_DISTANT  A_Stage_REGIONAL\n",
       "0                   0                 1\n",
       "1                   0                 1\n",
       "2                   0                 1\n",
       "3                   0                 1\n",
       "4                   0                 1\n",
       "...               ...               ...\n",
       "4019                0                 1\n",
       "4020                0                 1\n",
       "4021                0                 1\n",
       "4022                0                 1\n",
       "4023                0                 1\n",
       "\n",
       "[4024 rows x 2 columns]"
      ]
     },
     "execution_count": 193,
     "metadata": {},
     "output_type": "execute_result"
    }
   ],
   "source": [
    "ndf['A_Stage_DISTANT'] = ndf['A_Stage_DISTANT'].astype(int)\n",
    "ndf['A_Stage_REGIONAL'] = ndf['A_Stage_REGIONAL'].astype(int)\n",
    "\n",
    "ndf[['A_Stage_DISTANT', 'A_Stage_REGIONAL']]\n"
   ]
  },
  {
   "cell_type": "code",
   "execution_count": 194,
   "metadata": {},
   "outputs": [
    {
     "data": {
      "text/html": [
       "<div>\n",
       "<style scoped>\n",
       "    .dataframe tbody tr th:only-of-type {\n",
       "        vertical-align: middle;\n",
       "    }\n",
       "\n",
       "    .dataframe tbody tr th {\n",
       "        vertical-align: top;\n",
       "    }\n",
       "\n",
       "    .dataframe thead th {\n",
       "        text-align: right;\n",
       "    }\n",
       "</style>\n",
       "<table border=\"1\" class=\"dataframe\">\n",
       "  <thead>\n",
       "    <tr style=\"text-align: right;\">\n",
       "      <th></th>\n",
       "      <th>A_Stage_DISTANT</th>\n",
       "      <th>A_Stage_REGIONAL</th>\n",
       "    </tr>\n",
       "  </thead>\n",
       "  <tbody>\n",
       "    <tr>\n",
       "      <th>0</th>\n",
       "      <td>0</td>\n",
       "      <td>1</td>\n",
       "    </tr>\n",
       "    <tr>\n",
       "      <th>1</th>\n",
       "      <td>0</td>\n",
       "      <td>1</td>\n",
       "    </tr>\n",
       "    <tr>\n",
       "      <th>2</th>\n",
       "      <td>0</td>\n",
       "      <td>1</td>\n",
       "    </tr>\n",
       "    <tr>\n",
       "      <th>3</th>\n",
       "      <td>0</td>\n",
       "      <td>1</td>\n",
       "    </tr>\n",
       "    <tr>\n",
       "      <th>4</th>\n",
       "      <td>0</td>\n",
       "      <td>1</td>\n",
       "    </tr>\n",
       "    <tr>\n",
       "      <th>...</th>\n",
       "      <td>...</td>\n",
       "      <td>...</td>\n",
       "    </tr>\n",
       "    <tr>\n",
       "      <th>4019</th>\n",
       "      <td>0</td>\n",
       "      <td>1</td>\n",
       "    </tr>\n",
       "    <tr>\n",
       "      <th>4020</th>\n",
       "      <td>0</td>\n",
       "      <td>1</td>\n",
       "    </tr>\n",
       "    <tr>\n",
       "      <th>4021</th>\n",
       "      <td>0</td>\n",
       "      <td>1</td>\n",
       "    </tr>\n",
       "    <tr>\n",
       "      <th>4022</th>\n",
       "      <td>0</td>\n",
       "      <td>1</td>\n",
       "    </tr>\n",
       "    <tr>\n",
       "      <th>4023</th>\n",
       "      <td>0</td>\n",
       "      <td>1</td>\n",
       "    </tr>\n",
       "  </tbody>\n",
       "</table>\n",
       "<p>4024 rows × 2 columns</p>\n",
       "</div>"
      ],
      "text/plain": [
       "      A_Stage_DISTANT  A_Stage_REGIONAL\n",
       "0                   0                 1\n",
       "1                   0                 1\n",
       "2                   0                 1\n",
       "3                   0                 1\n",
       "4                   0                 1\n",
       "...               ...               ...\n",
       "4019                0                 1\n",
       "4020                0                 1\n",
       "4021                0                 1\n",
       "4022                0                 1\n",
       "4023                0                 1\n",
       "\n",
       "[4024 rows x 2 columns]"
      ]
     },
     "execution_count": 194,
     "metadata": {},
     "output_type": "execute_result"
    }
   ],
   "source": [
    "ndf['A_Stage_DISTANT'] = ndf['A_Stage_DISTANT'].astype(int)\n",
    "ndf['A_Stage_REGIONAL'] = ndf['A_Stage_REGIONAL'].astype(int)\n",
    "\n",
    "ndf[['A_Stage_DISTANT', 'A_Stage_REGIONAL']]\n"
   ]
  },
  {
   "cell_type": "code",
   "execution_count": 195,
   "metadata": {},
   "outputs": [
    {
     "name": "stdout",
     "output_type": "stream",
     "text": [
      "<class 'pandas.core.frame.DataFrame'>\n",
      "RangeIndex: 4024 entries, 0 to 4023\n",
      "Data columns (total 25 columns):\n",
      " #   Column                               Non-Null Count  Dtype  \n",
      "---  ------                               --------------  -----  \n",
      " 0   Age                                  4024 non-null   float64\n",
      " 1   T_Stage_                             4024 non-null   int64  \n",
      " 2   N_Stage                              4024 non-null   int64  \n",
      " 3   6th_Stage                            4024 non-null   int64  \n",
      " 4   Grade                                4024 non-null   int64  \n",
      " 5   Tumor_Size                           3818 non-null   object \n",
      " 6   Estrogen_Status                      3831 non-null   object \n",
      " 7   Progesterone_Status                  3805 non-null   object \n",
      " 8   Regional_Node_Examined               3807 non-null   object \n",
      " 9   Reginol_Node_Positive                3817 non-null   object \n",
      " 10  Survival_Months                      3798 non-null   object \n",
      " 11  Status                               4024 non-null   object \n",
      " 12  Race_Black                           4024 non-null   int64  \n",
      " 13  Race_Other                           4024 non-null   int64  \n",
      " 14  Race_White                           4024 non-null   int64  \n",
      " 15  Marital_Status_divorced              4024 non-null   int64  \n",
      " 16  Marital_Status_married               4024 non-null   int64  \n",
      " 17  Marital_Status_separated             4024 non-null   int64  \n",
      " 18  Marital_Status_single                4024 non-null   int64  \n",
      " 19  Marital_Status_widowed               4024 non-null   int64  \n",
      " 20  differentiate_POORLY DIFFERENTIATED  4024 non-null   int64  \n",
      " 21  differentiate_UNDIFFERENTIATED       4024 non-null   int64  \n",
      " 22  differentiate_WELL DIFFERENTIATED    4024 non-null   int64  \n",
      " 23  A_Stage_DISTANT                      4024 non-null   int64  \n",
      " 24  A_Stage_REGIONAL                     4024 non-null   int64  \n",
      "dtypes: float64(1), int64(17), object(7)\n",
      "memory usage: 786.1+ KB\n"
     ]
    }
   ],
   "source": [
    "ndf.info()"
   ]
  },
  {
   "cell_type": "markdown",
   "metadata": {},
   "source": [
    "#### Tumor Size\n",
    "##### Each indicates exact size in millimeters."
   ]
  },
  {
   "cell_type": "code",
   "execution_count": 196,
   "metadata": {},
   "outputs": [
    {
     "data": {
      "text/plain": [
       "array(['missing', '35', '63', '18', '20', '8', '30', '103', '32', '13',\n",
       "       '59', '15', '19', '46', ' MISSING ', '25', '29', '40', '70', '22',\n",
       "       '17', '21', '10', '27', '23', '5', '51', nan, ' missing ', '55',\n",
       "       '120', '77', '11', '12', '26', '75', '130', '34', '50', '80', '3',\n",
       "       '60', '14', '24', '16', '45', '76', 'MISSING', '38', '49', '7',\n",
       "       '4', '72', '9', '100', '43', '62', '37', '68', '52', '85', '57',\n",
       "       '39', '28', '48', '110', '65', '105', '140', '31', '90', '2',\n",
       "       '108', '98', '47', '42', '54', '61', '6', '36', '74', '33', '1',\n",
       "       '81', '58', '117', '44', '123', '95', '107', '92', '69', '56',\n",
       "       '82', '41', '78', '97', '88', '53', '101', '84', '83', '73', '66',\n",
       "       '104', '94', '86', '64', '96', '79', '67'], dtype=object)"
      ]
     },
     "execution_count": 196,
     "metadata": {},
     "output_type": "execute_result"
    }
   ],
   "source": [
    "ndf['Tumor_Size'].unique()"
   ]
  },
  {
   "cell_type": "code",
   "execution_count": 197,
   "metadata": {},
   "outputs": [
    {
     "data": {
      "text/plain": [
       "np.int64(206)"
      ]
     },
     "execution_count": 197,
     "metadata": {},
     "output_type": "execute_result"
    }
   ],
   "source": [
    "ndf['Tumor_Size'].isnull().sum()"
   ]
  },
  {
   "cell_type": "code",
   "execution_count": 198,
   "metadata": {},
   "outputs": [
    {
     "data": {
      "text/html": [
       "<div>\n",
       "<style scoped>\n",
       "    .dataframe tbody tr th:only-of-type {\n",
       "        vertical-align: middle;\n",
       "    }\n",
       "\n",
       "    .dataframe tbody tr th {\n",
       "        vertical-align: top;\n",
       "    }\n",
       "\n",
       "    .dataframe thead th {\n",
       "        text-align: right;\n",
       "    }\n",
       "</style>\n",
       "<table border=\"1\" class=\"dataframe\">\n",
       "  <thead>\n",
       "    <tr style=\"text-align: right;\">\n",
       "      <th></th>\n",
       "      <th>Tumor_Size</th>\n",
       "    </tr>\n",
       "  </thead>\n",
       "  <tbody>\n",
       "    <tr>\n",
       "      <th>0</th>\n",
       "      <td>NaN</td>\n",
       "    </tr>\n",
       "    <tr>\n",
       "      <th>1</th>\n",
       "      <td>35.0</td>\n",
       "    </tr>\n",
       "    <tr>\n",
       "      <th>2</th>\n",
       "      <td>63.0</td>\n",
       "    </tr>\n",
       "    <tr>\n",
       "      <th>3</th>\n",
       "      <td>18.0</td>\n",
       "    </tr>\n",
       "    <tr>\n",
       "      <th>4</th>\n",
       "      <td>NaN</td>\n",
       "    </tr>\n",
       "  </tbody>\n",
       "</table>\n",
       "</div>"
      ],
      "text/plain": [
       "   Tumor_Size\n",
       "0         NaN\n",
       "1        35.0\n",
       "2        63.0\n",
       "3        18.0\n",
       "4         NaN"
      ]
     },
     "execution_count": 198,
     "metadata": {},
     "output_type": "execute_result"
    }
   ],
   "source": [
    "ndf['Tumor_Size'] = ndf['Tumor_Size'].replace(['missing', ' MISSING ', ' missing ', 'MISSING', 'nan', ' missing'], np.nan)\n",
    "\n",
    "ndf['Tumor_Size'] = pd.to_numeric(ndf['Tumor_Size'], errors='coerce')\n",
    "\n",
    "ndf[['Tumor_Size']].head()\n"
   ]
  },
  {
   "cell_type": "code",
   "execution_count": 199,
   "metadata": {},
   "outputs": [
    {
     "name": "stdout",
     "output_type": "stream",
     "text": [
      "Mean Tumor Size: 30.386655011655012\n",
      "Mode Tumor Size: 25.0\n",
      "Median Tumor Size: 25.0\n"
     ]
    }
   ],
   "source": [
    "mean_tumor_size = ndf['Tumor_Size'].mean()\n",
    "mode_tumor_size = ndf['Tumor_Size'].mode()[0]  # mode() returns a series, so we take the first element\n",
    "median_tumor_size = ndf['Tumor_Size'].median()\n",
    "\n",
    "print(f\"Mean Tumor Size: {mean_tumor_size}\")\n",
    "print(f\"Mode Tumor Size: {mode_tumor_size}\")\n",
    "print(f\"Median Tumor Size: {median_tumor_size}\")\n"
   ]
  },
  {
   "cell_type": "code",
   "execution_count": 200,
   "metadata": {},
   "outputs": [
    {
     "name": "stderr",
     "output_type": "stream",
     "text": [
      "C:\\Users\\Concept D\\AppData\\Local\\Temp\\ipykernel_25804\\2721835256.py:1: FutureWarning: A value is trying to be set on a copy of a DataFrame or Series through chained assignment using an inplace method.\n",
      "The behavior will change in pandas 3.0. This inplace method will never work because the intermediate object on which we are setting values always behaves as a copy.\n",
      "\n",
      "For example, when doing 'df[col].method(value, inplace=True)', try using 'df.method({col: value}, inplace=True)' or df[col] = df[col].method(value) instead, to perform the operation inplace on the original object.\n",
      "\n",
      "\n",
      "  ndf['Tumor_Size'].fillna(median_tumor_size, inplace=True)\n"
     ]
    },
    {
     "data": {
      "text/html": [
       "<div>\n",
       "<style scoped>\n",
       "    .dataframe tbody tr th:only-of-type {\n",
       "        vertical-align: middle;\n",
       "    }\n",
       "\n",
       "    .dataframe tbody tr th {\n",
       "        vertical-align: top;\n",
       "    }\n",
       "\n",
       "    .dataframe thead th {\n",
       "        text-align: right;\n",
       "    }\n",
       "</style>\n",
       "<table border=\"1\" class=\"dataframe\">\n",
       "  <thead>\n",
       "    <tr style=\"text-align: right;\">\n",
       "      <th></th>\n",
       "      <th>Tumor_Size</th>\n",
       "    </tr>\n",
       "  </thead>\n",
       "  <tbody>\n",
       "    <tr>\n",
       "      <th>0</th>\n",
       "      <td>25.0</td>\n",
       "    </tr>\n",
       "    <tr>\n",
       "      <th>1</th>\n",
       "      <td>35.0</td>\n",
       "    </tr>\n",
       "    <tr>\n",
       "      <th>2</th>\n",
       "      <td>63.0</td>\n",
       "    </tr>\n",
       "    <tr>\n",
       "      <th>3</th>\n",
       "      <td>18.0</td>\n",
       "    </tr>\n",
       "    <tr>\n",
       "      <th>4</th>\n",
       "      <td>25.0</td>\n",
       "    </tr>\n",
       "    <tr>\n",
       "      <th>...</th>\n",
       "      <td>...</td>\n",
       "    </tr>\n",
       "    <tr>\n",
       "      <th>4019</th>\n",
       "      <td>9.0</td>\n",
       "    </tr>\n",
       "    <tr>\n",
       "      <th>4020</th>\n",
       "      <td>46.0</td>\n",
       "    </tr>\n",
       "    <tr>\n",
       "      <th>4021</th>\n",
       "      <td>22.0</td>\n",
       "    </tr>\n",
       "    <tr>\n",
       "      <th>4022</th>\n",
       "      <td>44.0</td>\n",
       "    </tr>\n",
       "    <tr>\n",
       "      <th>4023</th>\n",
       "      <td>30.0</td>\n",
       "    </tr>\n",
       "  </tbody>\n",
       "</table>\n",
       "<p>4024 rows × 1 columns</p>\n",
       "</div>"
      ],
      "text/plain": [
       "      Tumor_Size\n",
       "0           25.0\n",
       "1           35.0\n",
       "2           63.0\n",
       "3           18.0\n",
       "4           25.0\n",
       "...          ...\n",
       "4019         9.0\n",
       "4020        46.0\n",
       "4021        22.0\n",
       "4022        44.0\n",
       "4023        30.0\n",
       "\n",
       "[4024 rows x 1 columns]"
      ]
     },
     "execution_count": 200,
     "metadata": {},
     "output_type": "execute_result"
    }
   ],
   "source": [
    "ndf['Tumor_Size'].fillna(median_tumor_size, inplace=True)\n",
    "\n",
    "ndf[['Tumor_Size']]"
   ]
  },
  {
   "cell_type": "code",
   "execution_count": 201,
   "metadata": {},
   "outputs": [
    {
     "name": "stdout",
     "output_type": "stream",
     "text": [
      "<class 'pandas.core.series.Series'>\n",
      "RangeIndex: 4024 entries, 0 to 4023\n",
      "Series name: Tumor_Size\n",
      "Non-Null Count  Dtype  \n",
      "--------------  -----  \n",
      "4024 non-null   float64\n",
      "dtypes: float64(1)\n",
      "memory usage: 31.6 KB\n"
     ]
    }
   ],
   "source": [
    "ndf['Tumor_Size'].info()"
   ]
  },
  {
   "cell_type": "markdown",
   "metadata": {},
   "source": [
    "#### Estrogen Status\n"
   ]
  },
  {
   "cell_type": "code",
   "execution_count": 202,
   "metadata": {},
   "outputs": [
    {
     "data": {
      "text/plain": [
       "array([' positive ', ' Positive ', 'positive', 'Positive', 'POSITIVE',\n",
       "       ' POSITIVE ', 'negative', 'Negative', nan, ' NEGATIVE ',\n",
       "       'NEGATIVE', ' Negative ', ' negative '], dtype=object)"
      ]
     },
     "execution_count": 202,
     "metadata": {},
     "output_type": "execute_result"
    }
   ],
   "source": [
    "ndf['Estrogen_Status'].unique()"
   ]
  },
  {
   "cell_type": "code",
   "execution_count": 203,
   "metadata": {},
   "outputs": [
    {
     "data": {
      "text/plain": [
       "array(['POSITIVE', 'NEGATIVE', nan], dtype=object)"
      ]
     },
     "execution_count": 203,
     "metadata": {},
     "output_type": "execute_result"
    }
   ],
   "source": [
    "ndf['Estrogen_Status'] = ndf['Estrogen_Status'].str.strip().str.upper()\n",
    "\n",
    "ndf['Estrogen_Status'].unique()"
   ]
  },
  {
   "cell_type": "code",
   "execution_count": 204,
   "metadata": {},
   "outputs": [
    {
     "data": {
      "text/plain": [
       "Estrogen_Status\n",
       "POSITIVE    3574\n",
       "NEGATIVE     257\n",
       "NaN          193\n",
       "Name: count, dtype: int64"
      ]
     },
     "execution_count": 204,
     "metadata": {},
     "output_type": "execute_result"
    }
   ],
   "source": [
    "Estrogen_Status_frequency = ndf['Estrogen_Status'].value_counts(dropna=False)\n",
    "\n",
    "Estrogen_Status_frequency"
   ]
  },
  {
   "cell_type": "code",
   "execution_count": 205,
   "metadata": {},
   "outputs": [
    {
     "name": "stderr",
     "output_type": "stream",
     "text": [
      "C:\\Users\\Concept D\\AppData\\Local\\Temp\\ipykernel_25804\\2449801190.py:1: FutureWarning: A value is trying to be set on a copy of a DataFrame or Series through chained assignment using an inplace method.\n",
      "The behavior will change in pandas 3.0. This inplace method will never work because the intermediate object on which we are setting values always behaves as a copy.\n",
      "\n",
      "For example, when doing 'df[col].method(value, inplace=True)', try using 'df.method({col: value}, inplace=True)' or df[col] = df[col].method(value) instead, to perform the operation inplace on the original object.\n",
      "\n",
      "\n",
      "  ndf['Estrogen_Status'].fillna('POSITIVE', inplace=True)\n"
     ]
    },
    {
     "data": {
      "text/plain": [
       "Estrogen_Status\n",
       "POSITIVE    3767\n",
       "NEGATIVE     257\n",
       "Name: count, dtype: int64"
      ]
     },
     "execution_count": 205,
     "metadata": {},
     "output_type": "execute_result"
    }
   ],
   "source": [
    "ndf['Estrogen_Status'].fillna('POSITIVE', inplace=True)\n",
    "Estrogen_Status_frequency = ndf['Estrogen_Status'].value_counts(dropna=False)\n",
    "\n",
    "Estrogen_Status_frequency"
   ]
  },
  {
   "cell_type": "code",
   "execution_count": 206,
   "metadata": {},
   "outputs": [
    {
     "name": "stderr",
     "output_type": "stream",
     "text": [
      "C:\\Users\\Concept D\\AppData\\Local\\Temp\\ipykernel_25804\\160973338.py:1: FutureWarning: Downcasting behavior in `replace` is deprecated and will be removed in a future version. To retain the old behavior, explicitly call `result.infer_objects(copy=False)`. To opt-in to the future behavior, set `pd.set_option('future.no_silent_downcasting', True)`\n",
      "  ndf['Estrogen_Status'] = ndf['Estrogen_Status'].replace({\n"
     ]
    }
   ],
   "source": [
    "ndf['Estrogen_Status'] = ndf['Estrogen_Status'].replace({\n",
    "    'NEGATIVE': 0,\n",
    "    'POSITIVE': 1\n",
    "    \n",
    "})\n",
    "ndf['Estrogen_Status'] = pd.to_numeric(ndf['Estrogen_Status'], errors='coerce')"
   ]
  },
  {
   "cell_type": "code",
   "execution_count": 207,
   "metadata": {},
   "outputs": [
    {
     "name": "stdout",
     "output_type": "stream",
     "text": [
      "<class 'pandas.core.series.Series'>\n",
      "RangeIndex: 4024 entries, 0 to 4023\n",
      "Series name: Estrogen_Status\n",
      "Non-Null Count  Dtype\n",
      "--------------  -----\n",
      "4024 non-null   int64\n",
      "dtypes: int64(1)\n",
      "memory usage: 31.6 KB\n"
     ]
    }
   ],
   "source": [
    "ndf['Estrogen_Status'].info()"
   ]
  },
  {
   "cell_type": "markdown",
   "metadata": {},
   "source": [
    "#### Progesterone_Status \n"
   ]
  },
  {
   "cell_type": "code",
   "execution_count": 208,
   "metadata": {},
   "outputs": [
    {
     "data": {
      "text/plain": [
       "array([' positive ', ' Positive ', nan, 'POSITIVE', ' POSITIVE ',\n",
       "       'positive', 'Positive', ' Negative ', 'Negative', 'negative',\n",
       "       ' NEGATIVE ', ' negative ', 'NEGATIVE'], dtype=object)"
      ]
     },
     "execution_count": 208,
     "metadata": {},
     "output_type": "execute_result"
    }
   ],
   "source": [
    "ndf['Progesterone_Status'].unique()\n"
   ]
  },
  {
   "cell_type": "code",
   "execution_count": 209,
   "metadata": {},
   "outputs": [
    {
     "data": {
      "text/plain": [
       "array(['POSITIVE', nan, 'NEGATIVE'], dtype=object)"
      ]
     },
     "execution_count": 209,
     "metadata": {},
     "output_type": "execute_result"
    }
   ],
   "source": [
    "ndf['Progesterone_Status'] = ndf['Progesterone_Status'].str.strip().str.upper()\n",
    "\n",
    "ndf['Progesterone_Status'].unique()"
   ]
  },
  {
   "cell_type": "code",
   "execution_count": 210,
   "metadata": {},
   "outputs": [
    {
     "data": {
      "text/plain": [
       "Progesterone_Status\n",
       "POSITIVE    3141\n",
       "NEGATIVE     664\n",
       "NaN          219\n",
       "Name: count, dtype: int64"
      ]
     },
     "execution_count": 210,
     "metadata": {},
     "output_type": "execute_result"
    }
   ],
   "source": [
    "Progesterone_Status_frequency = ndf['Progesterone_Status'].value_counts(dropna=False)\n",
    "\n",
    "Progesterone_Status_frequency"
   ]
  },
  {
   "cell_type": "code",
   "execution_count": 211,
   "metadata": {},
   "outputs": [
    {
     "name": "stderr",
     "output_type": "stream",
     "text": [
      "C:\\Users\\Concept D\\AppData\\Local\\Temp\\ipykernel_25804\\1606662864.py:1: FutureWarning: A value is trying to be set on a copy of a DataFrame or Series through chained assignment using an inplace method.\n",
      "The behavior will change in pandas 3.0. This inplace method will never work because the intermediate object on which we are setting values always behaves as a copy.\n",
      "\n",
      "For example, when doing 'df[col].method(value, inplace=True)', try using 'df.method({col: value}, inplace=True)' or df[col] = df[col].method(value) instead, to perform the operation inplace on the original object.\n",
      "\n",
      "\n",
      "  ndf['Progesterone_Status'].fillna('POSITIVE', inplace=True)\n"
     ]
    },
    {
     "data": {
      "text/plain": [
       "Progesterone_Status\n",
       "POSITIVE    3360\n",
       "NEGATIVE     664\n",
       "Name: count, dtype: int64"
      ]
     },
     "execution_count": 211,
     "metadata": {},
     "output_type": "execute_result"
    }
   ],
   "source": [
    "ndf['Progesterone_Status'].fillna('POSITIVE', inplace=True)\n",
    "Progesterone_Status_frequency = ndf['Progesterone_Status'].value_counts(dropna=False)\n",
    "\n",
    "Progesterone_Status_frequency"
   ]
  },
  {
   "cell_type": "code",
   "execution_count": 212,
   "metadata": {},
   "outputs": [
    {
     "name": "stdout",
     "output_type": "stream",
     "text": [
      "<class 'pandas.core.frame.DataFrame'>\n",
      "RangeIndex: 4024 entries, 0 to 4023\n",
      "Data columns (total 25 columns):\n",
      " #   Column                               Non-Null Count  Dtype  \n",
      "---  ------                               --------------  -----  \n",
      " 0   Age                                  4024 non-null   float64\n",
      " 1   T_Stage_                             4024 non-null   int64  \n",
      " 2   N_Stage                              4024 non-null   int64  \n",
      " 3   6th_Stage                            4024 non-null   int64  \n",
      " 4   Grade                                4024 non-null   int64  \n",
      " 5   Tumor_Size                           4024 non-null   float64\n",
      " 6   Estrogen_Status                      4024 non-null   int64  \n",
      " 7   Progesterone_Status                  4024 non-null   object \n",
      " 8   Regional_Node_Examined               3807 non-null   object \n",
      " 9   Reginol_Node_Positive                3817 non-null   object \n",
      " 10  Survival_Months                      3798 non-null   object \n",
      " 11  Status                               4024 non-null   object \n",
      " 12  Race_Black                           4024 non-null   int64  \n",
      " 13  Race_Other                           4024 non-null   int64  \n",
      " 14  Race_White                           4024 non-null   int64  \n",
      " 15  Marital_Status_divorced              4024 non-null   int64  \n",
      " 16  Marital_Status_married               4024 non-null   int64  \n",
      " 17  Marital_Status_separated             4024 non-null   int64  \n",
      " 18  Marital_Status_single                4024 non-null   int64  \n",
      " 19  Marital_Status_widowed               4024 non-null   int64  \n",
      " 20  differentiate_POORLY DIFFERENTIATED  4024 non-null   int64  \n",
      " 21  differentiate_UNDIFFERENTIATED       4024 non-null   int64  \n",
      " 22  differentiate_WELL DIFFERENTIATED    4024 non-null   int64  \n",
      " 23  A_Stage_DISTANT                      4024 non-null   int64  \n",
      " 24  A_Stage_REGIONAL                     4024 non-null   int64  \n",
      "dtypes: float64(2), int64(18), object(5)\n",
      "memory usage: 786.1+ KB\n"
     ]
    }
   ],
   "source": [
    "ndf.info()"
   ]
  },
  {
   "cell_type": "code",
   "execution_count": 213,
   "metadata": {},
   "outputs": [
    {
     "name": "stderr",
     "output_type": "stream",
     "text": [
      "C:\\Users\\Concept D\\AppData\\Local\\Temp\\ipykernel_25804\\1402822608.py:1: FutureWarning: Downcasting behavior in `replace` is deprecated and will be removed in a future version. To retain the old behavior, explicitly call `result.infer_objects(copy=False)`. To opt-in to the future behavior, set `pd.set_option('future.no_silent_downcasting', True)`\n",
      "  ndf['Progesterone_Status'] = ndf['Progesterone_Status'].replace({\n"
     ]
    }
   ],
   "source": [
    "ndf['Progesterone_Status'] = ndf['Progesterone_Status'].replace({\n",
    "    'NEGATIVE': 0,\n",
    "    'POSITIVE': 1\n",
    "    \n",
    "})\n",
    "ndf['Progesterone_Status'] = pd.to_numeric(ndf['Progesterone_Status'], errors='coerce')"
   ]
  },
  {
   "cell_type": "code",
   "execution_count": 214,
   "metadata": {},
   "outputs": [
    {
     "name": "stdout",
     "output_type": "stream",
     "text": [
      "<class 'pandas.core.series.Series'>\n",
      "RangeIndex: 4024 entries, 0 to 4023\n",
      "Series name: Progesterone_Status\n",
      "Non-Null Count  Dtype\n",
      "--------------  -----\n",
      "4024 non-null   int64\n",
      "dtypes: int64(1)\n",
      "memory usage: 31.6 KB\n"
     ]
    }
   ],
   "source": [
    "ndf['Progesterone_Status'].info() \n"
   ]
  },
  {
   "cell_type": "markdown",
   "metadata": {},
   "source": [
    "#### Reginol Node Examined"
   ]
  },
  {
   "cell_type": "code",
   "execution_count": 215,
   "metadata": {},
   "outputs": [
    {
     "data": {
      "text/plain": [
       "array(['24', '14', '2', 'MISSING', '18', '11', '9', '20', '21', 'missing',\n",
       "       '13', '23', '16', '22', ' missing ', '15', '4', '26', '31', '25',\n",
       "       '10', '3', '5', '6', '19', '12', nan, '8', '17', '7', '49', '1',\n",
       "       '33', '30', '34', '28', '32', '27', '42', '29', ' MISSING ', '41',\n",
       "       '39', '40', '38', '47', '54', '36', '61', '37', '35', '43', '52',\n",
       "       '45', '57', '51', '60'], dtype=object)"
      ]
     },
     "execution_count": 215,
     "metadata": {},
     "output_type": "execute_result"
    }
   ],
   "source": [
    "ndf['Regional_Node_Examined'].unique()"
   ]
  },
  {
   "cell_type": "code",
   "execution_count": 216,
   "metadata": {},
   "outputs": [
    {
     "data": {
      "text/plain": [
       "np.int64(217)"
      ]
     },
     "execution_count": 216,
     "metadata": {},
     "output_type": "execute_result"
    }
   ],
   "source": [
    "ndf['Regional_Node_Examined'].isnull().sum()"
   ]
  },
  {
   "cell_type": "code",
   "execution_count": 217,
   "metadata": {},
   "outputs": [
    {
     "data": {
      "text/html": [
       "<div>\n",
       "<style scoped>\n",
       "    .dataframe tbody tr th:only-of-type {\n",
       "        vertical-align: middle;\n",
       "    }\n",
       "\n",
       "    .dataframe tbody tr th {\n",
       "        vertical-align: top;\n",
       "    }\n",
       "\n",
       "    .dataframe thead th {\n",
       "        text-align: right;\n",
       "    }\n",
       "</style>\n",
       "<table border=\"1\" class=\"dataframe\">\n",
       "  <thead>\n",
       "    <tr style=\"text-align: right;\">\n",
       "      <th></th>\n",
       "      <th>Regional_Node_Examined</th>\n",
       "    </tr>\n",
       "  </thead>\n",
       "  <tbody>\n",
       "    <tr>\n",
       "      <th>0</th>\n",
       "      <td>24.0</td>\n",
       "    </tr>\n",
       "    <tr>\n",
       "      <th>1</th>\n",
       "      <td>14.0</td>\n",
       "    </tr>\n",
       "    <tr>\n",
       "      <th>2</th>\n",
       "      <td>14.0</td>\n",
       "    </tr>\n",
       "    <tr>\n",
       "      <th>3</th>\n",
       "      <td>2.0</td>\n",
       "    </tr>\n",
       "    <tr>\n",
       "      <th>4</th>\n",
       "      <td>NaN</td>\n",
       "    </tr>\n",
       "  </tbody>\n",
       "</table>\n",
       "</div>"
      ],
      "text/plain": [
       "   Regional_Node_Examined\n",
       "0                    24.0\n",
       "1                    14.0\n",
       "2                    14.0\n",
       "3                     2.0\n",
       "4                     NaN"
      ]
     },
     "execution_count": 217,
     "metadata": {},
     "output_type": "execute_result"
    }
   ],
   "source": [
    "ndf['Regional_Node_Examined'] = ndf['Regional_Node_Examined'].replace(['missing', ' MISSING ', ' missing ', 'MISSING', 'nan', ' missing'], np.nan)\n",
    "\n",
    "ndf['Regional_Node_Examined'] = pd.to_numeric(ndf['Regional_Node_Examined'], errors='coerce')\n",
    "\n",
    "ndf[['Regional_Node_Examined']].head()\n"
   ]
  },
  {
   "cell_type": "code",
   "execution_count": 218,
   "metadata": {},
   "outputs": [
    {
     "data": {
      "text/plain": [
       "array([24., 14.,  2., nan, 18., 11.,  9., 20., 21., 13., 23., 16., 22.,\n",
       "       15.,  4., 26., 31., 25., 10.,  3.,  5.,  6., 19., 12.,  8., 17.,\n",
       "        7., 49.,  1., 33., 30., 34., 28., 32., 27., 42., 29., 41., 39.,\n",
       "       40., 38., 47., 54., 36., 61., 37., 35., 43., 52., 45., 57., 51.,\n",
       "       60.])"
      ]
     },
     "execution_count": 218,
     "metadata": {},
     "output_type": "execute_result"
    }
   ],
   "source": [
    "ndf['Regional_Node_Examined'].unique()"
   ]
  },
  {
   "cell_type": "code",
   "execution_count": 219,
   "metadata": {},
   "outputs": [
    {
     "name": "stdout",
     "output_type": "stream",
     "text": [
      "Mean = Size: 14.453376205787782\n",
      "Mode  Size: 13.0\n",
      "Median  Size: 14.0\n"
     ]
    }
   ],
   "source": [
    "mean_Regional_Node_Examined = ndf['Regional_Node_Examined'].mean()\n",
    "mode_Regional_Node_Examined = ndf['Regional_Node_Examined'].mode()[0]  # mode() returns a series, so we take the first element\n",
    "median_Regional_Node_Examined = ndf['Regional_Node_Examined'].median()\n",
    "\n",
    "print(f\"Mean = Size: {mean_Regional_Node_Examined}\")\n",
    "print(f\"Mode  Size: {mode_Regional_Node_Examined}\")\n",
    "print(f\"Median  Size: {median_Regional_Node_Examined}\")\n"
   ]
  },
  {
   "cell_type": "code",
   "execution_count": 220,
   "metadata": {},
   "outputs": [
    {
     "name": "stderr",
     "output_type": "stream",
     "text": [
      "C:\\Users\\Concept D\\AppData\\Local\\Temp\\ipykernel_25804\\706916573.py:1: FutureWarning: A value is trying to be set on a copy of a DataFrame or Series through chained assignment using an inplace method.\n",
      "The behavior will change in pandas 3.0. This inplace method will never work because the intermediate object on which we are setting values always behaves as a copy.\n",
      "\n",
      "For example, when doing 'df[col].method(value, inplace=True)', try using 'df.method({col: value}, inplace=True)' or df[col] = df[col].method(value) instead, to perform the operation inplace on the original object.\n",
      "\n",
      "\n",
      "  ndf['Regional_Node_Examined'].fillna(median_Regional_Node_Examined, inplace=True)\n"
     ]
    },
    {
     "data": {
      "text/html": [
       "<div>\n",
       "<style scoped>\n",
       "    .dataframe tbody tr th:only-of-type {\n",
       "        vertical-align: middle;\n",
       "    }\n",
       "\n",
       "    .dataframe tbody tr th {\n",
       "        vertical-align: top;\n",
       "    }\n",
       "\n",
       "    .dataframe thead th {\n",
       "        text-align: right;\n",
       "    }\n",
       "</style>\n",
       "<table border=\"1\" class=\"dataframe\">\n",
       "  <thead>\n",
       "    <tr style=\"text-align: right;\">\n",
       "      <th></th>\n",
       "      <th>Regional_Node_Examined</th>\n",
       "    </tr>\n",
       "  </thead>\n",
       "  <tbody>\n",
       "    <tr>\n",
       "      <th>0</th>\n",
       "      <td>24.0</td>\n",
       "    </tr>\n",
       "    <tr>\n",
       "      <th>1</th>\n",
       "      <td>14.0</td>\n",
       "    </tr>\n",
       "    <tr>\n",
       "      <th>2</th>\n",
       "      <td>14.0</td>\n",
       "    </tr>\n",
       "    <tr>\n",
       "      <th>3</th>\n",
       "      <td>2.0</td>\n",
       "    </tr>\n",
       "    <tr>\n",
       "      <th>4</th>\n",
       "      <td>14.0</td>\n",
       "    </tr>\n",
       "    <tr>\n",
       "      <th>...</th>\n",
       "      <td>...</td>\n",
       "    </tr>\n",
       "    <tr>\n",
       "      <th>4019</th>\n",
       "      <td>1.0</td>\n",
       "    </tr>\n",
       "    <tr>\n",
       "      <th>4020</th>\n",
       "      <td>14.0</td>\n",
       "    </tr>\n",
       "    <tr>\n",
       "      <th>4021</th>\n",
       "      <td>11.0</td>\n",
       "    </tr>\n",
       "    <tr>\n",
       "      <th>4022</th>\n",
       "      <td>11.0</td>\n",
       "    </tr>\n",
       "    <tr>\n",
       "      <th>4023</th>\n",
       "      <td>14.0</td>\n",
       "    </tr>\n",
       "  </tbody>\n",
       "</table>\n",
       "<p>4024 rows × 1 columns</p>\n",
       "</div>"
      ],
      "text/plain": [
       "      Regional_Node_Examined\n",
       "0                       24.0\n",
       "1                       14.0\n",
       "2                       14.0\n",
       "3                        2.0\n",
       "4                       14.0\n",
       "...                      ...\n",
       "4019                     1.0\n",
       "4020                    14.0\n",
       "4021                    11.0\n",
       "4022                    11.0\n",
       "4023                    14.0\n",
       "\n",
       "[4024 rows x 1 columns]"
      ]
     },
     "execution_count": 220,
     "metadata": {},
     "output_type": "execute_result"
    }
   ],
   "source": [
    "ndf['Regional_Node_Examined'].fillna(median_Regional_Node_Examined, inplace=True)\n",
    "\n",
    "ndf[['Regional_Node_Examined']]\n"
   ]
  },
  {
   "cell_type": "code",
   "execution_count": 221,
   "metadata": {},
   "outputs": [
    {
     "name": "stdout",
     "output_type": "stream",
     "text": [
      "<class 'pandas.core.frame.DataFrame'>\n",
      "RangeIndex: 4024 entries, 0 to 4023\n",
      "Data columns (total 25 columns):\n",
      " #   Column                               Non-Null Count  Dtype  \n",
      "---  ------                               --------------  -----  \n",
      " 0   Age                                  4024 non-null   float64\n",
      " 1   T_Stage_                             4024 non-null   int64  \n",
      " 2   N_Stage                              4024 non-null   int64  \n",
      " 3   6th_Stage                            4024 non-null   int64  \n",
      " 4   Grade                                4024 non-null   int64  \n",
      " 5   Tumor_Size                           4024 non-null   float64\n",
      " 6   Estrogen_Status                      4024 non-null   int64  \n",
      " 7   Progesterone_Status                  4024 non-null   int64  \n",
      " 8   Regional_Node_Examined               4024 non-null   float64\n",
      " 9   Reginol_Node_Positive                3817 non-null   object \n",
      " 10  Survival_Months                      3798 non-null   object \n",
      " 11  Status                               4024 non-null   object \n",
      " 12  Race_Black                           4024 non-null   int64  \n",
      " 13  Race_Other                           4024 non-null   int64  \n",
      " 14  Race_White                           4024 non-null   int64  \n",
      " 15  Marital_Status_divorced              4024 non-null   int64  \n",
      " 16  Marital_Status_married               4024 non-null   int64  \n",
      " 17  Marital_Status_separated             4024 non-null   int64  \n",
      " 18  Marital_Status_single                4024 non-null   int64  \n",
      " 19  Marital_Status_widowed               4024 non-null   int64  \n",
      " 20  differentiate_POORLY DIFFERENTIATED  4024 non-null   int64  \n",
      " 21  differentiate_UNDIFFERENTIATED       4024 non-null   int64  \n",
      " 22  differentiate_WELL DIFFERENTIATED    4024 non-null   int64  \n",
      " 23  A_Stage_DISTANT                      4024 non-null   int64  \n",
      " 24  A_Stage_REGIONAL                     4024 non-null   int64  \n",
      "dtypes: float64(3), int64(19), object(3)\n",
      "memory usage: 786.1+ KB\n"
     ]
    }
   ],
   "source": [
    "ndf.info()"
   ]
  },
  {
   "cell_type": "markdown",
   "metadata": {},
   "source": [
    "#### Reginol_Node_Positive"
   ]
  },
  {
   "cell_type": "code",
   "execution_count": 222,
   "metadata": {},
   "outputs": [
    {
     "data": {
      "text/plain": [
       "array(['1', nan, '2', 'MISSING', '18', '12', ' MISSING ', '3', '7', '14',\n",
       "       ' missing ', 'missing', '22', '17', '23', '4', '6', '5', '9', '20',\n",
       "       '16', '13', '11', '24', '10', '8', '27', '21', '26', '15', '19',\n",
       "       '28', '31', '46', '33', '29', '37', '30', '35', '25', '32', '41',\n",
       "       '34'], dtype=object)"
      ]
     },
     "execution_count": 222,
     "metadata": {},
     "output_type": "execute_result"
    }
   ],
   "source": [
    "ndf['Reginol_Node_Positive'].unique()"
   ]
  },
  {
   "cell_type": "code",
   "execution_count": 223,
   "metadata": {},
   "outputs": [
    {
     "data": {
      "text/plain": [
       "np.int64(207)"
      ]
     },
     "execution_count": 223,
     "metadata": {},
     "output_type": "execute_result"
    }
   ],
   "source": [
    "ndf['Reginol_Node_Positive'].isnull().sum()"
   ]
  },
  {
   "cell_type": "code",
   "execution_count": 224,
   "metadata": {},
   "outputs": [
    {
     "data": {
      "text/html": [
       "<div>\n",
       "<style scoped>\n",
       "    .dataframe tbody tr th:only-of-type {\n",
       "        vertical-align: middle;\n",
       "    }\n",
       "\n",
       "    .dataframe tbody tr th {\n",
       "        vertical-align: top;\n",
       "    }\n",
       "\n",
       "    .dataframe thead th {\n",
       "        text-align: right;\n",
       "    }\n",
       "</style>\n",
       "<table border=\"1\" class=\"dataframe\">\n",
       "  <thead>\n",
       "    <tr style=\"text-align: right;\">\n",
       "      <th></th>\n",
       "      <th>Reginol_Node_Positive</th>\n",
       "    </tr>\n",
       "  </thead>\n",
       "  <tbody>\n",
       "    <tr>\n",
       "      <th>0</th>\n",
       "      <td>1.0</td>\n",
       "    </tr>\n",
       "    <tr>\n",
       "      <th>1</th>\n",
       "      <td>NaN</td>\n",
       "    </tr>\n",
       "    <tr>\n",
       "      <th>2</th>\n",
       "      <td>NaN</td>\n",
       "    </tr>\n",
       "    <tr>\n",
       "      <th>3</th>\n",
       "      <td>1.0</td>\n",
       "    </tr>\n",
       "    <tr>\n",
       "      <th>4</th>\n",
       "      <td>1.0</td>\n",
       "    </tr>\n",
       "  </tbody>\n",
       "</table>\n",
       "</div>"
      ],
      "text/plain": [
       "   Reginol_Node_Positive\n",
       "0                    1.0\n",
       "1                    NaN\n",
       "2                    NaN\n",
       "3                    1.0\n",
       "4                    1.0"
      ]
     },
     "execution_count": 224,
     "metadata": {},
     "output_type": "execute_result"
    }
   ],
   "source": [
    "ndf['Reginol_Node_Positive'] = ndf['Reginol_Node_Positive'].replace(['missing', ' MISSING ', ' missing ', 'MISSING', 'nan', ' missing'], np.nan)\n",
    "\n",
    "ndf['Reginol_Node_Positive'] = pd.to_numeric(ndf['Reginol_Node_Positive'], errors='coerce')\n",
    "\n",
    "ndf[['Reginol_Node_Positive']].head()\n"
   ]
  },
  {
   "cell_type": "code",
   "execution_count": 225,
   "metadata": {},
   "outputs": [
    {
     "data": {
      "text/plain": [
       "np.int64(612)"
      ]
     },
     "execution_count": 225,
     "metadata": {},
     "output_type": "execute_result"
    }
   ],
   "source": [
    "ndf['Reginol_Node_Positive'].isnull().sum()"
   ]
  },
  {
   "cell_type": "code",
   "execution_count": 226,
   "metadata": {},
   "outputs": [
    {
     "data": {
      "text/plain": [
       "array([ 1., nan,  2., 18., 12.,  3.,  7., 14., 22., 17., 23.,  4.,  6.,\n",
       "        5.,  9., 20., 16., 13., 11., 24., 10.,  8., 27., 21., 26., 15.,\n",
       "       19., 28., 31., 46., 33., 29., 37., 30., 35., 25., 32., 41., 34.])"
      ]
     },
     "execution_count": 226,
     "metadata": {},
     "output_type": "execute_result"
    }
   ],
   "source": [
    "ndf['Reginol_Node_Positive'].unique()"
   ]
  },
  {
   "cell_type": "code",
   "execution_count": 227,
   "metadata": {},
   "outputs": [
    {
     "name": "stdout",
     "output_type": "stream",
     "text": [
      "Mean = Size: 4.168815943728019\n",
      "Mode  Size: 1.0\n",
      "Median  Size: 2.0\n"
     ]
    }
   ],
   "source": [
    "mean_Reginol_Node_Positive = ndf['Reginol_Node_Positive'].mean()\n",
    "mode_Reginol_Node_Positive= ndf['Reginol_Node_Positive'].mode()[0]  # mode() returns a series, so we take the first element\n",
    "median_Reginol_Node_Positive= ndf['Reginol_Node_Positive'].median()\n",
    "\n",
    "print(f\"Mean = Size: {mean_Reginol_Node_Positive}\")\n",
    "print(f\"Mode  Size: {mode_Reginol_Node_Positive}\")\n",
    "print(f\"Median  Size: {median_Reginol_Node_Positive}\")\n"
   ]
  },
  {
   "cell_type": "code",
   "execution_count": 228,
   "metadata": {},
   "outputs": [
    {
     "name": "stderr",
     "output_type": "stream",
     "text": [
      "C:\\Users\\Concept D\\AppData\\Local\\Temp\\ipykernel_25804\\3900529205.py:1: FutureWarning: A value is trying to be set on a copy of a DataFrame or Series through chained assignment using an inplace method.\n",
      "The behavior will change in pandas 3.0. This inplace method will never work because the intermediate object on which we are setting values always behaves as a copy.\n",
      "\n",
      "For example, when doing 'df[col].method(value, inplace=True)', try using 'df.method({col: value}, inplace=True)' or df[col] = df[col].method(value) instead, to perform the operation inplace on the original object.\n",
      "\n",
      "\n",
      "  ndf['Reginol_Node_Positive'].fillna(median_Reginol_Node_Positive, inplace=True)\n"
     ]
    },
    {
     "data": {
      "text/html": [
       "<div>\n",
       "<style scoped>\n",
       "    .dataframe tbody tr th:only-of-type {\n",
       "        vertical-align: middle;\n",
       "    }\n",
       "\n",
       "    .dataframe tbody tr th {\n",
       "        vertical-align: top;\n",
       "    }\n",
       "\n",
       "    .dataframe thead th {\n",
       "        text-align: right;\n",
       "    }\n",
       "</style>\n",
       "<table border=\"1\" class=\"dataframe\">\n",
       "  <thead>\n",
       "    <tr style=\"text-align: right;\">\n",
       "      <th></th>\n",
       "      <th>Reginol_Node_Positive</th>\n",
       "    </tr>\n",
       "  </thead>\n",
       "  <tbody>\n",
       "    <tr>\n",
       "      <th>0</th>\n",
       "      <td>1.0</td>\n",
       "    </tr>\n",
       "    <tr>\n",
       "      <th>1</th>\n",
       "      <td>2.0</td>\n",
       "    </tr>\n",
       "    <tr>\n",
       "      <th>2</th>\n",
       "      <td>2.0</td>\n",
       "    </tr>\n",
       "    <tr>\n",
       "      <th>3</th>\n",
       "      <td>1.0</td>\n",
       "    </tr>\n",
       "    <tr>\n",
       "      <th>4</th>\n",
       "      <td>1.0</td>\n",
       "    </tr>\n",
       "    <tr>\n",
       "      <th>...</th>\n",
       "      <td>...</td>\n",
       "    </tr>\n",
       "    <tr>\n",
       "      <th>4019</th>\n",
       "      <td>1.0</td>\n",
       "    </tr>\n",
       "    <tr>\n",
       "      <th>4020</th>\n",
       "      <td>8.0</td>\n",
       "    </tr>\n",
       "    <tr>\n",
       "      <th>4021</th>\n",
       "      <td>3.0</td>\n",
       "    </tr>\n",
       "    <tr>\n",
       "      <th>4022</th>\n",
       "      <td>1.0</td>\n",
       "    </tr>\n",
       "    <tr>\n",
       "      <th>4023</th>\n",
       "      <td>2.0</td>\n",
       "    </tr>\n",
       "  </tbody>\n",
       "</table>\n",
       "<p>4024 rows × 1 columns</p>\n",
       "</div>"
      ],
      "text/plain": [
       "      Reginol_Node_Positive\n",
       "0                       1.0\n",
       "1                       2.0\n",
       "2                       2.0\n",
       "3                       1.0\n",
       "4                       1.0\n",
       "...                     ...\n",
       "4019                    1.0\n",
       "4020                    8.0\n",
       "4021                    3.0\n",
       "4022                    1.0\n",
       "4023                    2.0\n",
       "\n",
       "[4024 rows x 1 columns]"
      ]
     },
     "execution_count": 228,
     "metadata": {},
     "output_type": "execute_result"
    }
   ],
   "source": [
    "ndf['Reginol_Node_Positive'].fillna(median_Reginol_Node_Positive, inplace=True)\n",
    "\n",
    "ndf[['Reginol_Node_Positive']]\n"
   ]
  },
  {
   "cell_type": "code",
   "execution_count": 229,
   "metadata": {},
   "outputs": [
    {
     "data": {
      "text/plain": [
       "array([ 1.,  2., 18., 12.,  3.,  7., 14., 22., 17., 23.,  4.,  6.,  5.,\n",
       "        9., 20., 16., 13., 11., 24., 10.,  8., 27., 21., 26., 15., 19.,\n",
       "       28., 31., 46., 33., 29., 37., 30., 35., 25., 32., 41., 34.])"
      ]
     },
     "execution_count": 229,
     "metadata": {},
     "output_type": "execute_result"
    }
   ],
   "source": [
    "ndf['Reginol_Node_Positive'].unique()"
   ]
  },
  {
   "cell_type": "code",
   "execution_count": 230,
   "metadata": {},
   "outputs": [
    {
     "name": "stdout",
     "output_type": "stream",
     "text": [
      "<class 'pandas.core.frame.DataFrame'>\n",
      "RangeIndex: 4024 entries, 0 to 4023\n",
      "Data columns (total 25 columns):\n",
      " #   Column                               Non-Null Count  Dtype  \n",
      "---  ------                               --------------  -----  \n",
      " 0   Age                                  4024 non-null   float64\n",
      " 1   T_Stage_                             4024 non-null   int64  \n",
      " 2   N_Stage                              4024 non-null   int64  \n",
      " 3   6th_Stage                            4024 non-null   int64  \n",
      " 4   Grade                                4024 non-null   int64  \n",
      " 5   Tumor_Size                           4024 non-null   float64\n",
      " 6   Estrogen_Status                      4024 non-null   int64  \n",
      " 7   Progesterone_Status                  4024 non-null   int64  \n",
      " 8   Regional_Node_Examined               4024 non-null   float64\n",
      " 9   Reginol_Node_Positive                4024 non-null   float64\n",
      " 10  Survival_Months                      3798 non-null   object \n",
      " 11  Status                               4024 non-null   object \n",
      " 12  Race_Black                           4024 non-null   int64  \n",
      " 13  Race_Other                           4024 non-null   int64  \n",
      " 14  Race_White                           4024 non-null   int64  \n",
      " 15  Marital_Status_divorced              4024 non-null   int64  \n",
      " 16  Marital_Status_married               4024 non-null   int64  \n",
      " 17  Marital_Status_separated             4024 non-null   int64  \n",
      " 18  Marital_Status_single                4024 non-null   int64  \n",
      " 19  Marital_Status_widowed               4024 non-null   int64  \n",
      " 20  differentiate_POORLY DIFFERENTIATED  4024 non-null   int64  \n",
      " 21  differentiate_UNDIFFERENTIATED       4024 non-null   int64  \n",
      " 22  differentiate_WELL DIFFERENTIATED    4024 non-null   int64  \n",
      " 23  A_Stage_DISTANT                      4024 non-null   int64  \n",
      " 24  A_Stage_REGIONAL                     4024 non-null   int64  \n",
      "dtypes: float64(4), int64(19), object(2)\n",
      "memory usage: 786.1+ KB\n"
     ]
    }
   ],
   "source": [
    "ndf.info()"
   ]
  },
  {
   "cell_type": "markdown",
   "metadata": {},
   "source": [
    "#### Survival Months\n"
   ]
  },
  {
   "cell_type": "code",
   "execution_count": 231,
   "metadata": {},
   "outputs": [
    {
     "data": {
      "text/plain": [
       "array(['MISSING', '62', '75', '84', '50', '89', '54', '14', '70',\n",
       "       ' missing ', '64', '92', '56', '38', '49', '105', '107', '77',\n",
       "       'missing', '78', nan, '98', '102', '82', '86', '52', '90', '37',\n",
       "       '103', ' MISSING ', '42', '63', '39', '59', '71', '74', '73', '91',\n",
       "       '106', '60', '44', '85', '79', '104', '12', '95', '81', '55', '65',\n",
       "       '72', '57', '40', '25', '8', '53', '58', '24', '66', '93', '94',\n",
       "       '100', '87', '41', '67', '69', '101', '51', '13', '11', '47', '23',\n",
       "       '45', '68', '15', '31', '76', '16', '99', '96', '7', '61', '48',\n",
       "       '88', '97', '80', '83', '3', '22', '30', '6', '9', '5', '10', '19',\n",
       "       '34', '18', '35', '27', '36', '4', '33', '26', '20', '28', '43',\n",
       "       '17', '29', '21', '2', '46', '32'], dtype=object)"
      ]
     },
     "execution_count": 231,
     "metadata": {},
     "output_type": "execute_result"
    }
   ],
   "source": [
    "ndf['Survival_Months'].unique()"
   ]
  },
  {
   "cell_type": "code",
   "execution_count": 232,
   "metadata": {},
   "outputs": [
    {
     "data": {
      "text/plain": [
       "np.int64(226)"
      ]
     },
     "execution_count": 232,
     "metadata": {},
     "output_type": "execute_result"
    }
   ],
   "source": [
    "ndf['Survival_Months'].isnull().sum()"
   ]
  },
  {
   "cell_type": "code",
   "execution_count": 233,
   "metadata": {},
   "outputs": [
    {
     "data": {
      "text/html": [
       "<div>\n",
       "<style scoped>\n",
       "    .dataframe tbody tr th:only-of-type {\n",
       "        vertical-align: middle;\n",
       "    }\n",
       "\n",
       "    .dataframe tbody tr th {\n",
       "        vertical-align: top;\n",
       "    }\n",
       "\n",
       "    .dataframe thead th {\n",
       "        text-align: right;\n",
       "    }\n",
       "</style>\n",
       "<table border=\"1\" class=\"dataframe\">\n",
       "  <thead>\n",
       "    <tr style=\"text-align: right;\">\n",
       "      <th></th>\n",
       "      <th>Survival_Months</th>\n",
       "    </tr>\n",
       "  </thead>\n",
       "  <tbody>\n",
       "    <tr>\n",
       "      <th>0</th>\n",
       "      <td>NaN</td>\n",
       "    </tr>\n",
       "    <tr>\n",
       "      <th>1</th>\n",
       "      <td>62.0</td>\n",
       "    </tr>\n",
       "    <tr>\n",
       "      <th>2</th>\n",
       "      <td>75.0</td>\n",
       "    </tr>\n",
       "    <tr>\n",
       "      <th>3</th>\n",
       "      <td>84.0</td>\n",
       "    </tr>\n",
       "    <tr>\n",
       "      <th>4</th>\n",
       "      <td>50.0</td>\n",
       "    </tr>\n",
       "  </tbody>\n",
       "</table>\n",
       "</div>"
      ],
      "text/plain": [
       "   Survival_Months\n",
       "0              NaN\n",
       "1             62.0\n",
       "2             75.0\n",
       "3             84.0\n",
       "4             50.0"
      ]
     },
     "execution_count": 233,
     "metadata": {},
     "output_type": "execute_result"
    }
   ],
   "source": [
    "ndf['Survival_Months'] = ndf['Survival_Months'].replace(['missing', ' MISSING ', ' missing ', 'MISSING', 'nan', ' missing'], np.nan)\n",
    "\n",
    "ndf['Survival_Months'] = pd.to_numeric(ndf['Survival_Months'], errors='coerce')\n",
    "\n",
    "ndf[['Survival_Months']].head()\n"
   ]
  },
  {
   "cell_type": "code",
   "execution_count": 234,
   "metadata": {},
   "outputs": [
    {
     "data": {
      "text/plain": [
       "np.int64(625)"
      ]
     },
     "execution_count": 234,
     "metadata": {},
     "output_type": "execute_result"
    }
   ],
   "source": [
    "ndf['Survival_Months'].isnull().sum()"
   ]
  },
  {
   "cell_type": "code",
   "execution_count": 235,
   "metadata": {},
   "outputs": [
    {
     "name": "stdout",
     "output_type": "stream",
     "text": [
      "Mean = Size: 71.16475433951162\n",
      "Mode  Size: 69.0\n",
      "Median  Size: 73.0\n"
     ]
    }
   ],
   "source": [
    "mean_Survival_Months = ndf['Survival_Months'].mean()\n",
    "mode_Survival_Months= ndf['Survival_Months'].mode()[0]  \n",
    "median_Survival_Months= ndf['Survival_Months'].median()\n",
    "\n",
    "print(f\"Mean = Size: {mean_Survival_Months}\")\n",
    "print(f\"Mode  Size: {mode_Survival_Months}\")\n",
    "print(f\"Median  Size: {median_Survival_Months}\")"
   ]
  },
  {
   "cell_type": "code",
   "execution_count": 236,
   "metadata": {},
   "outputs": [
    {
     "name": "stderr",
     "output_type": "stream",
     "text": [
      "C:\\Users\\Concept D\\AppData\\Local\\Temp\\ipykernel_25804\\1043454301.py:1: FutureWarning: A value is trying to be set on a copy of a DataFrame or Series through chained assignment using an inplace method.\n",
      "The behavior will change in pandas 3.0. This inplace method will never work because the intermediate object on which we are setting values always behaves as a copy.\n",
      "\n",
      "For example, when doing 'df[col].method(value, inplace=True)', try using 'df.method({col: value}, inplace=True)' or df[col] = df[col].method(value) instead, to perform the operation inplace on the original object.\n",
      "\n",
      "\n",
      "  ndf['Survival_Months'].fillna(median_Survival_Months, inplace=True)\n"
     ]
    },
    {
     "data": {
      "text/html": [
       "<div>\n",
       "<style scoped>\n",
       "    .dataframe tbody tr th:only-of-type {\n",
       "        vertical-align: middle;\n",
       "    }\n",
       "\n",
       "    .dataframe tbody tr th {\n",
       "        vertical-align: top;\n",
       "    }\n",
       "\n",
       "    .dataframe thead th {\n",
       "        text-align: right;\n",
       "    }\n",
       "</style>\n",
       "<table border=\"1\" class=\"dataframe\">\n",
       "  <thead>\n",
       "    <tr style=\"text-align: right;\">\n",
       "      <th></th>\n",
       "      <th>Survival_Months</th>\n",
       "    </tr>\n",
       "  </thead>\n",
       "  <tbody>\n",
       "    <tr>\n",
       "      <th>0</th>\n",
       "      <td>73.0</td>\n",
       "    </tr>\n",
       "    <tr>\n",
       "      <th>1</th>\n",
       "      <td>62.0</td>\n",
       "    </tr>\n",
       "    <tr>\n",
       "      <th>2</th>\n",
       "      <td>75.0</td>\n",
       "    </tr>\n",
       "    <tr>\n",
       "      <th>3</th>\n",
       "      <td>84.0</td>\n",
       "    </tr>\n",
       "    <tr>\n",
       "      <th>4</th>\n",
       "      <td>50.0</td>\n",
       "    </tr>\n",
       "    <tr>\n",
       "      <th>...</th>\n",
       "      <td>...</td>\n",
       "    </tr>\n",
       "    <tr>\n",
       "      <th>4019</th>\n",
       "      <td>49.0</td>\n",
       "    </tr>\n",
       "    <tr>\n",
       "      <th>4020</th>\n",
       "      <td>69.0</td>\n",
       "    </tr>\n",
       "    <tr>\n",
       "      <th>4021</th>\n",
       "      <td>69.0</td>\n",
       "    </tr>\n",
       "    <tr>\n",
       "      <th>4022</th>\n",
       "      <td>73.0</td>\n",
       "    </tr>\n",
       "    <tr>\n",
       "      <th>4023</th>\n",
       "      <td>100.0</td>\n",
       "    </tr>\n",
       "  </tbody>\n",
       "</table>\n",
       "<p>4024 rows × 1 columns</p>\n",
       "</div>"
      ],
      "text/plain": [
       "      Survival_Months\n",
       "0                73.0\n",
       "1                62.0\n",
       "2                75.0\n",
       "3                84.0\n",
       "4                50.0\n",
       "...               ...\n",
       "4019             49.0\n",
       "4020             69.0\n",
       "4021             69.0\n",
       "4022             73.0\n",
       "4023            100.0\n",
       "\n",
       "[4024 rows x 1 columns]"
      ]
     },
     "execution_count": 236,
     "metadata": {},
     "output_type": "execute_result"
    }
   ],
   "source": [
    "ndf['Survival_Months'].fillna(median_Survival_Months, inplace=True)\n",
    "\n",
    "ndf[['Survival_Months']]\n"
   ]
  },
  {
   "cell_type": "code",
   "execution_count": 237,
   "metadata": {},
   "outputs": [
    {
     "name": "stdout",
     "output_type": "stream",
     "text": [
      "<class 'pandas.core.frame.DataFrame'>\n",
      "RangeIndex: 4024 entries, 0 to 4023\n",
      "Data columns (total 25 columns):\n",
      " #   Column                               Non-Null Count  Dtype  \n",
      "---  ------                               --------------  -----  \n",
      " 0   Age                                  4024 non-null   float64\n",
      " 1   T_Stage_                             4024 non-null   int64  \n",
      " 2   N_Stage                              4024 non-null   int64  \n",
      " 3   6th_Stage                            4024 non-null   int64  \n",
      " 4   Grade                                4024 non-null   int64  \n",
      " 5   Tumor_Size                           4024 non-null   float64\n",
      " 6   Estrogen_Status                      4024 non-null   int64  \n",
      " 7   Progesterone_Status                  4024 non-null   int64  \n",
      " 8   Regional_Node_Examined               4024 non-null   float64\n",
      " 9   Reginol_Node_Positive                4024 non-null   float64\n",
      " 10  Survival_Months                      4024 non-null   float64\n",
      " 11  Status                               4024 non-null   object \n",
      " 12  Race_Black                           4024 non-null   int64  \n",
      " 13  Race_Other                           4024 non-null   int64  \n",
      " 14  Race_White                           4024 non-null   int64  \n",
      " 15  Marital_Status_divorced              4024 non-null   int64  \n",
      " 16  Marital_Status_married               4024 non-null   int64  \n",
      " 17  Marital_Status_separated             4024 non-null   int64  \n",
      " 18  Marital_Status_single                4024 non-null   int64  \n",
      " 19  Marital_Status_widowed               4024 non-null   int64  \n",
      " 20  differentiate_POORLY DIFFERENTIATED  4024 non-null   int64  \n",
      " 21  differentiate_UNDIFFERENTIATED       4024 non-null   int64  \n",
      " 22  differentiate_WELL DIFFERENTIATED    4024 non-null   int64  \n",
      " 23  A_Stage_DISTANT                      4024 non-null   int64  \n",
      " 24  A_Stage_REGIONAL                     4024 non-null   int64  \n",
      "dtypes: float64(5), int64(19), object(1)\n",
      "memory usage: 786.1+ KB\n"
     ]
    }
   ],
   "source": [
    "ndf.info()"
   ]
  },
  {
   "cell_type": "markdown",
   "metadata": {},
   "source": [
    "#### Status"
   ]
  },
  {
   "cell_type": "code",
   "execution_count": 238,
   "metadata": {},
   "outputs": [
    {
     "data": {
      "text/plain": [
       "array(['Alive', 'Dead'], dtype=object)"
      ]
     },
     "execution_count": 238,
     "metadata": {},
     "output_type": "execute_result"
    }
   ],
   "source": [
    "ndf['Status'].unique()"
   ]
  },
  {
   "cell_type": "code",
   "execution_count": 239,
   "metadata": {},
   "outputs": [
    {
     "name": "stderr",
     "output_type": "stream",
     "text": [
      "C:\\Users\\Concept D\\AppData\\Local\\Temp\\ipykernel_25804\\2711747122.py:1: FutureWarning: Downcasting behavior in `replace` is deprecated and will be removed in a future version. To retain the old behavior, explicitly call `result.infer_objects(copy=False)`. To opt-in to the future behavior, set `pd.set_option('future.no_silent_downcasting', True)`\n",
      "  ndf['Status'] = ndf['Status'].replace({\n"
     ]
    }
   ],
   "source": [
    "ndf['Status'] = ndf['Status'].replace({\n",
    "    'Dead': 0,\n",
    "    'Alive': 1\n",
    "    \n",
    "})\n",
    "ndf['Status'] = pd.to_numeric(ndf['Status'], errors='coerce')"
   ]
  },
  {
   "cell_type": "code",
   "execution_count": 240,
   "metadata": {},
   "outputs": [
    {
     "name": "stdout",
     "output_type": "stream",
     "text": [
      "<class 'pandas.core.series.Series'>\n",
      "RangeIndex: 4024 entries, 0 to 4023\n",
      "Series name: Status\n",
      "Non-Null Count  Dtype\n",
      "--------------  -----\n",
      "4024 non-null   int64\n",
      "dtypes: int64(1)\n",
      "memory usage: 31.6 KB\n"
     ]
    }
   ],
   "source": [
    "ndf['Status'].info() "
   ]
  },
  {
   "cell_type": "code",
   "execution_count": 241,
   "metadata": {},
   "outputs": [
    {
     "data": {
      "text/html": [
       "<div>\n",
       "<style scoped>\n",
       "    .dataframe tbody tr th:only-of-type {\n",
       "        vertical-align: middle;\n",
       "    }\n",
       "\n",
       "    .dataframe tbody tr th {\n",
       "        vertical-align: top;\n",
       "    }\n",
       "\n",
       "    .dataframe thead th {\n",
       "        text-align: right;\n",
       "    }\n",
       "</style>\n",
       "<table border=\"1\" class=\"dataframe\">\n",
       "  <thead>\n",
       "    <tr style=\"text-align: right;\">\n",
       "      <th></th>\n",
       "      <th>Age</th>\n",
       "      <th>T_Stage_</th>\n",
       "      <th>N_Stage</th>\n",
       "      <th>6th_Stage</th>\n",
       "      <th>Grade</th>\n",
       "      <th>Tumor_Size</th>\n",
       "      <th>Estrogen_Status</th>\n",
       "      <th>Progesterone_Status</th>\n",
       "      <th>Regional_Node_Examined</th>\n",
       "      <th>Reginol_Node_Positive</th>\n",
       "      <th>...</th>\n",
       "      <th>Marital_Status_divorced</th>\n",
       "      <th>Marital_Status_married</th>\n",
       "      <th>Marital_Status_separated</th>\n",
       "      <th>Marital_Status_single</th>\n",
       "      <th>Marital_Status_widowed</th>\n",
       "      <th>differentiate_POORLY DIFFERENTIATED</th>\n",
       "      <th>differentiate_UNDIFFERENTIATED</th>\n",
       "      <th>differentiate_WELL DIFFERENTIATED</th>\n",
       "      <th>A_Stage_DISTANT</th>\n",
       "      <th>A_Stage_REGIONAL</th>\n",
       "    </tr>\n",
       "  </thead>\n",
       "  <tbody>\n",
       "    <tr>\n",
       "      <th>count</th>\n",
       "      <td>4024.000000</td>\n",
       "      <td>4024.000000</td>\n",
       "      <td>4024.000000</td>\n",
       "      <td>4024.000000</td>\n",
       "      <td>4024.000000</td>\n",
       "      <td>4024.000000</td>\n",
       "      <td>4024.000000</td>\n",
       "      <td>4024.000000</td>\n",
       "      <td>4024.000000</td>\n",
       "      <td>4024.000000</td>\n",
       "      <td>...</td>\n",
       "      <td>4024.000000</td>\n",
       "      <td>4024.000000</td>\n",
       "      <td>4024.000000</td>\n",
       "      <td>4024.000000</td>\n",
       "      <td>4024.000000</td>\n",
       "      <td>4024.000000</td>\n",
       "      <td>4024.000000</td>\n",
       "      <td>4024.000000</td>\n",
       "      <td>4024.000000</td>\n",
       "      <td>4024.000000</td>\n",
       "    </tr>\n",
       "    <tr>\n",
       "      <th>mean</th>\n",
       "      <td>53.939861</td>\n",
       "      <td>1.794732</td>\n",
       "      <td>1.413767</td>\n",
       "      <td>2.150845</td>\n",
       "      <td>2.136431</td>\n",
       "      <td>29.594185</td>\n",
       "      <td>0.936133</td>\n",
       "      <td>0.834990</td>\n",
       "      <td>14.385437</td>\n",
       "      <td>3.838966</td>\n",
       "      <td>...</td>\n",
       "      <td>0.115308</td>\n",
       "      <td>0.670477</td>\n",
       "      <td>0.010686</td>\n",
       "      <td>0.146869</td>\n",
       "      <td>0.056660</td>\n",
       "      <td>0.257207</td>\n",
       "      <td>0.004722</td>\n",
       "      <td>0.128728</td>\n",
       "      <td>0.021372</td>\n",
       "      <td>0.978628</td>\n",
       "    </tr>\n",
       "    <tr>\n",
       "      <th>std</th>\n",
       "      <td>8.222385</td>\n",
       "      <td>0.743929</td>\n",
       "      <td>0.678874</td>\n",
       "      <td>1.081956</td>\n",
       "      <td>0.623131</td>\n",
       "      <td>19.521343</td>\n",
       "      <td>0.244546</td>\n",
       "      <td>0.371236</td>\n",
       "      <td>7.489444</td>\n",
       "      <td>4.770801</td>\n",
       "      <td>...</td>\n",
       "      <td>0.319433</td>\n",
       "      <td>0.470098</td>\n",
       "      <td>0.102832</td>\n",
       "      <td>0.354019</td>\n",
       "      <td>0.231221</td>\n",
       "      <td>0.437149</td>\n",
       "      <td>0.068561</td>\n",
       "      <td>0.334940</td>\n",
       "      <td>0.144638</td>\n",
       "      <td>0.144638</td>\n",
       "    </tr>\n",
       "    <tr>\n",
       "      <th>min</th>\n",
       "      <td>30.000000</td>\n",
       "      <td>1.000000</td>\n",
       "      <td>1.000000</td>\n",
       "      <td>1.000000</td>\n",
       "      <td>1.000000</td>\n",
       "      <td>1.000000</td>\n",
       "      <td>0.000000</td>\n",
       "      <td>0.000000</td>\n",
       "      <td>1.000000</td>\n",
       "      <td>1.000000</td>\n",
       "      <td>...</td>\n",
       "      <td>0.000000</td>\n",
       "      <td>0.000000</td>\n",
       "      <td>0.000000</td>\n",
       "      <td>0.000000</td>\n",
       "      <td>0.000000</td>\n",
       "      <td>0.000000</td>\n",
       "      <td>0.000000</td>\n",
       "      <td>0.000000</td>\n",
       "      <td>0.000000</td>\n",
       "      <td>0.000000</td>\n",
       "    </tr>\n",
       "    <tr>\n",
       "      <th>25%</th>\n",
       "      <td>48.000000</td>\n",
       "      <td>1.000000</td>\n",
       "      <td>1.000000</td>\n",
       "      <td>1.000000</td>\n",
       "      <td>2.000000</td>\n",
       "      <td>18.000000</td>\n",
       "      <td>1.000000</td>\n",
       "      <td>1.000000</td>\n",
       "      <td>10.000000</td>\n",
       "      <td>1.000000</td>\n",
       "      <td>...</td>\n",
       "      <td>0.000000</td>\n",
       "      <td>0.000000</td>\n",
       "      <td>0.000000</td>\n",
       "      <td>0.000000</td>\n",
       "      <td>0.000000</td>\n",
       "      <td>0.000000</td>\n",
       "      <td>0.000000</td>\n",
       "      <td>0.000000</td>\n",
       "      <td>0.000000</td>\n",
       "      <td>1.000000</td>\n",
       "    </tr>\n",
       "    <tr>\n",
       "      <th>50%</th>\n",
       "      <td>54.000000</td>\n",
       "      <td>2.000000</td>\n",
       "      <td>1.000000</td>\n",
       "      <td>2.000000</td>\n",
       "      <td>2.000000</td>\n",
       "      <td>25.000000</td>\n",
       "      <td>1.000000</td>\n",
       "      <td>1.000000</td>\n",
       "      <td>14.000000</td>\n",
       "      <td>2.000000</td>\n",
       "      <td>...</td>\n",
       "      <td>0.000000</td>\n",
       "      <td>1.000000</td>\n",
       "      <td>0.000000</td>\n",
       "      <td>0.000000</td>\n",
       "      <td>0.000000</td>\n",
       "      <td>0.000000</td>\n",
       "      <td>0.000000</td>\n",
       "      <td>0.000000</td>\n",
       "      <td>0.000000</td>\n",
       "      <td>1.000000</td>\n",
       "    </tr>\n",
       "    <tr>\n",
       "      <th>75%</th>\n",
       "      <td>60.000000</td>\n",
       "      <td>2.000000</td>\n",
       "      <td>2.000000</td>\n",
       "      <td>3.000000</td>\n",
       "      <td>3.000000</td>\n",
       "      <td>35.000000</td>\n",
       "      <td>1.000000</td>\n",
       "      <td>1.000000</td>\n",
       "      <td>18.000000</td>\n",
       "      <td>4.000000</td>\n",
       "      <td>...</td>\n",
       "      <td>0.000000</td>\n",
       "      <td>1.000000</td>\n",
       "      <td>0.000000</td>\n",
       "      <td>0.000000</td>\n",
       "      <td>0.000000</td>\n",
       "      <td>1.000000</td>\n",
       "      <td>0.000000</td>\n",
       "      <td>0.000000</td>\n",
       "      <td>0.000000</td>\n",
       "      <td>1.000000</td>\n",
       "    </tr>\n",
       "    <tr>\n",
       "      <th>max</th>\n",
       "      <td>69.000000</td>\n",
       "      <td>4.000000</td>\n",
       "      <td>3.000000</td>\n",
       "      <td>5.000000</td>\n",
       "      <td>4.000000</td>\n",
       "      <td>140.000000</td>\n",
       "      <td>1.000000</td>\n",
       "      <td>1.000000</td>\n",
       "      <td>61.000000</td>\n",
       "      <td>46.000000</td>\n",
       "      <td>...</td>\n",
       "      <td>1.000000</td>\n",
       "      <td>1.000000</td>\n",
       "      <td>1.000000</td>\n",
       "      <td>1.000000</td>\n",
       "      <td>1.000000</td>\n",
       "      <td>1.000000</td>\n",
       "      <td>1.000000</td>\n",
       "      <td>1.000000</td>\n",
       "      <td>1.000000</td>\n",
       "      <td>1.000000</td>\n",
       "    </tr>\n",
       "  </tbody>\n",
       "</table>\n",
       "<p>8 rows × 25 columns</p>\n",
       "</div>"
      ],
      "text/plain": [
       "               Age     T_Stage_      N_Stage    6th_Stage        Grade  \\\n",
       "count  4024.000000  4024.000000  4024.000000  4024.000000  4024.000000   \n",
       "mean     53.939861     1.794732     1.413767     2.150845     2.136431   \n",
       "std       8.222385     0.743929     0.678874     1.081956     0.623131   \n",
       "min      30.000000     1.000000     1.000000     1.000000     1.000000   \n",
       "25%      48.000000     1.000000     1.000000     1.000000     2.000000   \n",
       "50%      54.000000     2.000000     1.000000     2.000000     2.000000   \n",
       "75%      60.000000     2.000000     2.000000     3.000000     3.000000   \n",
       "max      69.000000     4.000000     3.000000     5.000000     4.000000   \n",
       "\n",
       "        Tumor_Size  Estrogen_Status  Progesterone_Status  \\\n",
       "count  4024.000000      4024.000000          4024.000000   \n",
       "mean     29.594185         0.936133             0.834990   \n",
       "std      19.521343         0.244546             0.371236   \n",
       "min       1.000000         0.000000             0.000000   \n",
       "25%      18.000000         1.000000             1.000000   \n",
       "50%      25.000000         1.000000             1.000000   \n",
       "75%      35.000000         1.000000             1.000000   \n",
       "max     140.000000         1.000000             1.000000   \n",
       "\n",
       "       Regional_Node_Examined  Reginol_Node_Positive  ...  \\\n",
       "count             4024.000000            4024.000000  ...   \n",
       "mean                14.385437               3.838966  ...   \n",
       "std                  7.489444               4.770801  ...   \n",
       "min                  1.000000               1.000000  ...   \n",
       "25%                 10.000000               1.000000  ...   \n",
       "50%                 14.000000               2.000000  ...   \n",
       "75%                 18.000000               4.000000  ...   \n",
       "max                 61.000000              46.000000  ...   \n",
       "\n",
       "       Marital_Status_divorced  Marital_Status_married  \\\n",
       "count              4024.000000             4024.000000   \n",
       "mean                  0.115308                0.670477   \n",
       "std                   0.319433                0.470098   \n",
       "min                   0.000000                0.000000   \n",
       "25%                   0.000000                0.000000   \n",
       "50%                   0.000000                1.000000   \n",
       "75%                   0.000000                1.000000   \n",
       "max                   1.000000                1.000000   \n",
       "\n",
       "       Marital_Status_separated  Marital_Status_single  \\\n",
       "count               4024.000000            4024.000000   \n",
       "mean                   0.010686               0.146869   \n",
       "std                    0.102832               0.354019   \n",
       "min                    0.000000               0.000000   \n",
       "25%                    0.000000               0.000000   \n",
       "50%                    0.000000               0.000000   \n",
       "75%                    0.000000               0.000000   \n",
       "max                    1.000000               1.000000   \n",
       "\n",
       "       Marital_Status_widowed  differentiate_POORLY DIFFERENTIATED  \\\n",
       "count             4024.000000                          4024.000000   \n",
       "mean                 0.056660                             0.257207   \n",
       "std                  0.231221                             0.437149   \n",
       "min                  0.000000                             0.000000   \n",
       "25%                  0.000000                             0.000000   \n",
       "50%                  0.000000                             0.000000   \n",
       "75%                  0.000000                             1.000000   \n",
       "max                  1.000000                             1.000000   \n",
       "\n",
       "       differentiate_UNDIFFERENTIATED  differentiate_WELL DIFFERENTIATED  \\\n",
       "count                     4024.000000                        4024.000000   \n",
       "mean                         0.004722                           0.128728   \n",
       "std                          0.068561                           0.334940   \n",
       "min                          0.000000                           0.000000   \n",
       "25%                          0.000000                           0.000000   \n",
       "50%                          0.000000                           0.000000   \n",
       "75%                          0.000000                           0.000000   \n",
       "max                          1.000000                           1.000000   \n",
       "\n",
       "       A_Stage_DISTANT  A_Stage_REGIONAL  \n",
       "count      4024.000000       4024.000000  \n",
       "mean          0.021372          0.978628  \n",
       "std           0.144638          0.144638  \n",
       "min           0.000000          0.000000  \n",
       "25%           0.000000          1.000000  \n",
       "50%           0.000000          1.000000  \n",
       "75%           0.000000          1.000000  \n",
       "max           1.000000          1.000000  \n",
       "\n",
       "[8 rows x 25 columns]"
      ]
     },
     "execution_count": 241,
     "metadata": {},
     "output_type": "execute_result"
    }
   ],
   "source": [
    "ndf.describe()"
   ]
  },
  {
   "cell_type": "code",
   "execution_count": 242,
   "metadata": {},
   "outputs": [
    {
     "name": "stdout",
     "output_type": "stream",
     "text": [
      "<class 'pandas.core.frame.DataFrame'>\n",
      "RangeIndex: 4024 entries, 0 to 4023\n",
      "Data columns (total 25 columns):\n",
      " #   Column                               Non-Null Count  Dtype  \n",
      "---  ------                               --------------  -----  \n",
      " 0   Age                                  4024 non-null   float64\n",
      " 1   T_Stage_                             4024 non-null   int64  \n",
      " 2   N_Stage                              4024 non-null   int64  \n",
      " 3   6th_Stage                            4024 non-null   int64  \n",
      " 4   Grade                                4024 non-null   int64  \n",
      " 5   Tumor_Size                           4024 non-null   float64\n",
      " 6   Estrogen_Status                      4024 non-null   int64  \n",
      " 7   Progesterone_Status                  4024 non-null   int64  \n",
      " 8   Regional_Node_Examined               4024 non-null   float64\n",
      " 9   Reginol_Node_Positive                4024 non-null   float64\n",
      " 10  Survival_Months                      4024 non-null   float64\n",
      " 11  Status                               4024 non-null   int64  \n",
      " 12  Race_Black                           4024 non-null   int64  \n",
      " 13  Race_Other                           4024 non-null   int64  \n",
      " 14  Race_White                           4024 non-null   int64  \n",
      " 15  Marital_Status_divorced              4024 non-null   int64  \n",
      " 16  Marital_Status_married               4024 non-null   int64  \n",
      " 17  Marital_Status_separated             4024 non-null   int64  \n",
      " 18  Marital_Status_single                4024 non-null   int64  \n",
      " 19  Marital_Status_widowed               4024 non-null   int64  \n",
      " 20  differentiate_POORLY DIFFERENTIATED  4024 non-null   int64  \n",
      " 21  differentiate_UNDIFFERENTIATED       4024 non-null   int64  \n",
      " 22  differentiate_WELL DIFFERENTIATED    4024 non-null   int64  \n",
      " 23  A_Stage_DISTANT                      4024 non-null   int64  \n",
      " 24  A_Stage_REGIONAL                     4024 non-null   int64  \n",
      "dtypes: float64(5), int64(20)\n",
      "memory usage: 786.1 KB\n"
     ]
    }
   ],
   "source": [
    "ndf.info()"
   ]
  },
  {
   "cell_type": "code",
   "execution_count": 243,
   "metadata": {},
   "outputs": [],
   "source": [
    "#ndf.to_csv(r'E:\\DataMining\\Breast_Cancer\\Breast_Cancer_cleaned.csv')"
   ]
  },
  {
   "cell_type": "markdown",
   "metadata": {},
   "source": [
    "## Visualization "
   ]
  },
  {
   "cell_type": "markdown",
   "metadata": {},
   "source": [
    "- df  old dataframe \n",
    "- ndf new dataframe "
   ]
  },
  {
   "cell_type": "code",
   "execution_count": 247,
   "metadata": {},
   "outputs": [
    {
     "name": "stdout",
     "output_type": "stream",
     "text": [
      "<class 'pandas.core.frame.DataFrame'>\n",
      "RangeIndex: 4024 entries, 0 to 4023\n",
      "Data columns (total 16 columns):\n",
      " #   Column                  Non-Null Count  Dtype  \n",
      "---  ------                  --------------  -----  \n",
      " 0   Age                     4024 non-null   float64\n",
      " 1   Race                    4024 non-null   object \n",
      " 2   Marital Status          3830 non-null   object \n",
      " 3   T Stage                 3813 non-null   object \n",
      " 4   N Stage                 3800 non-null   object \n",
      " 5   6th Stage               3803 non-null   object \n",
      " 6   differentiate           3811 non-null   object \n",
      " 7   Grade                   3814 non-null   object \n",
      " 8   A Stage                 3834 non-null   object \n",
      " 9   Tumor Size              3818 non-null   object \n",
      " 10  Estrogen Status         3831 non-null   object \n",
      " 11  Progesterone Status     3805 non-null   object \n",
      " 12  Regional Node Examined  3807 non-null   object \n",
      " 13  Reginol Node Positive   3817 non-null   object \n",
      " 14  Survival Months         3798 non-null   object \n",
      " 15  Status                  4024 non-null   object \n",
      "dtypes: float64(1), object(15)\n",
      "memory usage: 503.1+ KB\n"
     ]
    }
   ],
   "source": [
    "df.info()"
   ]
  },
  {
   "cell_type": "code",
   "execution_count": 248,
   "metadata": {},
   "outputs": [
    {
     "name": "stdout",
     "output_type": "stream",
     "text": [
      "<class 'pandas.core.frame.DataFrame'>\n",
      "RangeIndex: 4024 entries, 0 to 4023\n",
      "Data columns (total 25 columns):\n",
      " #   Column                               Non-Null Count  Dtype  \n",
      "---  ------                               --------------  -----  \n",
      " 0   Age                                  4024 non-null   float64\n",
      " 1   T_Stage_                             4024 non-null   int64  \n",
      " 2   N_Stage                              4024 non-null   int64  \n",
      " 3   6th_Stage                            4024 non-null   int64  \n",
      " 4   Grade                                4024 non-null   int64  \n",
      " 5   Tumor_Size                           4024 non-null   float64\n",
      " 6   Estrogen_Status                      4024 non-null   int64  \n",
      " 7   Progesterone_Status                  4024 non-null   int64  \n",
      " 8   Regional_Node_Examined               4024 non-null   float64\n",
      " 9   Reginol_Node_Positive                4024 non-null   float64\n",
      " 10  Survival_Months                      4024 non-null   float64\n",
      " 11  Status                               4024 non-null   int64  \n",
      " 12  Race_Black                           4024 non-null   int64  \n",
      " 13  Race_Other                           4024 non-null   int64  \n",
      " 14  Race_White                           4024 non-null   int64  \n",
      " 15  Marital_Status_divorced              4024 non-null   int64  \n",
      " 16  Marital_Status_married               4024 non-null   int64  \n",
      " 17  Marital_Status_separated             4024 non-null   int64  \n",
      " 18  Marital_Status_single                4024 non-null   int64  \n",
      " 19  Marital_Status_widowed               4024 non-null   int64  \n",
      " 20  differentiate_POORLY DIFFERENTIATED  4024 non-null   int64  \n",
      " 21  differentiate_UNDIFFERENTIATED       4024 non-null   int64  \n",
      " 22  differentiate_WELL DIFFERENTIATED    4024 non-null   int64  \n",
      " 23  A_Stage_DISTANT                      4024 non-null   int64  \n",
      " 24  A_Stage_REGIONAL                     4024 non-null   int64  \n",
      "dtypes: float64(5), int64(20)\n",
      "memory usage: 786.1 KB\n"
     ]
    }
   ],
   "source": [
    "ndf.info()"
   ]
  },
  {
   "cell_type": "markdown",
   "metadata": {},
   "source": [
    "### Age columns "
   ]
  },
  {
   "cell_type": "code",
   "execution_count": 252,
   "metadata": {},
   "outputs": [
    {
     "data": {
      "text/plain": [
       "np.int64(0)"
      ]
     },
     "execution_count": 252,
     "metadata": {},
     "output_type": "execute_result"
    }
   ],
   "source": [
    "df['Age'].isnull().sum()\n",
    "ndf['Age'].isnull().sum()"
   ]
  },
  {
   "cell_type": "code",
   "execution_count": 249,
   "metadata": {},
   "outputs": [
    {
     "data": {
      "image/png": "[encoded data removed]",
      "text/plain": [
       "<Figure size 1000x600 with 1 Axes>"
      ]
     },
     "metadata": {},
     "output_type": "display_data"
    },
    {
     "data": {
      "image/png": "[encoded data removed]",
      "text/plain": [
       "<Figure size 1000x600 with 1 Axes>"
      ]
     },
     "metadata": {},
     "output_type": "display_data"
    }
   ],
   "source": [
    "# Plot for \"Age\" column in df\n",
    "plt.figure(figsize=(10, 6))\n",
    "plt.hist(df['Age'], bins=15, color='blue', alpha=0.7)\n",
    "plt.title('Distribution of Age (Old Data)')\n",
    "plt.xlabel('Age')\n",
    "plt.ylabel('Frequency')\n",
    "plt.grid(axis='y', linestyle='--', alpha=0.7)\n",
    "plt.show()\n",
    "\n",
    "# Plot for \"Age\" column in ndf\n",
    "plt.figure(figsize=(10, 6))\n",
    "plt.hist(ndf['Age'], bins=15, color='orange', alpha=0.7)\n",
    "plt.title('Distribution of Age (New Data)')\n",
    "plt.xlabel('Age')\n",
    "plt.ylabel('Frequency')\n",
    "plt.grid(axis='y', linestyle='--', alpha=0.7)\n",
    "plt.show()"
   ]
  },
  {
   "cell_type": "markdown",
   "metadata": {},
   "source": [
    "### Race Columns"
   ]
  },
  {
   "cell_type": "code",
   "execution_count": 255,
   "metadata": {},
   "outputs": [
    {
     "name": "stdout",
     "output_type": "stream",
     "text": [
      "Null values in Race column (df): 0\n",
      "Null values in Race_Black column (ndf): 0\n",
      "Null values in Race_White column (ndf): 0\n",
      "Null values in Race_Other column (ndf): 0\n"
     ]
    }
   ],
   "source": [
    "print(\"Null values in Race column (df):\", df['Race'].isnull().sum())\n",
    "print(\"Null values in Race_Black column (ndf):\", ndf['Race_Black'].isnull().sum())\n",
    "print(\"Null values in Race_White column (ndf):\", ndf['Race_White'].isnull().sum())\n",
    "print(\"Null values in Race_Other column (ndf):\", ndf['Race_Other'].isnull().sum())"
   ]
  },
  {
   "cell_type": "code",
   "execution_count": 258,
   "metadata": {},
   "outputs": [
    {
     "data": {
      "image/png": "[encoded data removed]",
      "text/plain": [
       "<Figure size 1000x600 with 1 Axes>"
      ]
     },
     "metadata": {},
     "output_type": "display_data"
    }
   ],
   "source": [
    "race_counts = df['Race'].value_counts()\n",
    "\n",
    "# Summing dummy variables for race in ndf\n",
    "black_count = ndf['Race_Black'].sum()\n",
    "white_count = ndf['Race_White'].sum()\n",
    "other_count = ndf['Race_Other'].sum()\n",
    "\n",
    "\n",
    "# Plot comparison\n",
    "categories = ['Black', 'White', 'Other']\n",
    "old_data = [race_counts.get('Black', 0), race_counts.get('White', 0), race_counts.get('Other', 0)]\n",
    "new_data = [black_count, white_count, other_count]\n",
    "\n",
    "x = range(len(categories))\n",
    "\n",
    "plt.figure(figsize=(10, 6))\n",
    "plt.bar(x, old_data, width=0.4, label='Old Data', color='blue', alpha=0.7, align='center')\n",
    "plt.bar([i + 0.4 for i in x], new_data, width=0.4, label='New Data', color='orange', alpha=0.7, align='center')\n",
    "plt.title('Comparison of Race Distribution')\n",
    "plt.xlabel('Race Categories')\n",
    "plt.ylabel('Count')\n",
    "plt.xticks([i + 0.2 for i in x], categories)\n",
    "plt.legend()\n",
    "plt.grid(axis='y', linestyle='--', alpha=0.7)\n",
    "plt.show()"
   ]
  },
  {
   "cell_type": "markdown",
   "metadata": {},
   "source": [
    "### Marital Status"
   ]
  },
  {
   "cell_type": "code",
   "execution_count": 260,
   "metadata": {},
   "outputs": [
    {
     "name": "stdout",
     "output_type": "stream",
     "text": [
      "Null values in Marital Status column (df): 194\n",
      "Null values in Marital_Status_divorced column (ndf): 0\n",
      "Null values in Marital_Status_married column (ndf): 0\n",
      "Null values in Marital_Status_separated column (ndf): 0\n",
      "Null values in Marital_Status_single column (ndf): 0\n",
      "Null values in Marital_Status_widowed column (ndf): 0\n"
     ]
    },
    {
     "data": {
      "image/png": "[encoded data removed]",
      "text/plain": [
       "<Figure size 1000x600 with 1 Axes>"
      ]
     },
     "metadata": {},
     "output_type": "display_data"
    }
   ],
   "source": [
    "# Checking for null values in Marital Status-related columns\n",
    "print(\"Null values in Marital Status column (df):\", df['Marital Status'].isnull().sum())\n",
    "print(\"Null values in Marital_Status_divorced column (ndf):\", ndf['Marital_Status_divorced'].isnull().sum())\n",
    "print(\"Null values in Marital_Status_married column (ndf):\", ndf['Marital_Status_married'].isnull().sum())\n",
    "print(\"Null values in Marital_Status_separated column (ndf):\", ndf['Marital_Status_separated'].isnull().sum())\n",
    "print(\"Null values in Marital_Status_single column (ndf):\", ndf['Marital_Status_single'].isnull().sum())\n",
    "print(\"Null values in Marital_Status_widowed column (ndf):\", ndf['Marital_Status_widowed'].isnull().sum())\n",
    "\n",
    "# Mapping Marital Status in df to counts\n",
    "marital_counts = df['Marital Status'].value_counts()\n",
    "\n",
    "divorced_count = (ndf['Marital_Status_divorced'] == 1).sum()\n",
    "married_count = (ndf['Marital_Status_married'] == 1).sum()\n",
    "separated_count = (ndf['Marital_Status_separated'] == 1).sum()\n",
    "single_count = (ndf['Marital_Status_single'] == 1).sum()\n",
    "widowed_count = (ndf['Marital_Status_widowed'] == 1).sum()\n",
    "\n",
    "\n",
    "# Plot comparison\n",
    "categories = ['Divorced', 'Married', 'Separated', 'Single', 'Widowed']\n",
    "old_data = [marital_counts.get('Divorced', 0), marital_counts.get('Married', 0), marital_counts.get('Separated', 0), marital_counts.get('Single', 0), marital_counts.get('Widowed', 0)]\n",
    "new_data = [divorced_count, married_count, separated_count, single_count, widowed_count]\n",
    "\n",
    "x = range(len(categories))\n",
    "\n",
    "plt.figure(figsize=(10, 6))\n",
    "plt.bar(x, old_data, width=0.4, label='Old Data', color='blue', alpha=0.7, align='center')\n",
    "plt.bar([i + 0.4 for i in x], new_data, width=0.4, label='New Data', color='orange', alpha=0.7, align='center')\n",
    "plt.title('Comparison of Marital Status Distribution')\n",
    "plt.xlabel('Marital Status Categories')\n",
    "plt.ylabel('Count')\n",
    "plt.xticks([i + 0.2 for i in x], categories)\n",
    "plt.legend()\n",
    "plt.grid(axis='y', linestyle='--', alpha=0.7)\n",
    "plt.show()\n"
   ]
  },
  {
   "cell_type": "markdown",
   "metadata": {},
   "source": [
    "### T Stage"
   ]
  },
  {
   "cell_type": "code",
   "execution_count": 263,
   "metadata": {},
   "outputs": [
    {
     "name": "stdout",
     "output_type": "stream",
     "text": [
      "Distribution in T Stage (df):\n",
      "T Stage \n",
      "T2      847\n",
      "T1      747\n",
      " T2     363\n",
      "t2      340\n",
      "t1      319\n",
      " T1     308\n",
      "T3      245\n",
      "NaN     211\n",
      " t2     152\n",
      " t1     142\n",
      " T3     103\n",
      "t3       99\n",
      " t3      53\n",
      "T4       40\n",
      " T4      26\n",
      "t4       20\n",
      " t4       9\n",
      "Name: count, dtype: int64\n",
      "\n",
      "Distribution in T_Stage_ (ndf):\n",
      "T_Stage_\n",
      "2    1913\n",
      "1    1516\n",
      "3     500\n",
      "4      95\n",
      "Name: count, dtype: int64\n",
      "\n",
      "Mapped Distribution of T Stage (df):\n",
      "T Stage \n",
      "2.0    847\n",
      "1.0    747\n",
      "3.0    245\n",
      "4.0     40\n",
      "Name: count, dtype: int64\n"
     ]
    },
    {
     "data": {
      "image/png": "[encoded data removed]",
      "text/plain": [
       "<Figure size 1000x600 with 1 Axes>"
      ]
     },
     "metadata": {},
     "output_type": "display_data"
    }
   ],
   "source": [
    "# Distribution in df\n",
    "t_stage_counts = df['T Stage '].value_counts(dropna=False)\n",
    "print(\"Distribution in T Stage (df):\")\n",
    "print(t_stage_counts)\n",
    "\n",
    "# Distribution in ndf\n",
    "t_stage_numeric_counts = ndf['T_Stage_'].value_counts()\n",
    "print(\"\\nDistribution in T_Stage_ (ndf):\")\n",
    "print(t_stage_numeric_counts)\n",
    "\n",
    "# Example mapping for comparison (assume mapping is known)\n",
    "mapping = {\n",
    "    \"T1\": 1,\n",
    "    \"T2\": 2,\n",
    "    \"T3\": 3,\n",
    "    \"T4\": 4,\n",
    "    None: 0  # Assuming missing values are encoded as 0 in T_Stage_\n",
    "}\n",
    "\n",
    "# Map T Stage from df to numeric for comparison\n",
    "df_mapped = df['T Stage '].map(mapping).value_counts()\n",
    "print(\"\\nMapped Distribution of T Stage (df):\")\n",
    "print(df_mapped)\n",
    "\n",
    "# Compare visually\n",
    "categories = sorted(mapping.values())  # Sorted numeric categories\n",
    "df_counts = [df_mapped.get(cat, 0) for cat in categories]\n",
    "ndf_counts = [t_stage_numeric_counts.get(cat, 0) for cat in categories]\n",
    "\n",
    "plt.figure(figsize=(10, 6))\n",
    "x = range(len(categories))\n",
    "plt.bar(x, df_counts, width=0.4, label=\"Old Data (df)\", color=\"blue\", alpha=0.7, align=\"center\")\n",
    "plt.bar([i + 0.4 for i in x], ndf_counts, width=0.4, label=\"New Data (ndf)\", color=\"orange\", alpha=0.7, align=\"center\")\n",
    "plt.title(\"Comparison of T Stage Distribution\")\n",
    "plt.xlabel(\"T Stage Categories\")\n",
    "plt.ylabel(\"Count\")\n",
    "plt.xticks([i + 0.2 for i in x], categories)\n",
    "plt.legend()\n",
    "plt.grid(axis=\"y\", linestyle=\"--\", alpha=0.7)\n",
    "plt.show()\n"
   ]
  },
  {
   "cell_type": "markdown",
   "metadata": {},
   "source": [
    "### N Stage"
   ]
  },
  {
   "cell_type": "code",
   "execution_count": 266,
   "metadata": {},
   "outputs": [
    {
     "data": {
      "text/plain": [
       "array(['N1', 'N2', ' N3 ', ' N1 ', ' n1 ', nan, 'N3', 'n1', ' n3 ', 'n3',\n",
       "       'n2', ' N2 ', ' n2 '], dtype=object)"
      ]
     },
     "execution_count": 266,
     "metadata": {},
     "output_type": "execute_result"
    }
   ],
   "source": [
    "df['N Stage'].unique()"
   ]
  },
  {
   "cell_type": "code",
   "execution_count": 267,
   "metadata": {},
   "outputs": [
    {
     "data": {
      "text/plain": [
       "array([1, 2, 3])"
      ]
     },
     "execution_count": 267,
     "metadata": {},
     "output_type": "execute_result"
    }
   ],
   "source": [
    "ndf['N_Stage'].unique()"
   ]
  },
  {
   "cell_type": "code",
   "execution_count": 268,
   "metadata": {},
   "outputs": [
    {
     "name": "stdout",
     "output_type": "stream",
     "text": [
      "Distribution in N Stage (df):\n",
      "N Stage\n",
      "N1      1275\n",
      "n1       553\n",
      " N1      531\n",
      "N2       397\n",
      "NaN      224\n",
      " n1      215\n",
      "N3       198\n",
      " N2      161\n",
      "n2       161\n",
      " N3      105\n",
      "n3        93\n",
      " n2       68\n",
      " n3       43\n",
      "Name: count, dtype: int64\n",
      "\n",
      "Distribution in N_Stage (ndf):\n",
      "N_Stage\n",
      "1    2798\n",
      "2     787\n",
      "3     439\n",
      "Name: count, dtype: int64\n",
      "\n",
      "Mapped Distribution of N Stage (df):\n",
      "N Stage\n",
      "1.0    1275\n",
      "2.0     397\n",
      "3.0     198\n",
      "Name: count, dtype: int64\n"
     ]
    },
    {
     "data": {
      "image/png": "[encoded data removed]",
      "text/plain": [
       "<Figure size 1000x600 with 1 Axes>"
      ]
     },
     "metadata": {},
     "output_type": "display_data"
    }
   ],
   "source": [
    "# Distribution in df\n",
    "n_stage_counts = df['N Stage'].value_counts(dropna=False)\n",
    "print(\"Distribution in N Stage (df):\")\n",
    "print(n_stage_counts)\n",
    "\n",
    "# Distribution in ndf\n",
    "n_stage_numeric_counts = ndf['N_Stage'].value_counts()\n",
    "print(\"\\nDistribution in N_Stage (ndf):\")\n",
    "print(n_stage_numeric_counts)\n",
    "\n",
    "# Example mapping for N Stage to numeric\n",
    "n_stage_mapping = {\n",
    "    \"N0\": 0,\n",
    "    \"N1\": 1,\n",
    "    \"N2\": 2,\n",
    "    \"N3\": 3,\n",
    "    None: 0  # Assuming missing values are encoded as 0 in N_Stage\n",
    "}\n",
    "\n",
    "# Map N Stage from df to numeric for comparison\n",
    "df_mapped_n_stage = df['N Stage'].map(n_stage_mapping).value_counts()\n",
    "print(\"\\nMapped Distribution of N Stage (df):\")\n",
    "print(df_mapped_n_stage)\n",
    "\n",
    "# Compare visually\n",
    "categories = sorted(n_stage_mapping.values())  # Sorted numeric categories\n",
    "df_counts_n = [df_mapped_n_stage.get(cat, 0) for cat in categories]\n",
    "ndf_counts_n = [n_stage_numeric_counts.get(cat, 0) for cat in categories]\n",
    "\n",
    "plt.figure(figsize=(10, 6))\n",
    "x = range(len(categories))\n",
    "plt.bar(x, df_counts_n, width=0.4, label=\"Old Data (df)\", color=\"blue\", alpha=0.7, align=\"center\")\n",
    "plt.bar([i + 0.4 for i in x], ndf_counts_n, width=0.4, label=\"New Data (ndf)\", color=\"orange\", alpha=0.7, align=\"center\")\n",
    "plt.title(\"Comparison of N Stage Distribution\")\n",
    "plt.xlabel(\"N Stage Categories\")\n",
    "plt.ylabel(\"Count\")\n",
    "plt.xticks([i + 0.2 for i in x], categories)\n",
    "plt.legend()\n",
    "plt.grid(axis=\"y\", linestyle=\"--\", alpha=0.7)\n",
    "plt.show()\n"
   ]
  }
 ],
 "metadata": {
  "kernelspec": {
   "display_name": "Python 3",
   "language": "python",
   "name": "python3"
  },
  "language_info": {
   "codemirror_mode": {
    "name": "ipython",
    "version": 3
   },
   "file_extension": ".py",
   "mimetype": "text/x-python",
   "name": "python",
   "nbconvert_exporter": "python",
   "pygments_lexer": "ipython3",
   "version": "3.13.0"
  }
 },
 "nbformat": 4,
 "nbformat_minor": 2
}
