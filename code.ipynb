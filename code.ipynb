{
 "cells": [
  {
   "cell_type": "markdown",
   "metadata": {},
   "source": [
    "# Project "
   ]
  },
  {
   "cell_type": "markdown",
   "metadata": {},
   "source": [
    "## Preprocessing"
   ]
  },
  {
   "cell_type": "markdown",
   "metadata": {},
   "source": [
    "### Upload data "
   ]
  },
  {
   "cell_type": "code",
   "execution_count": 1,
   "metadata": {},
   "outputs": [
    {
     "data": {
      "text/html": [
       "<div>\n",
       "<style scoped>\n",
       "    .dataframe tbody tr th:only-of-type {\n",
       "        vertical-align: middle;\n",
       "    }\n",
       "\n",
       "    .dataframe tbody tr th {\n",
       "        vertical-align: top;\n",
       "    }\n",
       "\n",
       "    .dataframe thead th {\n",
       "        text-align: right;\n",
       "    }\n",
       "</style>\n",
       "<table border=\"1\" class=\"dataframe\">\n",
       "  <thead>\n",
       "    <tr style=\"text-align: right;\">\n",
       "      <th></th>\n",
       "      <th>Age</th>\n",
       "      <th>Race</th>\n",
       "      <th>Marital Status</th>\n",
       "      <th>T Stage</th>\n",
       "      <th>N Stage</th>\n",
       "      <th>6th Stage</th>\n",
       "      <th>differentiate</th>\n",
       "      <th>Grade</th>\n",
       "      <th>A Stage</th>\n",
       "      <th>Tumor Size</th>\n",
       "      <th>Estrogen Status</th>\n",
       "      <th>Progesterone Status</th>\n",
       "      <th>Regional Node Examined</th>\n",
       "      <th>Reginol Node Positive</th>\n",
       "      <th>Survival Months</th>\n",
       "      <th>Status</th>\n",
       "    </tr>\n",
       "  </thead>\n",
       "  <tbody>\n",
       "    <tr>\n",
       "      <th>0</th>\n",
       "      <td>68</td>\n",
       "      <td>White</td>\n",
       "      <td>Married</td>\n",
       "      <td>T1</td>\n",
       "      <td>N1</td>\n",
       "      <td>iia</td>\n",
       "      <td>Poorly differentiated</td>\n",
       "      <td>3</td>\n",
       "      <td>REGIONAL</td>\n",
       "      <td>missing</td>\n",
       "      <td>positive</td>\n",
       "      <td>positive</td>\n",
       "      <td>24</td>\n",
       "      <td>1</td>\n",
       "      <td>MISSING</td>\n",
       "      <td>Alive</td>\n",
       "    </tr>\n",
       "    <tr>\n",
       "      <th>1</th>\n",
       "      <td>50</td>\n",
       "      <td>white</td>\n",
       "      <td>married</td>\n",
       "      <td>t2</td>\n",
       "      <td>N2</td>\n",
       "      <td>IIIA</td>\n",
       "      <td>Moderately differentiated</td>\n",
       "      <td>2</td>\n",
       "      <td>Regional</td>\n",
       "      <td>35</td>\n",
       "      <td>positive</td>\n",
       "      <td>Positive</td>\n",
       "      <td>14</td>\n",
       "      <td>NaN</td>\n",
       "      <td>62</td>\n",
       "      <td>Alive</td>\n",
       "    </tr>\n",
       "    <tr>\n",
       "      <th>2</th>\n",
       "      <td>58</td>\n",
       "      <td>white</td>\n",
       "      <td>Divorced</td>\n",
       "      <td>T3</td>\n",
       "      <td>N3</td>\n",
       "      <td>IIIC</td>\n",
       "      <td>Moderately differentiated</td>\n",
       "      <td>2</td>\n",
       "      <td>REGIONAL</td>\n",
       "      <td>63</td>\n",
       "      <td>Positive</td>\n",
       "      <td>NaN</td>\n",
       "      <td>14</td>\n",
       "      <td>NaN</td>\n",
       "      <td>75</td>\n",
       "      <td>Alive</td>\n",
       "    </tr>\n",
       "    <tr>\n",
       "      <th>3</th>\n",
       "      <td>58</td>\n",
       "      <td>White</td>\n",
       "      <td>married</td>\n",
       "      <td>T1</td>\n",
       "      <td>N1</td>\n",
       "      <td>IIA</td>\n",
       "      <td>Poorly differentiated</td>\n",
       "      <td>NaN</td>\n",
       "      <td>Regional</td>\n",
       "      <td>18</td>\n",
       "      <td>positive</td>\n",
       "      <td>POSITIVE</td>\n",
       "      <td>2</td>\n",
       "      <td>1</td>\n",
       "      <td>84</td>\n",
       "      <td>Alive</td>\n",
       "    </tr>\n",
       "    <tr>\n",
       "      <th>4</th>\n",
       "      <td>47</td>\n",
       "      <td>WHITE</td>\n",
       "      <td>MARRIED</td>\n",
       "      <td>t2</td>\n",
       "      <td>N1</td>\n",
       "      <td>IIB</td>\n",
       "      <td>POORLY DIFFERENTIATED</td>\n",
       "      <td>3</td>\n",
       "      <td>regional</td>\n",
       "      <td>missing</td>\n",
       "      <td>Positive</td>\n",
       "      <td>POSITIVE</td>\n",
       "      <td>MISSING</td>\n",
       "      <td>1</td>\n",
       "      <td>50</td>\n",
       "      <td>Alive</td>\n",
       "    </tr>\n",
       "    <tr>\n",
       "      <th>...</th>\n",
       "      <td>...</td>\n",
       "      <td>...</td>\n",
       "      <td>...</td>\n",
       "      <td>...</td>\n",
       "      <td>...</td>\n",
       "      <td>...</td>\n",
       "      <td>...</td>\n",
       "      <td>...</td>\n",
       "      <td>...</td>\n",
       "      <td>...</td>\n",
       "      <td>...</td>\n",
       "      <td>...</td>\n",
       "      <td>...</td>\n",
       "      <td>...</td>\n",
       "      <td>...</td>\n",
       "      <td>...</td>\n",
       "    </tr>\n",
       "    <tr>\n",
       "      <th>4019</th>\n",
       "      <td>62</td>\n",
       "      <td>other</td>\n",
       "      <td>married</td>\n",
       "      <td>T1</td>\n",
       "      <td>N1</td>\n",
       "      <td>IIA</td>\n",
       "      <td>Moderately differentiated</td>\n",
       "      <td>2</td>\n",
       "      <td>Regional</td>\n",
       "      <td>9</td>\n",
       "      <td>Positive</td>\n",
       "      <td>POSITIVE</td>\n",
       "      <td>1</td>\n",
       "      <td>1</td>\n",
       "      <td>49</td>\n",
       "      <td>Alive</td>\n",
       "    </tr>\n",
       "    <tr>\n",
       "      <th>4020</th>\n",
       "      <td>56</td>\n",
       "      <td>white</td>\n",
       "      <td>DIVORCED</td>\n",
       "      <td>T2</td>\n",
       "      <td>n2</td>\n",
       "      <td>IIIA</td>\n",
       "      <td>Moderately differentiated</td>\n",
       "      <td>2</td>\n",
       "      <td>Regional</td>\n",
       "      <td>46</td>\n",
       "      <td>Positive</td>\n",
       "      <td>NaN</td>\n",
       "      <td>14</td>\n",
       "      <td>8</td>\n",
       "      <td>69</td>\n",
       "      <td>Alive</td>\n",
       "    </tr>\n",
       "    <tr>\n",
       "      <th>4021</th>\n",
       "      <td>68</td>\n",
       "      <td>White</td>\n",
       "      <td>Married</td>\n",
       "      <td>T2</td>\n",
       "      <td>N1</td>\n",
       "      <td>IIB</td>\n",
       "      <td>Moderately differentiated</td>\n",
       "      <td>NaN</td>\n",
       "      <td>Regional</td>\n",
       "      <td>22</td>\n",
       "      <td>positive</td>\n",
       "      <td>negative</td>\n",
       "      <td>11</td>\n",
       "      <td>3</td>\n",
       "      <td>69</td>\n",
       "      <td>Alive</td>\n",
       "    </tr>\n",
       "    <tr>\n",
       "      <th>4022</th>\n",
       "      <td>58</td>\n",
       "      <td>Black</td>\n",
       "      <td>Divorced</td>\n",
       "      <td>T2</td>\n",
       "      <td>N1</td>\n",
       "      <td>IIB</td>\n",
       "      <td>moderately differentiated</td>\n",
       "      <td>2</td>\n",
       "      <td>regional</td>\n",
       "      <td>44</td>\n",
       "      <td>Positive</td>\n",
       "      <td>Positive</td>\n",
       "      <td>11</td>\n",
       "      <td>1</td>\n",
       "      <td>missing</td>\n",
       "      <td>Alive</td>\n",
       "    </tr>\n",
       "    <tr>\n",
       "      <th>4023</th>\n",
       "      <td>46</td>\n",
       "      <td>White</td>\n",
       "      <td>Married</td>\n",
       "      <td>T2</td>\n",
       "      <td>N1</td>\n",
       "      <td>IIB</td>\n",
       "      <td>Moderately differentiated</td>\n",
       "      <td>2</td>\n",
       "      <td>REGIONAL</td>\n",
       "      <td>30</td>\n",
       "      <td>Positive</td>\n",
       "      <td>positive</td>\n",
       "      <td>missing</td>\n",
       "      <td>2</td>\n",
       "      <td>100</td>\n",
       "      <td>Alive</td>\n",
       "    </tr>\n",
       "  </tbody>\n",
       "</table>\n",
       "<p>4024 rows × 16 columns</p>\n",
       "</div>"
      ],
      "text/plain": [
       "     Age     Race Marital Status T Stage  N Stage 6th Stage  \\\n",
       "0     68    White        Married       T1      N1       iia   \n",
       "1     50   white         married       t2      N2      IIIA   \n",
       "2     58   white       Divorced        T3     N3      IIIC    \n",
       "3     58    White        married       T1      N1      IIA    \n",
       "4     47    WHITE        MARRIED      t2      N1        IIB   \n",
       "...   ..      ...            ...      ...     ...       ...   \n",
       "4019  62    other        married       T1      N1       IIA   \n",
       "4020  56    white      DIVORCED        T2     n2      IIIA    \n",
       "4021  68    White        Married      T2      N1        IIB   \n",
       "4022  58   Black       Divorced        T2      N1       IIB   \n",
       "4023  46   White         Married       T2     N1        IIB   \n",
       "\n",
       "                    differentiate Grade     A Stage Tumor Size  \\\n",
       "0           Poorly differentiated     3   REGIONAL     missing   \n",
       "1      Moderately differentiated      2    Regional         35   \n",
       "2       Moderately differentiated     2    REGIONAL         63   \n",
       "3           Poorly differentiated   NaN    Regional         18   \n",
       "4           POORLY DIFFERENTIATED     3   regional     missing   \n",
       "...                           ...   ...         ...        ...   \n",
       "4019   Moderately differentiated      2   Regional           9   \n",
       "4020    Moderately differentiated     2   Regional          46   \n",
       "4021   Moderately differentiated    NaN   Regional          22   \n",
       "4022    moderately differentiated     2    regional         44   \n",
       "4023   Moderately differentiated      2    REGIONAL         30   \n",
       "\n",
       "     Estrogen Status Progesterone Status Regional Node Examined  \\\n",
       "0          positive            positive                      24   \n",
       "1          positive            Positive                      14   \n",
       "2          Positive                  NaN                     14   \n",
       "3           positive            POSITIVE                      2   \n",
       "4           Positive           POSITIVE                 MISSING   \n",
       "...              ...                 ...                    ...   \n",
       "4019        Positive            POSITIVE                      1   \n",
       "4020        Positive                 NaN                     14   \n",
       "4021        positive            negative                     11   \n",
       "4022       Positive            Positive                      11   \n",
       "4023       Positive             positive                missing   \n",
       "\n",
       "     Reginol Node Positive Survival Months Status  \n",
       "0                        1         MISSING  Alive  \n",
       "1                      NaN              62  Alive  \n",
       "2                      NaN              75  Alive  \n",
       "3                        1              84  Alive  \n",
       "4                        1              50  Alive  \n",
       "...                    ...             ...    ...  \n",
       "4019                     1              49  Alive  \n",
       "4020                     8              69  Alive  \n",
       "4021                     3              69  Alive  \n",
       "4022                     1         missing  Alive  \n",
       "4023                     2             100  Alive  \n",
       "\n",
       "[4024 rows x 16 columns]"
      ]
     },
     "execution_count": 1,
     "metadata": {},
     "output_type": "execute_result"
    }
   ],
   "source": [
    "import pandas as pd \n",
    "import numpy as np \n",
    "import matplotlib.pyplot as plt\n",
    "import seaborn as sns\n",
    "\n",
    "filePath = r\"E:\\DataMining\\Breast_Cancer\\Breast_Cancer_Uncleaned-1.csv\"\n",
    "df = pd.read_csv(filePath)\n",
    "df"
   ]
  },
  {
   "cell_type": "code",
   "execution_count": 2,
   "metadata": {},
   "outputs": [
    {
     "data": {
      "text/html": [
       "<div>\n",
       "<style scoped>\n",
       "    .dataframe tbody tr th:only-of-type {\n",
       "        vertical-align: middle;\n",
       "    }\n",
       "\n",
       "    .dataframe tbody tr th {\n",
       "        vertical-align: top;\n",
       "    }\n",
       "\n",
       "    .dataframe thead th {\n",
       "        text-align: right;\n",
       "    }\n",
       "</style>\n",
       "<table border=\"1\" class=\"dataframe\">\n",
       "  <thead>\n",
       "    <tr style=\"text-align: right;\">\n",
       "      <th></th>\n",
       "      <th>Age</th>\n",
       "      <th>Race</th>\n",
       "      <th>Marital Status</th>\n",
       "      <th>T Stage</th>\n",
       "      <th>N Stage</th>\n",
       "      <th>6th Stage</th>\n",
       "      <th>differentiate</th>\n",
       "      <th>Grade</th>\n",
       "      <th>A Stage</th>\n",
       "      <th>Tumor Size</th>\n",
       "      <th>Estrogen Status</th>\n",
       "      <th>Progesterone Status</th>\n",
       "      <th>Regional Node Examined</th>\n",
       "      <th>Reginol Node Positive</th>\n",
       "      <th>Survival Months</th>\n",
       "      <th>Status</th>\n",
       "    </tr>\n",
       "  </thead>\n",
       "  <tbody>\n",
       "    <tr>\n",
       "      <th>count</th>\n",
       "      <td>3851</td>\n",
       "      <td>3817</td>\n",
       "      <td>3830</td>\n",
       "      <td>3813</td>\n",
       "      <td>3800</td>\n",
       "      <td>3803</td>\n",
       "      <td>3811</td>\n",
       "      <td>3814</td>\n",
       "      <td>3834</td>\n",
       "      <td>3818</td>\n",
       "      <td>3831</td>\n",
       "      <td>3805</td>\n",
       "      <td>3807</td>\n",
       "      <td>3817</td>\n",
       "      <td>3798</td>\n",
       "      <td>4024</td>\n",
       "    </tr>\n",
       "    <tr>\n",
       "      <th>unique</th>\n",
       "      <td>44</td>\n",
       "      <td>18</td>\n",
       "      <td>30</td>\n",
       "      <td>16</td>\n",
       "      <td>12</td>\n",
       "      <td>20</td>\n",
       "      <td>24</td>\n",
       "      <td>8</td>\n",
       "      <td>12</td>\n",
       "      <td>110</td>\n",
       "      <td>12</td>\n",
       "      <td>12</td>\n",
       "      <td>56</td>\n",
       "      <td>42</td>\n",
       "      <td>110</td>\n",
       "      <td>2</td>\n",
       "    </tr>\n",
       "    <tr>\n",
       "      <th>top</th>\n",
       "      <td>missing</td>\n",
       "      <td>White</td>\n",
       "      <td>Married</td>\n",
       "      <td>T2</td>\n",
       "      <td>N1</td>\n",
       "      <td>IIA</td>\n",
       "      <td>Moderately differentiated</td>\n",
       "      <td>2</td>\n",
       "      <td>Regional</td>\n",
       "      <td>25</td>\n",
       "      <td>Positive</td>\n",
       "      <td>Positive</td>\n",
       "      <td>missing</td>\n",
       "      <td>1</td>\n",
       "      <td>missing</td>\n",
       "      <td>Alive</td>\n",
       "    </tr>\n",
       "    <tr>\n",
       "      <th>freq</th>\n",
       "      <td>217</td>\n",
       "      <td>1142</td>\n",
       "      <td>854</td>\n",
       "      <td>847</td>\n",
       "      <td>1275</td>\n",
       "      <td>620</td>\n",
       "      <td>761</td>\n",
       "      <td>2231</td>\n",
       "      <td>1231</td>\n",
       "      <td>233</td>\n",
       "      <td>1217</td>\n",
       "      <td>1087</td>\n",
       "      <td>216</td>\n",
       "      <td>1286</td>\n",
       "      <td>226</td>\n",
       "      <td>3408</td>\n",
       "    </tr>\n",
       "  </tbody>\n",
       "</table>\n",
       "</div>"
      ],
      "text/plain": [
       "            Age   Race Marital Status T Stage  N Stage 6th Stage  \\\n",
       "count      3851   3817           3830     3813    3800      3803   \n",
       "unique       44     18             30       16      12        20   \n",
       "top     missing  White        Married       T2      N1       IIA   \n",
       "freq        217   1142            854      847    1275       620   \n",
       "\n",
       "                    differentiate Grade   A Stage Tumor Size Estrogen Status  \\\n",
       "count                        3811  3814      3834       3818            3831   \n",
       "unique                         24     8        12        110              12   \n",
       "top     Moderately differentiated     2  Regional         25        Positive   \n",
       "freq                          761  2231      1231        233            1217   \n",
       "\n",
       "       Progesterone Status Regional Node Examined Reginol Node Positive  \\\n",
       "count                 3805                   3807                  3817   \n",
       "unique                  12                     56                    42   \n",
       "top               Positive                missing                     1   \n",
       "freq                  1087                    216                  1286   \n",
       "\n",
       "       Survival Months Status  \n",
       "count             3798   4024  \n",
       "unique             110      2  \n",
       "top            missing  Alive  \n",
       "freq               226   3408  "
      ]
     },
     "execution_count": 2,
     "metadata": {},
     "output_type": "execute_result"
    }
   ],
   "source": [
    "df.describe()"
   ]
  },
  {
   "cell_type": "code",
   "execution_count": 3,
   "metadata": {},
   "outputs": [
    {
     "name": "stdout",
     "output_type": "stream",
     "text": [
      "<class 'pandas.core.frame.DataFrame'>\n",
      "RangeIndex: 4024 entries, 0 to 4023\n",
      "Data columns (total 16 columns):\n",
      " #   Column                  Non-Null Count  Dtype \n",
      "---  ------                  --------------  ----- \n",
      " 0   Age                     3851 non-null   object\n",
      " 1   Race                    3817 non-null   object\n",
      " 2   Marital Status          3830 non-null   object\n",
      " 3   T Stage                 3813 non-null   object\n",
      " 4   N Stage                 3800 non-null   object\n",
      " 5   6th Stage               3803 non-null   object\n",
      " 6   differentiate           3811 non-null   object\n",
      " 7   Grade                   3814 non-null   object\n",
      " 8   A Stage                 3834 non-null   object\n",
      " 9   Tumor Size              3818 non-null   object\n",
      " 10  Estrogen Status         3831 non-null   object\n",
      " 11  Progesterone Status     3805 non-null   object\n",
      " 12  Regional Node Examined  3807 non-null   object\n",
      " 13  Reginol Node Positive   3817 non-null   object\n",
      " 14  Survival Months         3798 non-null   object\n",
      " 15  Status                  4024 non-null   object\n",
      "dtypes: object(16)\n",
      "memory usage: 503.1+ KB\n"
     ]
    }
   ],
   "source": [
    "df.info()\n"
   ]
  },
  {
   "cell_type": "code",
   "execution_count": 4,
   "metadata": {},
   "outputs": [
    {
     "data": {
      "text/plain": [
       "Age                       173\n",
       "Race                      207\n",
       "Marital Status            194\n",
       "T Stage                   211\n",
       "N Stage                   224\n",
       "6th Stage                 221\n",
       "differentiate             213\n",
       "Grade                     210\n",
       "A Stage                   190\n",
       "Tumor Size                206\n",
       "Estrogen Status           193\n",
       "Progesterone Status       219\n",
       "Regional Node Examined    217\n",
       "Reginol Node Positive     207\n",
       "Survival Months           226\n",
       "Status                      0\n",
       "dtype: int64"
      ]
     },
     "execution_count": 4,
     "metadata": {},
     "output_type": "execute_result"
    }
   ],
   "source": [
    "missing_data = df.isnull().sum()\n",
    "missing_data"
   ]
  },
  {
   "cell_type": "markdown",
   "metadata": {},
   "source": [
    "#### Age "
   ]
  },
  {
   "cell_type": "code",
   "execution_count": 6,
   "metadata": {},
   "outputs": [
    {
     "data": {
      "text/plain": [
       "0       68.0\n",
       "1       50.0\n",
       "2       58.0\n",
       "3       58.0\n",
       "4       47.0\n",
       "        ... \n",
       "4019    62.0\n",
       "4020    56.0\n",
       "4021    68.0\n",
       "4022    58.0\n",
       "4023    46.0\n",
       "Name: Age, Length: 4024, dtype: float64"
      ]
     },
     "execution_count": 6,
     "metadata": {},
     "output_type": "execute_result"
    }
   ],
   "source": [
    "df['Age'] = pd.to_numeric(df['Age'], errors='coerce')\n",
    "df['Age']"
   ]
  },
  {
   "cell_type": "code",
   "execution_count": 7,
   "metadata": {},
   "outputs": [
    {
     "name": "stdout",
     "output_type": "stream",
     "text": [
      "<class 'pandas.core.frame.DataFrame'>\n",
      "RangeIndex: 4024 entries, 0 to 4023\n",
      "Data columns (total 16 columns):\n",
      " #   Column                  Non-Null Count  Dtype  \n",
      "---  ------                  --------------  -----  \n",
      " 0   Age                     3449 non-null   float64\n",
      " 1   Race                    3817 non-null   object \n",
      " 2   Marital Status          3830 non-null   object \n",
      " 3   T Stage                 3813 non-null   object \n",
      " 4   N Stage                 3800 non-null   object \n",
      " 5   6th Stage               3803 non-null   object \n",
      " 6   differentiate           3811 non-null   object \n",
      " 7   Grade                   3814 non-null   object \n",
      " 8   A Stage                 3834 non-null   object \n",
      " 9   Tumor Size              3818 non-null   object \n",
      " 10  Estrogen Status         3831 non-null   object \n",
      " 11  Progesterone Status     3805 non-null   object \n",
      " 12  Regional Node Examined  3807 non-null   object \n",
      " 13  Reginol Node Positive   3817 non-null   object \n",
      " 14  Survival Months         3798 non-null   object \n",
      " 15  Status                  4024 non-null   object \n",
      "dtypes: float64(1), object(15)\n",
      "memory usage: 503.1+ KB\n"
     ]
    }
   ],
   "source": [
    "df.info()"
   ]
  },
  {
   "cell_type": "code",
   "execution_count": 8,
   "metadata": {},
   "outputs": [
    {
     "data": {
      "text/plain": [
       "np.int64(575)"
      ]
     },
     "execution_count": 8,
     "metadata": {},
     "output_type": "execute_result"
    }
   ],
   "source": [
    "missing_data = df['Age'].isnull().sum()\n",
    "missing_data"
   ]
  },
  {
   "cell_type": "code",
   "execution_count": 9,
   "metadata": {},
   "outputs": [
    {
     "data": {
      "text/plain": [
       "array([68., 50., 58., 47., 51., 40., 69., nan, 65., 56., 43., 48., 57.,\n",
       "       55., 62., 63., 46., 66., 53., 59., 60., 54., 49., 64., 42., 37.,\n",
       "       67., 31., 52., 33., 45., 61., 39., 38., 36., 44., 41., 32., 34.,\n",
       "       30., 35.])"
      ]
     },
     "execution_count": 9,
     "metadata": {},
     "output_type": "execute_result"
    }
   ],
   "source": [
    "df['Age'].unique()"
   ]
  },
  {
   "cell_type": "code",
   "execution_count": 10,
   "metadata": {},
   "outputs": [
    {
     "name": "stdout",
     "output_type": "stream",
     "text": [
      "Mean Age: 53.929834734705715\n",
      "Mode Age: 47.0\n",
      "Median Age: 54.0\n"
     ]
    }
   ],
   "source": [
    "mean_age = df['Age'].mean()\n",
    "mode_age = df['Age'].mode()[0]\n",
    "median_age = df['Age'].median()\n",
    "\n",
    "# Print the results\n",
    "print(f\"Mean Age: {mean_age}\")\n",
    "print(f\"Mode Age: {mode_age}\")\n",
    "print(f\"Median Age: {median_age}\")\n"
   ]
  },
  {
   "cell_type": "code",
   "execution_count": 11,
   "metadata": {},
   "outputs": [],
   "source": [
    "# Fill missing values in Age with the median\n",
    "df['Age'].fillna(df['Age'].median(), inplace=True)\n"
   ]
  },
  {
   "cell_type": "code",
   "execution_count": 12,
   "metadata": {},
   "outputs": [
    {
     "data": {
      "text/plain": [
       "np.int64(0)"
      ]
     },
     "execution_count": 12,
     "metadata": {},
     "output_type": "execute_result"
    }
   ],
   "source": [
    "df['Age'].isnull().sum()"
   ]
  },
  {
   "cell_type": "markdown",
   "metadata": {},
   "source": [
    "#### Race"
   ]
  },
  {
   "cell_type": "code",
   "execution_count": 13,
   "metadata": {},
   "outputs": [
    {
     "data": {
      "text/plain": [
       "array(['White', ' white ', 'WHITE', nan, 'white', ' WHITE ', ' Black ',\n",
       "       ' other ', 'other', ' Other ', 'Other', 'black', ' White ',\n",
       "       ' black ', ' OTHER ', 'Black', 'OTHER', ' BLACK ', 'BLACK'],\n",
       "      dtype=object)"
      ]
     },
     "execution_count": 13,
     "metadata": {},
     "output_type": "execute_result"
    }
   ],
   "source": [
    "df['Race'].unique()"
   ]
  },
  {
   "cell_type": "code",
   "execution_count": 14,
   "metadata": {},
   "outputs": [
    {
     "data": {
      "text/plain": [
       "array(['White', nan, 'Black', 'Other'], dtype=object)"
      ]
     },
     "execution_count": 14,
     "metadata": {},
     "output_type": "execute_result"
    }
   ],
   "source": [
    "df['Race'] = df['Race'].str.strip().str.lower()\n",
    "\n",
    "df['Race'] = df['Race'].replace({\n",
    "    'white': 'White', \n",
    "    'black': 'Black', \n",
    "    'other': 'Other'\n",
    "})\n",
    "\n",
    "df['Race'].unique()\n"
   ]
  },
  {
   "cell_type": "code",
   "execution_count": 15,
   "metadata": {},
   "outputs": [
    {
     "name": "stdout",
     "output_type": "stream",
     "text": [
      "Race\n",
      "White    3241\n",
      "Other     302\n",
      "Black     274\n",
      "NaN       207\n",
      "Name: count, dtype: int64\n"
     ]
    }
   ],
   "source": [
    "race_frequency = df['Race'].value_counts(dropna=False)\n",
    "\n",
    "print(race_frequency)\n"
   ]
  },
  {
   "cell_type": "code",
   "execution_count": 16,
   "metadata": {},
   "outputs": [
    {
     "name": "stderr",
     "output_type": "stream",
     "text": [
      "C:\\Users\\Concept D\\AppData\\Local\\Temp\\ipykernel_5912\\1664859306.py:2: FutureWarning: A value is trying to be set on a copy of a DataFrame or Series through chained assignment using an inplace method.\n",
      "The behavior will change in pandas 3.0. This inplace method will never work because the intermediate object on which we are setting values always behaves as a copy.\n",
      "\n",
      "For example, when doing 'df[col].method(value, inplace=True)', try using 'df.method({col: value}, inplace=True)' or df[col] = df[col].method(value) instead, to perform the operation inplace on the original object.\n",
      "\n",
      "\n",
      "  df['Race'].fillna(most_frequent_race, inplace=True)\n"
     ]
    }
   ],
   "source": [
    "most_frequent_race = df['Race'].mode()[0] \n",
    "df['Race'].fillna(most_frequent_race, inplace=True)\n"
   ]
  },
  {
   "cell_type": "code",
   "execution_count": 17,
   "metadata": {},
   "outputs": [
    {
     "data": {
      "text/plain": [
       "array(['White', 'Black', 'Other'], dtype=object)"
      ]
     },
     "execution_count": 17,
     "metadata": {},
     "output_type": "execute_result"
    }
   ],
   "source": [
    "df['Race'].unique()"
   ]
  },
  {
   "cell_type": "code",
   "execution_count": 18,
   "metadata": {},
   "outputs": [
    {
     "data": {
      "text/html": [
       "<div>\n",
       "<style scoped>\n",
       "    .dataframe tbody tr th:only-of-type {\n",
       "        vertical-align: middle;\n",
       "    }\n",
       "\n",
       "    .dataframe tbody tr th {\n",
       "        vertical-align: top;\n",
       "    }\n",
       "\n",
       "    .dataframe thead th {\n",
       "        text-align: right;\n",
       "    }\n",
       "</style>\n",
       "<table border=\"1\" class=\"dataframe\">\n",
       "  <thead>\n",
       "    <tr style=\"text-align: right;\">\n",
       "      <th></th>\n",
       "      <th>Age</th>\n",
       "      <th>Marital Status</th>\n",
       "      <th>T Stage</th>\n",
       "      <th>N Stage</th>\n",
       "      <th>6th Stage</th>\n",
       "      <th>differentiate</th>\n",
       "      <th>Grade</th>\n",
       "      <th>A Stage</th>\n",
       "      <th>Tumor Size</th>\n",
       "      <th>Estrogen Status</th>\n",
       "      <th>Progesterone Status</th>\n",
       "      <th>Regional Node Examined</th>\n",
       "      <th>Reginol Node Positive</th>\n",
       "      <th>Survival Months</th>\n",
       "      <th>Status</th>\n",
       "      <th>Race_Black</th>\n",
       "      <th>Race_Other</th>\n",
       "      <th>Race_White</th>\n",
       "    </tr>\n",
       "  </thead>\n",
       "  <tbody>\n",
       "    <tr>\n",
       "      <th>0</th>\n",
       "      <td>68.0</td>\n",
       "      <td>Married</td>\n",
       "      <td>T1</td>\n",
       "      <td>N1</td>\n",
       "      <td>iia</td>\n",
       "      <td>Poorly differentiated</td>\n",
       "      <td>3</td>\n",
       "      <td>REGIONAL</td>\n",
       "      <td>missing</td>\n",
       "      <td>positive</td>\n",
       "      <td>positive</td>\n",
       "      <td>24</td>\n",
       "      <td>1</td>\n",
       "      <td>MISSING</td>\n",
       "      <td>Alive</td>\n",
       "      <td>False</td>\n",
       "      <td>False</td>\n",
       "      <td>True</td>\n",
       "    </tr>\n",
       "    <tr>\n",
       "      <th>1</th>\n",
       "      <td>50.0</td>\n",
       "      <td>married</td>\n",
       "      <td>t2</td>\n",
       "      <td>N2</td>\n",
       "      <td>IIIA</td>\n",
       "      <td>Moderately differentiated</td>\n",
       "      <td>2</td>\n",
       "      <td>Regional</td>\n",
       "      <td>35</td>\n",
       "      <td>positive</td>\n",
       "      <td>Positive</td>\n",
       "      <td>14</td>\n",
       "      <td>NaN</td>\n",
       "      <td>62</td>\n",
       "      <td>Alive</td>\n",
       "      <td>False</td>\n",
       "      <td>False</td>\n",
       "      <td>True</td>\n",
       "    </tr>\n",
       "    <tr>\n",
       "      <th>2</th>\n",
       "      <td>58.0</td>\n",
       "      <td>Divorced</td>\n",
       "      <td>T3</td>\n",
       "      <td>N3</td>\n",
       "      <td>IIIC</td>\n",
       "      <td>Moderately differentiated</td>\n",
       "      <td>2</td>\n",
       "      <td>REGIONAL</td>\n",
       "      <td>63</td>\n",
       "      <td>Positive</td>\n",
       "      <td>NaN</td>\n",
       "      <td>14</td>\n",
       "      <td>NaN</td>\n",
       "      <td>75</td>\n",
       "      <td>Alive</td>\n",
       "      <td>False</td>\n",
       "      <td>False</td>\n",
       "      <td>True</td>\n",
       "    </tr>\n",
       "    <tr>\n",
       "      <th>3</th>\n",
       "      <td>58.0</td>\n",
       "      <td>married</td>\n",
       "      <td>T1</td>\n",
       "      <td>N1</td>\n",
       "      <td>IIA</td>\n",
       "      <td>Poorly differentiated</td>\n",
       "      <td>NaN</td>\n",
       "      <td>Regional</td>\n",
       "      <td>18</td>\n",
       "      <td>positive</td>\n",
       "      <td>POSITIVE</td>\n",
       "      <td>2</td>\n",
       "      <td>1</td>\n",
       "      <td>84</td>\n",
       "      <td>Alive</td>\n",
       "      <td>False</td>\n",
       "      <td>False</td>\n",
       "      <td>True</td>\n",
       "    </tr>\n",
       "    <tr>\n",
       "      <th>4</th>\n",
       "      <td>47.0</td>\n",
       "      <td>MARRIED</td>\n",
       "      <td>t2</td>\n",
       "      <td>N1</td>\n",
       "      <td>IIB</td>\n",
       "      <td>POORLY DIFFERENTIATED</td>\n",
       "      <td>3</td>\n",
       "      <td>regional</td>\n",
       "      <td>missing</td>\n",
       "      <td>Positive</td>\n",
       "      <td>POSITIVE</td>\n",
       "      <td>MISSING</td>\n",
       "      <td>1</td>\n",
       "      <td>50</td>\n",
       "      <td>Alive</td>\n",
       "      <td>False</td>\n",
       "      <td>False</td>\n",
       "      <td>True</td>\n",
       "    </tr>\n",
       "  </tbody>\n",
       "</table>\n",
       "</div>"
      ],
      "text/plain": [
       "    Age Marital Status T Stage  N Stage 6th Stage  \\\n",
       "0  68.0        Married       T1      N1       iia   \n",
       "1  50.0        married       t2      N2      IIIA   \n",
       "2  58.0      Divorced        T3     N3      IIIC    \n",
       "3  58.0        married       T1      N1      IIA    \n",
       "4  47.0        MARRIED      t2      N1        IIB   \n",
       "\n",
       "                 differentiate Grade     A Stage Tumor Size Estrogen Status  \\\n",
       "0        Poorly differentiated     3   REGIONAL     missing       positive    \n",
       "1   Moderately differentiated      2    Regional         35       positive    \n",
       "2    Moderately differentiated     2    REGIONAL         63       Positive    \n",
       "3        Poorly differentiated   NaN    Regional         18        positive   \n",
       "4        POORLY DIFFERENTIATED     3   regional     missing        Positive   \n",
       "\n",
       "  Progesterone Status Regional Node Examined Reginol Node Positive  \\\n",
       "0           positive                      24                     1   \n",
       "1           Positive                      14                   NaN   \n",
       "2                 NaN                     14                   NaN   \n",
       "3            POSITIVE                      2                     1   \n",
       "4           POSITIVE                 MISSING                     1   \n",
       "\n",
       "  Survival Months Status  Race_Black  Race_Other  Race_White  \n",
       "0         MISSING  Alive       False       False        True  \n",
       "1              62  Alive       False       False        True  \n",
       "2              75  Alive       False       False        True  \n",
       "3              84  Alive       False       False        True  \n",
       "4              50  Alive       False       False        True  "
      ]
     },
     "execution_count": 18,
     "metadata": {},
     "output_type": "execute_result"
    }
   ],
   "source": [
    "# Perform one-hot encoding on the 'Race' column\n",
    "ndf = pd.get_dummies(df, columns=['Race'], drop_first=False)\n",
    "\n",
    "ndf.head()"
   ]
  },
  {
   "cell_type": "code",
   "execution_count": 19,
   "metadata": {},
   "outputs": [
    {
     "name": "stdout",
     "output_type": "stream",
     "text": [
      "<class 'pandas.core.frame.DataFrame'>\n",
      "RangeIndex: 4024 entries, 0 to 4023\n",
      "Data columns (total 18 columns):\n",
      " #   Column                  Non-Null Count  Dtype  \n",
      "---  ------                  --------------  -----  \n",
      " 0   Age                     4024 non-null   float64\n",
      " 1   Marital Status          3830 non-null   object \n",
      " 2   T Stage                 3813 non-null   object \n",
      " 3   N Stage                 3800 non-null   object \n",
      " 4   6th Stage               3803 non-null   object \n",
      " 5   differentiate           3811 non-null   object \n",
      " 6   Grade                   3814 non-null   object \n",
      " 7   A Stage                 3834 non-null   object \n",
      " 8   Tumor Size              3818 non-null   object \n",
      " 9   Estrogen Status         3831 non-null   object \n",
      " 10  Progesterone Status     3805 non-null   object \n",
      " 11  Regional Node Examined  3807 non-null   object \n",
      " 12  Reginol Node Positive   3817 non-null   object \n",
      " 13  Survival Months         3798 non-null   object \n",
      " 14  Status                  4024 non-null   object \n",
      " 15  Race_Black              4024 non-null   int64  \n",
      " 16  Race_Other              4024 non-null   int64  \n",
      " 17  Race_White              4024 non-null   int64  \n",
      "dtypes: float64(1), int64(3), object(14)\n",
      "memory usage: 566.0+ KB\n"
     ]
    }
   ],
   "source": [
    "ndf['Race_White'] = ndf['Race_White'].astype(int)\n",
    "ndf['Race_Black'] = ndf['Race_Black'].astype(int)\n",
    "ndf['Race_Other'] = ndf['Race_Other'].astype(int)\n",
    "\n",
    "ndf.info()"
   ]
  },
  {
   "cell_type": "markdown",
   "metadata": {},
   "source": [
    "#### Marital Status"
   ]
  },
  {
   "cell_type": "code",
   "execution_count": 20,
   "metadata": {},
   "outputs": [
    {
     "data": {
      "text/plain": [
       "array(['Married', 'married', ' Divorced ', 'MARRIED', nan, 'widowed',\n",
       "       ' MARRIED ', 'Divorced', ' married ', ' Single ', ' DIVORCED ',\n",
       "       ' Married ', ' SINGLE ', 'DIVORCED', 'separated', 'single',\n",
       "       'Widowed', 'Single', ' Widowed ', ' single ', 'SINGLE',\n",
       "       ' WIDOWED ', 'divorced', 'WIDOWED', ' divorced ', 'SEPARATED',\n",
       "       ' separated ', ' widowed ', 'Separated', ' Separated ',\n",
       "       ' SEPARATED '], dtype=object)"
      ]
     },
     "execution_count": 20,
     "metadata": {},
     "output_type": "execute_result"
    }
   ],
   "source": [
    "ndf['Marital Status'].unique()"
   ]
  },
  {
   "cell_type": "code",
   "execution_count": 21,
   "metadata": {},
   "outputs": [
    {
     "data": {
      "text/plain": [
       "array(['married', 'divorced', nan, 'widowed', 'single', 'separated'],\n",
       "      dtype=object)"
      ]
     },
     "execution_count": 21,
     "metadata": {},
     "output_type": "execute_result"
    }
   ],
   "source": [
    "ndf['Marital Status'] = ndf['Marital Status'].str.strip().str.lower()\n",
    "\n",
    "ndf['Marital Status'] = ndf['Marital Status'].replace({\n",
    "    'married': 'married',\n",
    "    'marrried': 'married',\n",
    "    'single': 'single',\n",
    "    'widowed': 'widowed',\n",
    "    'divorced': 'divorced',\n",
    "    'separated': 'separated'\n",
    "})\n",
    "ndf['Marital Status'].unique()\n"
   ]
  },
  {
   "cell_type": "code",
   "execution_count": 22,
   "metadata": {},
   "outputs": [
    {
     "data": {
      "text/plain": [
       "Marital Status\n",
       "married      2504\n",
       "single        591\n",
       "divorced      464\n",
       "widowed       228\n",
       "NaN           194\n",
       "separated      43\n",
       "Name: count, dtype: int64"
      ]
     },
     "execution_count": 22,
     "metadata": {},
     "output_type": "execute_result"
    }
   ],
   "source": [
    "Marital_Status_frequency = ndf['Marital Status'].value_counts(dropna=False)\n",
    "\n",
    "Marital_Status_frequency"
   ]
  },
  {
   "cell_type": "code",
   "execution_count": 23,
   "metadata": {},
   "outputs": [
    {
     "name": "stderr",
     "output_type": "stream",
     "text": [
      "C:\\Users\\Concept D\\AppData\\Local\\Temp\\ipykernel_5912\\3432635002.py:2: FutureWarning: A value is trying to be set on a copy of a DataFrame or Series through chained assignment using an inplace method.\n",
      "The behavior will change in pandas 3.0. This inplace method will never work because the intermediate object on which we are setting values always behaves as a copy.\n",
      "\n",
      "For example, when doing 'df[col].method(value, inplace=True)', try using 'df.method({col: value}, inplace=True)' or df[col] = df[col].method(value) instead, to perform the operation inplace on the original object.\n",
      "\n",
      "\n",
      "  ndf['Marital Status'].fillna(most_frequent_value, inplace=True)\n"
     ]
    }
   ],
   "source": [
    "most_frequent_value = ndf['Marital Status'].mode()[0]\n",
    "ndf['Marital Status'].fillna(most_frequent_value, inplace=True)\n"
   ]
  },
  {
   "cell_type": "code",
   "execution_count": 24,
   "metadata": {},
   "outputs": [
    {
     "data": {
      "text/plain": [
       "Marital Status\n",
       "married      2698\n",
       "single        591\n",
       "divorced      464\n",
       "widowed       228\n",
       "separated      43\n",
       "Name: count, dtype: int64"
      ]
     },
     "execution_count": 24,
     "metadata": {},
     "output_type": "execute_result"
    }
   ],
   "source": [
    "Marital_Status_frequency = ndf['Marital Status'].value_counts(dropna=False)\n",
    "\n",
    "Marital_Status_frequency"
   ]
  },
  {
   "cell_type": "code",
   "execution_count": 25,
   "metadata": {},
   "outputs": [
    {
     "name": "stdout",
     "output_type": "stream",
     "text": [
      "<class 'pandas.core.frame.DataFrame'>\n",
      "RangeIndex: 4024 entries, 0 to 4023\n",
      "Data columns (total 22 columns):\n",
      " #   Column                    Non-Null Count  Dtype  \n",
      "---  ------                    --------------  -----  \n",
      " 0   Age                       4024 non-null   float64\n",
      " 1   T Stage                   3813 non-null   object \n",
      " 2   N Stage                   3800 non-null   object \n",
      " 3   6th Stage                 3803 non-null   object \n",
      " 4   differentiate             3811 non-null   object \n",
      " 5   Grade                     3814 non-null   object \n",
      " 6   A Stage                   3834 non-null   object \n",
      " 7   Tumor Size                3818 non-null   object \n",
      " 8   Estrogen Status           3831 non-null   object \n",
      " 9   Progesterone Status       3805 non-null   object \n",
      " 10  Regional Node Examined    3807 non-null   object \n",
      " 11  Reginol Node Positive     3817 non-null   object \n",
      " 12  Survival Months           3798 non-null   object \n",
      " 13  Status                    4024 non-null   object \n",
      " 14  Race_Black                4024 non-null   int64  \n",
      " 15  Race_Other                4024 non-null   int64  \n",
      " 16  Race_White                4024 non-null   int64  \n",
      " 17  Marital Status_divorced   4024 non-null   bool   \n",
      " 18  Marital Status_married    4024 non-null   bool   \n",
      " 19  Marital Status_separated  4024 non-null   bool   \n",
      " 20  Marital Status_single     4024 non-null   bool   \n",
      " 21  Marital Status_widowed    4024 non-null   bool   \n",
      "dtypes: bool(5), float64(1), int64(3), object(13)\n",
      "memory usage: 554.2+ KB\n"
     ]
    }
   ],
   "source": [
    "ndf = pd.get_dummies(ndf, columns=['Marital Status'], drop_first=False)\n",
    "\n",
    "ndf.info()"
   ]
  },
  {
   "cell_type": "code",
   "execution_count": 26,
   "metadata": {},
   "outputs": [
    {
     "name": "stdout",
     "output_type": "stream",
     "text": [
      "<class 'pandas.core.frame.DataFrame'>\n",
      "RangeIndex: 4024 entries, 0 to 4023\n",
      "Data columns (total 22 columns):\n",
      " #   Column                    Non-Null Count  Dtype  \n",
      "---  ------                    --------------  -----  \n",
      " 0   Age                       4024 non-null   float64\n",
      " 1   T Stage                   3813 non-null   object \n",
      " 2   N Stage                   3800 non-null   object \n",
      " 3   6th Stage                 3803 non-null   object \n",
      " 4   differentiate             3811 non-null   object \n",
      " 5   Grade                     3814 non-null   object \n",
      " 6   A Stage                   3834 non-null   object \n",
      " 7   Tumor Size                3818 non-null   object \n",
      " 8   Estrogen Status           3831 non-null   object \n",
      " 9   Progesterone Status       3805 non-null   object \n",
      " 10  Regional Node Examined    3807 non-null   object \n",
      " 11  Reginol Node Positive     3817 non-null   object \n",
      " 12  Survival Months           3798 non-null   object \n",
      " 13  Status                    4024 non-null   object \n",
      " 14  Race_Black                4024 non-null   int64  \n",
      " 15  Race_Other                4024 non-null   int64  \n",
      " 16  Race_White                4024 non-null   int64  \n",
      " 17  Marital Status_divorced   4024 non-null   int64  \n",
      " 18  Marital Status_married    4024 non-null   int64  \n",
      " 19  Marital Status_separated  4024 non-null   int64  \n",
      " 20  Marital Status_single     4024 non-null   int64  \n",
      " 21  Marital Status_widowed    4024 non-null   int64  \n",
      "dtypes: float64(1), int64(8), object(13)\n",
      "memory usage: 691.8+ KB\n"
     ]
    }
   ],
   "source": [
    "ndf['Marital Status_widowed'] = ndf['Marital Status_widowed'].astype(int)\n",
    "ndf['Marital Status_single'] = ndf['Marital Status_single'].astype(int)\n",
    "ndf['Marital Status_married'] = ndf['Marital Status_married'].astype(int)\n",
    "ndf['Marital Status_separated'] = ndf['Marital Status_separated'].astype(int)\n",
    "ndf['Marital Status_divorced'] = ndf['Marital Status_divorced'].astype(int)\n",
    "\n",
    "\n",
    "ndf.info()"
   ]
  },
  {
   "cell_type": "code",
   "execution_count": 27,
   "metadata": {},
   "outputs": [
    {
     "data": {
      "text/plain": [
       "(4024, 22)"
      ]
     },
     "execution_count": 27,
     "metadata": {},
     "output_type": "execute_result"
    }
   ],
   "source": [
    "ndf.shape"
   ]
  },
  {
   "cell_type": "markdown",
   "metadata": {},
   "source": [
    "#### Edit Columns"
   ]
  },
  {
   "cell_type": "code",
   "execution_count": 28,
   "metadata": {},
   "outputs": [
    {
     "name": "stdout",
     "output_type": "stream",
     "text": [
      "Index(['Age', 'T_Stage_', 'N_Stage', '6th_Stage', 'differentiate', 'Grade',\n",
      "       'A_Stage', 'Tumor_Size', 'Estrogen_Status', 'Progesterone_Status',\n",
      "       'Regional_Node_Examined', 'Reginol_Node_Positive', 'Survival_Months',\n",
      "       'Status', 'Race_Black', 'Race_Other', 'Race_White',\n",
      "       'Marital_Status_divorced', 'Marital_Status_married',\n",
      "       'Marital_Status_separated', 'Marital_Status_single',\n",
      "       'Marital_Status_widowed'],\n",
      "      dtype='object')\n"
     ]
    }
   ],
   "source": [
    "ndf.columns = ndf.columns.str.replace(' ', '_')\n",
    "\n",
    "# Display the updated column names\n",
    "print(ndf.columns)\n"
   ]
  },
  {
   "cell_type": "markdown",
   "metadata": {},
   "source": [
    "#### Adjusted AJCC 6th T\n"
   ]
  },
  {
   "cell_type": "code",
   "execution_count": 29,
   "metadata": {},
   "outputs": [
    {
     "data": {
      "text/plain": [
       "array(['T1', 'T2', 'T3', nan, 'T4'], dtype=object)"
      ]
     },
     "execution_count": 29,
     "metadata": {},
     "output_type": "execute_result"
    }
   ],
   "source": [
    "ndf['T_Stage_'] = ndf['T_Stage_'].str.strip().str.upper()\n",
    "\n",
    "ndf['T_Stage_'].unique()"
   ]
  },
  {
   "cell_type": "code",
   "execution_count": 30,
   "metadata": {},
   "outputs": [
    {
     "data": {
      "text/plain": [
       "T_Stage_\n",
       "T2     1702\n",
       "T1     1516\n",
       "T3      500\n",
       "NaN     211\n",
       "T4       95\n",
       "Name: count, dtype: int64"
      ]
     },
     "execution_count": 30,
     "metadata": {},
     "output_type": "execute_result"
    }
   ],
   "source": [
    "T_Stage_frequency = ndf['T_Stage_'].value_counts(dropna=False)\n",
    "\n",
    "T_Stage_frequency"
   ]
  },
  {
   "cell_type": "code",
   "execution_count": 31,
   "metadata": {},
   "outputs": [
    {
     "name": "stderr",
     "output_type": "stream",
     "text": [
      "C:\\Users\\Concept D\\AppData\\Local\\Temp\\ipykernel_5912\\668313778.py:1: FutureWarning: A value is trying to be set on a copy of a DataFrame or Series through chained assignment using an inplace method.\n",
      "The behavior will change in pandas 3.0. This inplace method will never work because the intermediate object on which we are setting values always behaves as a copy.\n",
      "\n",
      "For example, when doing 'df[col].method(value, inplace=True)', try using 'df.method({col: value}, inplace=True)' or df[col] = df[col].method(value) instead, to perform the operation inplace on the original object.\n",
      "\n",
      "\n",
      "  ndf['T_Stage_'].fillna('T2', inplace=True)\n"
     ]
    }
   ],
   "source": [
    "ndf['T_Stage_'].fillna('T2', inplace=True)\n"
   ]
  },
  {
   "cell_type": "code",
   "execution_count": 32,
   "metadata": {},
   "outputs": [
    {
     "data": {
      "text/plain": [
       "T_Stage_\n",
       "T2    1913\n",
       "T1    1516\n",
       "T3     500\n",
       "T4      95\n",
       "Name: count, dtype: int64"
      ]
     },
     "execution_count": 32,
     "metadata": {},
     "output_type": "execute_result"
    }
   ],
   "source": [
    "T_Stage_frequency = ndf['T_Stage_'].value_counts(dropna=False)\n",
    "\n",
    "T_Stage_frequency"
   ]
  },
  {
   "cell_type": "code",
   "execution_count": 33,
   "metadata": {},
   "outputs": [
    {
     "name": "stderr",
     "output_type": "stream",
     "text": [
      "C:\\Users\\Concept D\\AppData\\Local\\Temp\\ipykernel_5912\\2357429313.py:1: FutureWarning: Downcasting behavior in `replace` is deprecated and will be removed in a future version. To retain the old behavior, explicitly call `result.infer_objects(copy=False)`. To opt-in to the future behavior, set `pd.set_option('future.no_silent_downcasting', True)`\n",
      "  ndf['T_Stage_'] = ndf['T_Stage_'].replace({'T1': 1, 'T2': 2, 'T3': 3, 'T4': 4})\n"
     ]
    },
    {
     "data": {
      "text/plain": [
       "array([1, 2, 3, 4])"
      ]
     },
     "execution_count": 33,
     "metadata": {},
     "output_type": "execute_result"
    }
   ],
   "source": [
    "ndf['T_Stage_'] = ndf['T_Stage_'].replace({'T1': 1, 'T2': 2, 'T3': 3, 'T4': 4})\n",
    "\n",
    "ndf['T_Stage_'].unique()\n"
   ]
  },
  {
   "cell_type": "code",
   "execution_count": 34,
   "metadata": {},
   "outputs": [
    {
     "name": "stdout",
     "output_type": "stream",
     "text": [
      "<class 'pandas.core.frame.DataFrame'>\n",
      "RangeIndex: 4024 entries, 0 to 4023\n",
      "Data columns (total 22 columns):\n",
      " #   Column                    Non-Null Count  Dtype  \n",
      "---  ------                    --------------  -----  \n",
      " 0   Age                       4024 non-null   float64\n",
      " 1   T_Stage_                  4024 non-null   int64  \n",
      " 2   N_Stage                   3800 non-null   object \n",
      " 3   6th_Stage                 3803 non-null   object \n",
      " 4   differentiate             3811 non-null   object \n",
      " 5   Grade                     3814 non-null   object \n",
      " 6   A_Stage                   3834 non-null   object \n",
      " 7   Tumor_Size                3818 non-null   object \n",
      " 8   Estrogen_Status           3831 non-null   object \n",
      " 9   Progesterone_Status       3805 non-null   object \n",
      " 10  Regional_Node_Examined    3807 non-null   object \n",
      " 11  Reginol_Node_Positive     3817 non-null   object \n",
      " 12  Survival_Months           3798 non-null   object \n",
      " 13  Status                    4024 non-null   object \n",
      " 14  Race_Black                4024 non-null   int64  \n",
      " 15  Race_Other                4024 non-null   int64  \n",
      " 16  Race_White                4024 non-null   int64  \n",
      " 17  Marital_Status_divorced   4024 non-null   int64  \n",
      " 18  Marital_Status_married    4024 non-null   int64  \n",
      " 19  Marital_Status_separated  4024 non-null   int64  \n",
      " 20  Marital_Status_single     4024 non-null   int64  \n",
      " 21  Marital_Status_widowed    4024 non-null   int64  \n",
      "dtypes: float64(1), int64(9), object(12)\n",
      "memory usage: 691.8+ KB\n"
     ]
    }
   ],
   "source": [
    "ndf.info()"
   ]
  },
  {
   "cell_type": "markdown",
   "metadata": {},
   "source": [
    "#### N Stage "
   ]
  },
  {
   "cell_type": "code",
   "execution_count": 35,
   "metadata": {},
   "outputs": [
    {
     "data": {
      "text/plain": [
       "array(['N1', 'N2', ' N3 ', ' N1 ', ' n1 ', nan, 'N3', 'n1', ' n3 ', 'n3',\n",
       "       'n2', ' N2 ', ' n2 '], dtype=object)"
      ]
     },
     "execution_count": 35,
     "metadata": {},
     "output_type": "execute_result"
    }
   ],
   "source": [
    "ndf['N_Stage'].unique()\n"
   ]
  },
  {
   "cell_type": "code",
   "execution_count": 36,
   "metadata": {},
   "outputs": [
    {
     "data": {
      "text/plain": [
       "array(['N1', 'N2', 'N3', nan], dtype=object)"
      ]
     },
     "execution_count": 36,
     "metadata": {},
     "output_type": "execute_result"
    }
   ],
   "source": [
    "ndf['N_Stage'] = ndf['N_Stage'].str.strip().str.upper()\n",
    "\n",
    "ndf['N_Stage'].unique()"
   ]
  },
  {
   "cell_type": "code",
   "execution_count": 37,
   "metadata": {},
   "outputs": [
    {
     "data": {
      "text/plain": [
       "N_Stage\n",
       "N1     2574\n",
       "N2      787\n",
       "N3      439\n",
       "NaN     224\n",
       "Name: count, dtype: int64"
      ]
     },
     "execution_count": 37,
     "metadata": {},
     "output_type": "execute_result"
    }
   ],
   "source": [
    "N_Stage_frequency = ndf['N_Stage'].value_counts(dropna=False)\n",
    "\n",
    "N_Stage_frequency"
   ]
  },
  {
   "cell_type": "code",
   "execution_count": 38,
   "metadata": {},
   "outputs": [
    {
     "name": "stderr",
     "output_type": "stream",
     "text": [
      "C:\\Users\\Concept D\\AppData\\Local\\Temp\\ipykernel_5912\\750662734.py:1: FutureWarning: A value is trying to be set on a copy of a DataFrame or Series through chained assignment using an inplace method.\n",
      "The behavior will change in pandas 3.0. This inplace method will never work because the intermediate object on which we are setting values always behaves as a copy.\n",
      "\n",
      "For example, when doing 'df[col].method(value, inplace=True)', try using 'df.method({col: value}, inplace=True)' or df[col] = df[col].method(value) instead, to perform the operation inplace on the original object.\n",
      "\n",
      "\n",
      "  ndf['N_Stage'].fillna('N1', inplace=True)\n"
     ]
    }
   ],
   "source": [
    "ndf['N_Stage'].fillna('N1', inplace=True)\n"
   ]
  },
  {
   "cell_type": "code",
   "execution_count": 39,
   "metadata": {},
   "outputs": [
    {
     "data": {
      "text/plain": [
       "N_Stage\n",
       "N1    2798\n",
       "N2     787\n",
       "N3     439\n",
       "Name: count, dtype: int64"
      ]
     },
     "execution_count": 39,
     "metadata": {},
     "output_type": "execute_result"
    }
   ],
   "source": [
    "N_Stage_frequency = ndf['N_Stage'].value_counts(dropna=False)\n",
    "\n",
    "N_Stage_frequency"
   ]
  },
  {
   "cell_type": "code",
   "execution_count": 40,
   "metadata": {},
   "outputs": [
    {
     "name": "stderr",
     "output_type": "stream",
     "text": [
      "C:\\Users\\Concept D\\AppData\\Local\\Temp\\ipykernel_5912\\4016260961.py:1: FutureWarning: Downcasting behavior in `replace` is deprecated and will be removed in a future version. To retain the old behavior, explicitly call `result.infer_objects(copy=False)`. To opt-in to the future behavior, set `pd.set_option('future.no_silent_downcasting', True)`\n",
      "  ndf['N_Stage'] = ndf['N_Stage'].replace({'N1': 1, 'N2': 2, 'N3': 3})\n"
     ]
    },
    {
     "data": {
      "text/plain": [
       "array([1, 2, 3])"
      ]
     },
     "execution_count": 40,
     "metadata": {},
     "output_type": "execute_result"
    }
   ],
   "source": [
    "ndf['N_Stage'] = ndf['N_Stage'].replace({'N1': 1, 'N2': 2, 'N3': 3})\n",
    "\n",
    "ndf['N_Stage'].unique()\n"
   ]
  },
  {
   "cell_type": "code",
   "execution_count": 41,
   "metadata": {},
   "outputs": [
    {
     "name": "stdout",
     "output_type": "stream",
     "text": [
      "<class 'pandas.core.frame.DataFrame'>\n",
      "RangeIndex: 4024 entries, 0 to 4023\n",
      "Data columns (total 22 columns):\n",
      " #   Column                    Non-Null Count  Dtype  \n",
      "---  ------                    --------------  -----  \n",
      " 0   Age                       4024 non-null   float64\n",
      " 1   T_Stage_                  4024 non-null   int64  \n",
      " 2   N_Stage                   4024 non-null   int64  \n",
      " 3   6th_Stage                 3803 non-null   object \n",
      " 4   differentiate             3811 non-null   object \n",
      " 5   Grade                     3814 non-null   object \n",
      " 6   A_Stage                   3834 non-null   object \n",
      " 7   Tumor_Size                3818 non-null   object \n",
      " 8   Estrogen_Status           3831 non-null   object \n",
      " 9   Progesterone_Status       3805 non-null   object \n",
      " 10  Regional_Node_Examined    3807 non-null   object \n",
      " 11  Reginol_Node_Positive     3817 non-null   object \n",
      " 12  Survival_Months           3798 non-null   object \n",
      " 13  Status                    4024 non-null   object \n",
      " 14  Race_Black                4024 non-null   int64  \n",
      " 15  Race_Other                4024 non-null   int64  \n",
      " 16  Race_White                4024 non-null   int64  \n",
      " 17  Marital_Status_divorced   4024 non-null   int64  \n",
      " 18  Marital_Status_married    4024 non-null   int64  \n",
      " 19  Marital_Status_separated  4024 non-null   int64  \n",
      " 20  Marital_Status_single     4024 non-null   int64  \n",
      " 21  Marital_Status_widowed    4024 non-null   int64  \n",
      "dtypes: float64(1), int64(10), object(11)\n",
      "memory usage: 691.8+ KB\n"
     ]
    }
   ],
   "source": [
    "ndf.info()"
   ]
  },
  {
   "cell_type": "markdown",
   "metadata": {},
   "source": [
    "#### 6th Stage\n",
    "##### Breast Adjusted AJCC 6th Stage"
   ]
  },
  {
   "cell_type": "code",
   "execution_count": 42,
   "metadata": {},
   "outputs": [
    {
     "data": {
      "text/plain": [
       "array(['iia', 'IIIA', ' IIIC ', ' IIA ', 'IIB', 'IIA', nan, 'IIIC',\n",
       "       'iiia', ' iib ', 'iib', 'iiic', ' IIIA ', ' iiic ', ' IIB ',\n",
       "       ' iiia ', ' iia ', ' IIIB ', 'IIIB', 'iiib', ' iiib '],\n",
       "      dtype=object)"
      ]
     },
     "execution_count": 42,
     "metadata": {},
     "output_type": "execute_result"
    }
   ],
   "source": [
    "ndf['6th_Stage'].unique()"
   ]
  },
  {
   "cell_type": "code",
   "execution_count": 43,
   "metadata": {},
   "outputs": [
    {
     "name": "stdout",
     "output_type": "stream",
     "text": [
      "['IIA' 'IIIA' 'IIIC' 'IIB' nan 'IIIB']\n"
     ]
    }
   ],
   "source": [
    "ndf['6th_Stage'] = ndf['6th_Stage'].str.strip().str.upper()\n",
    "\n",
    "ndf['6th_Stage'] = ndf['6th_Stage'].replace({\n",
    "    'IIA': 'IIA', 'IIIB': 'IIIB', 'IIIA': 'IIIA', 'IIB': 'IIB',\n",
    "    'III': 'IIIC', 'IIIC': 'IIIC'\n",
    "})\n",
    "\n",
    "print(ndf['6th_Stage'].unique())\n"
   ]
  },
  {
   "cell_type": "code",
   "execution_count": 44,
   "metadata": {},
   "outputs": [
    {
     "data": {
      "text/plain": [
       "6th_Stage\n",
       "IIA     1245\n",
       "IIB     1055\n",
       "IIIA     994\n",
       "IIIC     448\n",
       "NaN      221\n",
       "IIIB      61\n",
       "Name: count, dtype: int64"
      ]
     },
     "execution_count": 44,
     "metadata": {},
     "output_type": "execute_result"
    }
   ],
   "source": [
    "_6th_Stage_frequency = ndf['6th_Stage'].value_counts(dropna=False)\n",
    "\n",
    "_6th_Stage_frequency"
   ]
  },
  {
   "cell_type": "code",
   "execution_count": 45,
   "metadata": {},
   "outputs": [
    {
     "name": "stderr",
     "output_type": "stream",
     "text": [
      "C:\\Users\\Concept D\\AppData\\Local\\Temp\\ipykernel_5912\\3873962072.py:1: FutureWarning: A value is trying to be set on a copy of a DataFrame or Series through chained assignment using an inplace method.\n",
      "The behavior will change in pandas 3.0. This inplace method will never work because the intermediate object on which we are setting values always behaves as a copy.\n",
      "\n",
      "For example, when doing 'df[col].method(value, inplace=True)', try using 'df.method({col: value}, inplace=True)' or df[col] = df[col].method(value) instead, to perform the operation inplace on the original object.\n",
      "\n",
      "\n",
      "  ndf['6th_Stage'].fillna('IIA', inplace=True)\n"
     ]
    },
    {
     "data": {
      "text/plain": [
       "6th_Stage\n",
       "IIA     1466\n",
       "IIB     1055\n",
       "IIIA     994\n",
       "IIIC     448\n",
       "IIIB      61\n",
       "Name: count, dtype: int64"
      ]
     },
     "execution_count": 45,
     "metadata": {},
     "output_type": "execute_result"
    }
   ],
   "source": [
    "ndf['6th_Stage'].fillna('IIA', inplace=True)\n",
    "_6th_Stage_frequency = ndf['6th_Stage'].value_counts(dropna=False)\n",
    "\n",
    "_6th_Stage_frequency"
   ]
  },
  {
   "cell_type": "code",
   "execution_count": 46,
   "metadata": {},
   "outputs": [
    {
     "name": "stderr",
     "output_type": "stream",
     "text": [
      "C:\\Users\\Concept D\\AppData\\Local\\Temp\\ipykernel_5912\\3016239562.py:9: FutureWarning: Downcasting behavior in `replace` is deprecated and will be removed in a future version. To retain the old behavior, explicitly call `result.infer_objects(copy=False)`. To opt-in to the future behavior, set `pd.set_option('future.no_silent_downcasting', True)`\n",
      "  ndf['6th_Stage'] = ndf['6th_Stage'].replace(stage_mapping)\n"
     ]
    },
    {
     "data": {
      "text/plain": [
       "0       1\n",
       "1       3\n",
       "2       4\n",
       "3       1\n",
       "4       2\n",
       "       ..\n",
       "4019    1\n",
       "4020    3\n",
       "4021    2\n",
       "4022    2\n",
       "4023    2\n",
       "Name: 6th_Stage, Length: 4024, dtype: int64"
      ]
     },
     "execution_count": 46,
     "metadata": {},
     "output_type": "execute_result"
    }
   ],
   "source": [
    "stage_mapping = {\n",
    "    'IIA': 1,\n",
    "    'IIB': 2,\n",
    "    'IIIA': 3,\n",
    "    'IIIC': 4,\n",
    "    'IIIB': 5\n",
    "}\n",
    "\n",
    "ndf['6th_Stage'] = ndf['6th_Stage'].replace(stage_mapping)\n",
    "\n",
    "ndf['6th_Stage']"
   ]
  },
  {
   "cell_type": "code",
   "execution_count": 47,
   "metadata": {},
   "outputs": [
    {
     "name": "stdout",
     "output_type": "stream",
     "text": [
      "<class 'pandas.core.frame.DataFrame'>\n",
      "RangeIndex: 4024 entries, 0 to 4023\n",
      "Data columns (total 22 columns):\n",
      " #   Column                    Non-Null Count  Dtype  \n",
      "---  ------                    --------------  -----  \n",
      " 0   Age                       4024 non-null   float64\n",
      " 1   T_Stage_                  4024 non-null   int64  \n",
      " 2   N_Stage                   4024 non-null   int64  \n",
      " 3   6th_Stage                 4024 non-null   int64  \n",
      " 4   differentiate             3811 non-null   object \n",
      " 5   Grade                     3814 non-null   object \n",
      " 6   A_Stage                   3834 non-null   object \n",
      " 7   Tumor_Size                3818 non-null   object \n",
      " 8   Estrogen_Status           3831 non-null   object \n",
      " 9   Progesterone_Status       3805 non-null   object \n",
      " 10  Regional_Node_Examined    3807 non-null   object \n",
      " 11  Reginol_Node_Positive     3817 non-null   object \n",
      " 12  Survival_Months           3798 non-null   object \n",
      " 13  Status                    4024 non-null   object \n",
      " 14  Race_Black                4024 non-null   int64  \n",
      " 15  Race_Other                4024 non-null   int64  \n",
      " 16  Race_White                4024 non-null   int64  \n",
      " 17  Marital_Status_divorced   4024 non-null   int64  \n",
      " 18  Marital_Status_married    4024 non-null   int64  \n",
      " 19  Marital_Status_separated  4024 non-null   int64  \n",
      " 20  Marital_Status_single     4024 non-null   int64  \n",
      " 21  Marital_Status_widowed    4024 non-null   int64  \n",
      "dtypes: float64(1), int64(11), object(10)\n",
      "memory usage: 691.8+ KB\n"
     ]
    }
   ],
   "source": [
    "ndf.info()"
   ]
  },
  {
   "cell_type": "markdown",
   "metadata": {},
   "source": [
    "#### Differentiate\n"
   ]
  },
  {
   "cell_type": "code",
   "execution_count": 48,
   "metadata": {},
   "outputs": [
    {
     "data": {
      "text/plain": [
       "array(['Poorly differentiated', ' Moderately differentiated ',\n",
       "       'Moderately differentiated', 'POORLY DIFFERENTIATED', nan,\n",
       "       'well differentiated', 'Well differentiated',\n",
       "       ' MODERATELY DIFFERENTIATED ', ' poorly differentiated ',\n",
       "       'moderately differentiated', 'MODERATELY DIFFERENTIATED',\n",
       "       ' Poorly differentiated ', ' moderately differentiated ',\n",
       "       ' POORLY DIFFERENTIATED ', ' WELL DIFFERENTIATED ',\n",
       "       'poorly differentiated', ' well differentiated ',\n",
       "       'WELL DIFFERENTIATED', ' Well differentiated ', 'undifferentiated',\n",
       "       ' undifferentiated ', ' Undifferentiated ', 'Undifferentiated',\n",
       "       ' UNDIFFERENTIATED ', 'UNDIFFERENTIATED'], dtype=object)"
      ]
     },
     "execution_count": 48,
     "metadata": {},
     "output_type": "execute_result"
    }
   ],
   "source": [
    "ndf['differentiate'].unique()"
   ]
  },
  {
   "cell_type": "code",
   "execution_count": 49,
   "metadata": {},
   "outputs": [
    {
     "name": "stdout",
     "output_type": "stream",
     "text": [
      "['POORLY DIFFERENTIATED' 'MODERATELY DIFFERENTIATED' nan\n",
      " 'WELL DIFFERENTIATED' 'UNDIFFERENTIATED']\n"
     ]
    }
   ],
   "source": [
    "ndf['differentiate'] = ndf['differentiate'].str.strip().str.upper()\n",
    "\n",
    "ndf['differentiate'] = ndf['differentiate'].replace({\n",
    "    'POORLY DIFFERENTIATED': 'POORLY DIFFERENTIATED',\n",
    "    'MODERATELY DIFFERENTIATED': 'MODERATELY DIFFERENTIATED',\n",
    "    'WELL DIFFERENTIATED': 'WELL DIFFERENTIATED',\n",
    "    'UNDIFFERENTIATED': 'UNDIFFERENTIATED'\n",
    "})\n",
    "\n",
    "print(ndf['differentiate'].unique())\n"
   ]
  },
  {
   "cell_type": "markdown",
   "metadata": {},
   "source": [
    "- POORLY DIFFERENTIATED:\n",
    "-- The cancer cells are very different from normal cells.\n",
    "-- This typically indicates a more aggressive and rapidly growing tumor.\n",
    "\n",
    "- MODERATELY DIFFERENTIATED:\n",
    "\n",
    "-- The cancer cells have some similarity to normal cells, but not a lot.\n",
    "-- This suggests that the tumor is somewhat aggressive, though not as much as poorly differentiated tumors.\n",
    "\n",
    "- WELL DIFFERENTIATED:\n",
    "\n",
    "-- The cancer cells closely resemble normal cells.\n",
    "-- This suggests the tumor is less aggressive and tends to grow more slowly.\n",
    "\n",
    "- UNDIFFERENTIATED:\n",
    "\n",
    "The cancer cells are unrecognizable compared to normal cells.\n",
    "This generally indicates a highly aggressive and fast-growing tumor."
   ]
  },
  {
   "cell_type": "code",
   "execution_count": 50,
   "metadata": {},
   "outputs": [
    {
     "name": "stdout",
     "output_type": "stream",
     "text": [
      "<class 'pandas.core.frame.DataFrame'>\n",
      "RangeIndex: 4024 entries, 0 to 4023\n",
      "Data columns (total 22 columns):\n",
      " #   Column                    Non-Null Count  Dtype  \n",
      "---  ------                    --------------  -----  \n",
      " 0   Age                       4024 non-null   float64\n",
      " 1   T_Stage_                  4024 non-null   int64  \n",
      " 2   N_Stage                   4024 non-null   int64  \n",
      " 3   6th_Stage                 4024 non-null   int64  \n",
      " 4   differentiate             3811 non-null   object \n",
      " 5   Grade                     3814 non-null   object \n",
      " 6   A_Stage                   3834 non-null   object \n",
      " 7   Tumor_Size                3818 non-null   object \n",
      " 8   Estrogen_Status           3831 non-null   object \n",
      " 9   Progesterone_Status       3805 non-null   object \n",
      " 10  Regional_Node_Examined    3807 non-null   object \n",
      " 11  Reginol_Node_Positive     3817 non-null   object \n",
      " 12  Survival_Months           3798 non-null   object \n",
      " 13  Status                    4024 non-null   object \n",
      " 14  Race_Black                4024 non-null   int64  \n",
      " 15  Race_Other                4024 non-null   int64  \n",
      " 16  Race_White                4024 non-null   int64  \n",
      " 17  Marital_Status_divorced   4024 non-null   int64  \n",
      " 18  Marital_Status_married    4024 non-null   int64  \n",
      " 19  Marital_Status_separated  4024 non-null   int64  \n",
      " 20  Marital_Status_single     4024 non-null   int64  \n",
      " 21  Marital_Status_widowed    4024 non-null   int64  \n",
      "dtypes: float64(1), int64(11), object(10)\n",
      "memory usage: 691.8+ KB\n"
     ]
    }
   ],
   "source": [
    "ndf.info()"
   ]
  },
  {
   "cell_type": "code",
   "execution_count": 51,
   "metadata": {},
   "outputs": [
    {
     "name": "stdout",
     "output_type": "stream",
     "text": [
      "['POORLY DIFFERENTIATED' 'MODERATELY DIFFERENTIATED' 'WELL DIFFERENTIATED'\n",
      " 'UNDIFFERENTIATED']\n"
     ]
    },
    {
     "name": "stderr",
     "output_type": "stream",
     "text": [
      "C:\\Users\\Concept D\\AppData\\Local\\Temp\\ipykernel_5912\\2955897330.py:3: FutureWarning: A value is trying to be set on a copy of a DataFrame or Series through chained assignment using an inplace method.\n",
      "The behavior will change in pandas 3.0. This inplace method will never work because the intermediate object on which we are setting values always behaves as a copy.\n",
      "\n",
      "For example, when doing 'df[col].method(value, inplace=True)', try using 'df.method({col: value}, inplace=True)' or df[col] = df[col].method(value) instead, to perform the operation inplace on the original object.\n",
      "\n",
      "\n",
      "  ndf['differentiate'].fillna(most_frequent_differentiate, inplace=True)\n"
     ]
    }
   ],
   "source": [
    "most_frequent_differentiate = ndf['differentiate'].mode()[0]\n",
    "\n",
    "ndf['differentiate'].fillna(most_frequent_differentiate, inplace=True)\n",
    "\n",
    "print(ndf['differentiate'].unique())\n"
   ]
  },
  {
   "cell_type": "code",
   "execution_count": 52,
   "metadata": {},
   "outputs": [
    {
     "data": {
      "text/plain": [
       "0           POORLY DIFFERENTIATED\n",
       "1       MODERATELY DIFFERENTIATED\n",
       "2       MODERATELY DIFFERENTIATED\n",
       "3           POORLY DIFFERENTIATED\n",
       "4           POORLY DIFFERENTIATED\n",
       "                  ...            \n",
       "4019    MODERATELY DIFFERENTIATED\n",
       "4020    MODERATELY DIFFERENTIATED\n",
       "4021    MODERATELY DIFFERENTIATED\n",
       "4022    MODERATELY DIFFERENTIATED\n",
       "4023    MODERATELY DIFFERENTIATED\n",
       "Name: differentiate, Length: 4024, dtype: object"
      ]
     },
     "execution_count": 52,
     "metadata": {},
     "output_type": "execute_result"
    }
   ],
   "source": [
    "ndf['differentiate']"
   ]
  },
  {
   "cell_type": "code",
   "execution_count": 53,
   "metadata": {},
   "outputs": [
    {
     "name": "stdout",
     "output_type": "stream",
     "text": [
      "<class 'pandas.core.frame.DataFrame'>\n",
      "RangeIndex: 4024 entries, 0 to 4023\n",
      "Data columns (total 22 columns):\n",
      " #   Column                    Non-Null Count  Dtype  \n",
      "---  ------                    --------------  -----  \n",
      " 0   Age                       4024 non-null   float64\n",
      " 1   T_Stage_                  4024 non-null   int64  \n",
      " 2   N_Stage                   4024 non-null   int64  \n",
      " 3   6th_Stage                 4024 non-null   int64  \n",
      " 4   differentiate             4024 non-null   object \n",
      " 5   Grade                     3814 non-null   object \n",
      " 6   A_Stage                   3834 non-null   object \n",
      " 7   Tumor_Size                3818 non-null   object \n",
      " 8   Estrogen_Status           3831 non-null   object \n",
      " 9   Progesterone_Status       3805 non-null   object \n",
      " 10  Regional_Node_Examined    3807 non-null   object \n",
      " 11  Reginol_Node_Positive     3817 non-null   object \n",
      " 12  Survival_Months           3798 non-null   object \n",
      " 13  Status                    4024 non-null   object \n",
      " 14  Race_Black                4024 non-null   int64  \n",
      " 15  Race_Other                4024 non-null   int64  \n",
      " 16  Race_White                4024 non-null   int64  \n",
      " 17  Marital_Status_divorced   4024 non-null   int64  \n",
      " 18  Marital_Status_married    4024 non-null   int64  \n",
      " 19  Marital_Status_separated  4024 non-null   int64  \n",
      " 20  Marital_Status_single     4024 non-null   int64  \n",
      " 21  Marital_Status_widowed    4024 non-null   int64  \n",
      "dtypes: float64(1), int64(11), object(10)\n",
      "memory usage: 691.8+ KB\n"
     ]
    }
   ],
   "source": [
    "ndf.info()"
   ]
  },
  {
   "cell_type": "code",
   "execution_count": 54,
   "metadata": {},
   "outputs": [
    {
     "name": "stdout",
     "output_type": "stream",
     "text": [
      "<class 'pandas.core.frame.DataFrame'>\n",
      "RangeIndex: 4024 entries, 0 to 4023\n",
      "Data columns (total 24 columns):\n",
      " #   Column                               Non-Null Count  Dtype  \n",
      "---  ------                               --------------  -----  \n",
      " 0   Age                                  4024 non-null   float64\n",
      " 1   T_Stage_                             4024 non-null   int64  \n",
      " 2   N_Stage                              4024 non-null   int64  \n",
      " 3   6th_Stage                            4024 non-null   int64  \n",
      " 4   Grade                                3814 non-null   object \n",
      " 5   A_Stage                              3834 non-null   object \n",
      " 6   Tumor_Size                           3818 non-null   object \n",
      " 7   Estrogen_Status                      3831 non-null   object \n",
      " 8   Progesterone_Status                  3805 non-null   object \n",
      " 9   Regional_Node_Examined               3807 non-null   object \n",
      " 10  Reginol_Node_Positive                3817 non-null   object \n",
      " 11  Survival_Months                      3798 non-null   object \n",
      " 12  Status                               4024 non-null   object \n",
      " 13  Race_Black                           4024 non-null   int64  \n",
      " 14  Race_Other                           4024 non-null   int64  \n",
      " 15  Race_White                           4024 non-null   int64  \n",
      " 16  Marital_Status_divorced              4024 non-null   int64  \n",
      " 17  Marital_Status_married               4024 non-null   int64  \n",
      " 18  Marital_Status_separated             4024 non-null   int64  \n",
      " 19  Marital_Status_single                4024 non-null   int64  \n",
      " 20  Marital_Status_widowed               4024 non-null   int64  \n",
      " 21  differentiate_POORLY DIFFERENTIATED  4024 non-null   bool   \n",
      " 22  differentiate_UNDIFFERENTIATED       4024 non-null   bool   \n",
      " 23  differentiate_WELL DIFFERENTIATED    4024 non-null   bool   \n",
      "dtypes: bool(3), float64(1), int64(11), object(9)\n",
      "memory usage: 672.1+ KB\n"
     ]
    }
   ],
   "source": [
    "ndf = pd.get_dummies(ndf, columns=['differentiate'], drop_first=True)\n",
    "\n",
    "ndf.info()"
   ]
  },
  {
   "cell_type": "code",
   "execution_count": 55,
   "metadata": {},
   "outputs": [
    {
     "name": "stdout",
     "output_type": "stream",
     "text": [
      "<class 'pandas.core.frame.DataFrame'>\n",
      "RangeIndex: 4024 entries, 0 to 4023\n",
      "Data columns (total 24 columns):\n",
      " #   Column                               Non-Null Count  Dtype  \n",
      "---  ------                               --------------  -----  \n",
      " 0   Age                                  4024 non-null   float64\n",
      " 1   T_Stage_                             4024 non-null   int64  \n",
      " 2   N_Stage                              4024 non-null   int64  \n",
      " 3   6th_Stage                            4024 non-null   int64  \n",
      " 4   Grade                                3814 non-null   object \n",
      " 5   A_Stage                              3834 non-null   object \n",
      " 6   Tumor_Size                           3818 non-null   object \n",
      " 7   Estrogen_Status                      3831 non-null   object \n",
      " 8   Progesterone_Status                  3805 non-null   object \n",
      " 9   Regional_Node_Examined               3807 non-null   object \n",
      " 10  Reginol_Node_Positive                3817 non-null   object \n",
      " 11  Survival_Months                      3798 non-null   object \n",
      " 12  Status                               4024 non-null   object \n",
      " 13  Race_Black                           4024 non-null   int64  \n",
      " 14  Race_Other                           4024 non-null   int64  \n",
      " 15  Race_White                           4024 non-null   int64  \n",
      " 16  Marital_Status_divorced              4024 non-null   int64  \n",
      " 17  Marital_Status_married               4024 non-null   int64  \n",
      " 18  Marital_Status_separated             4024 non-null   int64  \n",
      " 19  Marital_Status_single                4024 non-null   int64  \n",
      " 20  Marital_Status_widowed               4024 non-null   int64  \n",
      " 21  differentiate_POORLY DIFFERENTIATED  4024 non-null   int64  \n",
      " 22  differentiate_UNDIFFERENTIATED       4024 non-null   int64  \n",
      " 23  differentiate_WELL DIFFERENTIATED    4024 non-null   int64  \n",
      "dtypes: float64(1), int64(14), object(9)\n",
      "memory usage: 754.6+ KB\n"
     ]
    }
   ],
   "source": [
    "ndf['differentiate_POORLY DIFFERENTIATED'] = ndf['differentiate_POORLY DIFFERENTIATED'].astype(int)\n",
    "ndf['differentiate_UNDIFFERENTIATED'] = ndf['differentiate_UNDIFFERENTIATED'].astype(int)\n",
    "ndf['differentiate_WELL DIFFERENTIATED'] = ndf['differentiate_WELL DIFFERENTIATED'].astype(int)\n",
    "\n",
    "ndf.info()"
   ]
  },
  {
   "cell_type": "markdown",
   "metadata": {},
   "source": [
    "#### Grade\n",
    "##### The grade"
   ]
  },
  {
   "cell_type": "code",
   "execution_count": 56,
   "metadata": {},
   "outputs": [
    {
     "data": {
      "text/plain": [
       "array(['3', '2', nan, '1', ' anaplastic; grade iv ',\n",
       "       'anaplastic; grade iv', ' anaplastic; Grade IV ',\n",
       "       'anaplastic; Grade IV', ' ANAPLASTIC; GRADE IV '], dtype=object)"
      ]
     },
     "execution_count": 56,
     "metadata": {},
     "output_type": "execute_result"
    }
   ],
   "source": [
    "ndf['Grade'].unique()"
   ]
  },
  {
   "cell_type": "code",
   "execution_count": 58,
   "metadata": {},
   "outputs": [
    {
     "name": "stdout",
     "output_type": "stream",
     "text": [
      "['3' '2' nan '1' 'ANAPLASTIC GRADE IV']\n"
     ]
    },
    {
     "data": {
      "text/plain": [
       "'2'"
      ]
     },
     "execution_count": 58,
     "metadata": {},
     "output_type": "execute_result"
    }
   ],
   "source": [
    "ndf['Grade'] = ndf['Grade'].str.strip().str.upper()\n",
    "\n",
    "ndf['Grade'] = ndf['Grade'].replace({\n",
    "    'ANAPLASTIC; GRADE IV': 'ANAPLASTIC GRADE IV',\n",
    "    'ANAPLASTIC GRADE IV': 'ANAPLASTIC GRADE IV'\n",
    "})\n",
    "\n",
    "most_frequent_grade = ndf['Grade'].mode()[0]\n",
    "most_frequent_grade\n",
    "\n",
    "print(ndf['Grade'].unique())\n",
    "\n",
    "most_frequent_grade\n"
   ]
  },
  {
   "cell_type": "code",
   "execution_count": 59,
   "metadata": {},
   "outputs": [
    {
     "name": "stdout",
     "output_type": "stream",
     "text": [
      "['3' '2' '1' 'ANAPLASTIC GRADE IV']\n"
     ]
    },
    {
     "name": "stderr",
     "output_type": "stream",
     "text": [
      "C:\\Users\\Concept D\\AppData\\Local\\Temp\\ipykernel_5912\\3785702972.py:1: FutureWarning: A value is trying to be set on a copy of a DataFrame or Series through chained assignment using an inplace method.\n",
      "The behavior will change in pandas 3.0. This inplace method will never work because the intermediate object on which we are setting values always behaves as a copy.\n",
      "\n",
      "For example, when doing 'df[col].method(value, inplace=True)', try using 'df.method({col: value}, inplace=True)' or df[col] = df[col].method(value) instead, to perform the operation inplace on the original object.\n",
      "\n",
      "\n",
      "  ndf['Grade'].fillna(most_frequent_grade, inplace=True)\n"
     ]
    }
   ],
   "source": [
    "ndf['Grade'].fillna(most_frequent_grade, inplace=True)\n",
    "\n",
    "print(ndf['Grade'].unique())"
   ]
  },
  {
   "cell_type": "code",
   "execution_count": 60,
   "metadata": {},
   "outputs": [
    {
     "name": "stdout",
     "output_type": "stream",
     "text": [
      "['3' '2' '1' 4]\n"
     ]
    }
   ],
   "source": [
    "ndf['Grade'] = ndf['Grade'].replace('ANAPLASTIC GRADE IV', 4)\n",
    "\n",
    "print(ndf['Grade'].unique())\n"
   ]
  },
  {
   "cell_type": "code",
   "execution_count": 62,
   "metadata": {},
   "outputs": [
    {
     "data": {
      "text/plain": [
       "np.int64(2)"
      ]
     },
     "execution_count": 62,
     "metadata": {},
     "output_type": "execute_result"
    }
   ],
   "source": [
    "ndf['Grade'] = pd.to_numeric(ndf['Grade'], errors='coerce')\n",
    "\n",
    "most_frequent_grade = ndf['Grade'].mode()[0]\n",
    "\n",
    "most_frequent_grade"
   ]
  },
  {
   "cell_type": "code",
   "execution_count": 63,
   "metadata": {},
   "outputs": [
    {
     "data": {
      "text/plain": [
       "array([3, 2, 1, 4])"
      ]
     },
     "execution_count": 63,
     "metadata": {},
     "output_type": "execute_result"
    }
   ],
   "source": [
    "ndf['Grade'].unique()"
   ]
  },
  {
   "cell_type": "code",
   "execution_count": 64,
   "metadata": {},
   "outputs": [
    {
     "name": "stdout",
     "output_type": "stream",
     "text": [
      "<class 'pandas.core.series.Series'>\n",
      "RangeIndex: 4024 entries, 0 to 4023\n",
      "Series name: Grade\n",
      "Non-Null Count  Dtype\n",
      "--------------  -----\n",
      "4024 non-null   int64\n",
      "dtypes: int64(1)\n",
      "memory usage: 31.6 KB\n"
     ]
    }
   ],
   "source": [
    "ndf['Grade'].info()"
   ]
  },
  {
   "cell_type": "markdown",
   "metadata": {},
   "source": [
    "#### A Stage\n",
    "##### Regional — A neoplasm that has extended, Distant — A neoplasm that has spread to parts of the body remote from"
   ]
  },
  {
   "cell_type": "code",
   "execution_count": 65,
   "metadata": {},
   "outputs": [
    {
     "name": "stdout",
     "output_type": "stream",
     "text": [
      "['REGIONAL' 'DISTANT' nan]\n"
     ]
    }
   ],
   "source": [
    "ndf['A_Stage'] = ndf['A_Stage'].str.strip().str.upper()\n",
    "\n",
    "ndf['A_Stage'] = ndf['A_Stage'].replace({\n",
    "    'REGIONAL': 'REGIONAL',\n",
    "    'DISTANT': 'DISTANT'\n",
    "})\n",
    "\n",
    "print(ndf['A_Stage'].unique())\n"
   ]
  },
  {
   "cell_type": "code",
   "execution_count": 66,
   "metadata": {},
   "outputs": [
    {
     "data": {
      "text/plain": [
       "A_Stage\n",
       "REGIONAL    3748\n",
       "NaN          190\n",
       "DISTANT       86\n",
       "Name: count, dtype: int64"
      ]
     },
     "execution_count": 66,
     "metadata": {},
     "output_type": "execute_result"
    }
   ],
   "source": [
    "A_Stage_frequency = ndf['A_Stage'].value_counts(dropna=False)\n",
    "\n",
    "A_Stage_frequency\n"
   ]
  },
  {
   "cell_type": "code",
   "execution_count": 67,
   "metadata": {},
   "outputs": [
    {
     "name": "stdout",
     "output_type": "stream",
     "text": [
      "['REGIONAL' 'DISTANT' nan]\n"
     ]
    },
    {
     "name": "stderr",
     "output_type": "stream",
     "text": [
      "C:\\Users\\Concept D\\AppData\\Local\\Temp\\ipykernel_5912\\479882919.py:1: FutureWarning: A value is trying to be set on a copy of a DataFrame or Series through chained assignment using an inplace method.\n",
      "The behavior will change in pandas 3.0. This inplace method will never work because the intermediate object on which we are setting values always behaves as a copy.\n",
      "\n",
      "For example, when doing 'df[col].method(value, inplace=True)', try using 'df.method({col: value}, inplace=True)' or df[col] = df[col].method(value) instead, to perform the operation inplace on the original object.\n",
      "\n",
      "\n",
      "  ndf['A_Stage'].fillna(A_Stage_frequency, inplace=True)\n"
     ]
    }
   ],
   "source": [
    "ndf['A_Stage'].fillna(A_Stage_frequency, inplace=True)\n",
    "\n",
    "# Display the unique values after replacement\n",
    "print(ndf['A_Stage'].unique())"
   ]
  },
  {
   "cell_type": "code",
   "execution_count": 68,
   "metadata": {},
   "outputs": [
    {
     "name": "stdout",
     "output_type": "stream",
     "text": [
      "['REGIONAL' 'DISTANT' nan]\n"
     ]
    }
   ],
   "source": [
    "print(ndf['A_Stage'].unique())"
   ]
  },
  {
   "cell_type": "code",
   "execution_count": 69,
   "metadata": {},
   "outputs": [
    {
     "name": "stdout",
     "output_type": "stream",
     "text": [
      "['REGIONAL' 'DISTANT']\n"
     ]
    }
   ],
   "source": [
    "most_frequent_A_Stage = A_Stage_frequency.idxmax()\n",
    "\n",
    "ndf['A_Stage'].fillna(most_frequent_A_Stage, inplace=True)\n",
    "\n",
    "print(ndf['A_Stage'].unique())\n"
   ]
  },
  {
   "cell_type": "code",
   "execution_count": 75,
   "metadata": {},
   "outputs": [],
   "source": [
    "# ndf = pd.get_dummies(ndf, columns=['A_Stage'], drop_first=False)\n",
    "\n",
    "# print(ndf.head())\n"
   ]
  },
  {
   "cell_type": "code",
   "execution_count": 73,
   "metadata": {},
   "outputs": [
    {
     "name": "stdout",
     "output_type": "stream",
     "text": [
      "<class 'pandas.core.frame.DataFrame'>\n",
      "RangeIndex: 4024 entries, 0 to 4023\n",
      "Data columns (total 25 columns):\n",
      " #   Column                               Non-Null Count  Dtype  \n",
      "---  ------                               --------------  -----  \n",
      " 0   Age                                  4024 non-null   float64\n",
      " 1   T_Stage_                             4024 non-null   int64  \n",
      " 2   N_Stage                              4024 non-null   int64  \n",
      " 3   6th_Stage                            4024 non-null   int64  \n",
      " 4   Grade                                4024 non-null   int64  \n",
      " 5   Tumor_Size                           3818 non-null   object \n",
      " 6   Estrogen_Status                      3831 non-null   object \n",
      " 7   Progesterone_Status                  3805 non-null   object \n",
      " 8   Regional_Node_Examined               3807 non-null   object \n",
      " 9   Reginol_Node_Positive                3817 non-null   object \n",
      " 10  Survival_Months                      3798 non-null   object \n",
      " 11  Status                               4024 non-null   object \n",
      " 12  Race_Black                           4024 non-null   int64  \n",
      " 13  Race_Other                           4024 non-null   int64  \n",
      " 14  Race_White                           4024 non-null   int64  \n",
      " 15  Marital_Status_divorced              4024 non-null   int64  \n",
      " 16  Marital_Status_married               4024 non-null   int64  \n",
      " 17  Marital_Status_separated             4024 non-null   int64  \n",
      " 18  Marital_Status_single                4024 non-null   int64  \n",
      " 19  Marital_Status_widowed               4024 non-null   int64  \n",
      " 20  differentiate_POORLY DIFFERENTIATED  4024 non-null   int64  \n",
      " 21  differentiate_UNDIFFERENTIATED       4024 non-null   int64  \n",
      " 22  differentiate_WELL DIFFERENTIATED    4024 non-null   int64  \n",
      " 23  A_Stage_DISTANT                      4024 non-null   bool   \n",
      " 24  A_Stage_REGIONAL                     4024 non-null   bool   \n",
      "dtypes: bool(2), float64(1), int64(15), object(7)\n",
      "memory usage: 731.1+ KB\n"
     ]
    }
   ],
   "source": [
    "ndf.info()"
   ]
  },
  {
   "cell_type": "code",
   "execution_count": 74,
   "metadata": {},
   "outputs": [
    {
     "data": {
      "text/html": [
       "<div>\n",
       "<style scoped>\n",
       "    .dataframe tbody tr th:only-of-type {\n",
       "        vertical-align: middle;\n",
       "    }\n",
       "\n",
       "    .dataframe tbody tr th {\n",
       "        vertical-align: top;\n",
       "    }\n",
       "\n",
       "    .dataframe thead th {\n",
       "        text-align: right;\n",
       "    }\n",
       "</style>\n",
       "<table border=\"1\" class=\"dataframe\">\n",
       "  <thead>\n",
       "    <tr style=\"text-align: right;\">\n",
       "      <th></th>\n",
       "      <th>A_Stage_DISTANT</th>\n",
       "      <th>A_Stage_REGIONAL</th>\n",
       "    </tr>\n",
       "  </thead>\n",
       "  <tbody>\n",
       "    <tr>\n",
       "      <th>0</th>\n",
       "      <td>0</td>\n",
       "      <td>1</td>\n",
       "    </tr>\n",
       "    <tr>\n",
       "      <th>1</th>\n",
       "      <td>0</td>\n",
       "      <td>1</td>\n",
       "    </tr>\n",
       "    <tr>\n",
       "      <th>2</th>\n",
       "      <td>0</td>\n",
       "      <td>1</td>\n",
       "    </tr>\n",
       "    <tr>\n",
       "      <th>3</th>\n",
       "      <td>0</td>\n",
       "      <td>1</td>\n",
       "    </tr>\n",
       "    <tr>\n",
       "      <th>4</th>\n",
       "      <td>0</td>\n",
       "      <td>1</td>\n",
       "    </tr>\n",
       "    <tr>\n",
       "      <th>...</th>\n",
       "      <td>...</td>\n",
       "      <td>...</td>\n",
       "    </tr>\n",
       "    <tr>\n",
       "      <th>4019</th>\n",
       "      <td>0</td>\n",
       "      <td>1</td>\n",
       "    </tr>\n",
       "    <tr>\n",
       "      <th>4020</th>\n",
       "      <td>0</td>\n",
       "      <td>1</td>\n",
       "    </tr>\n",
       "    <tr>\n",
       "      <th>4021</th>\n",
       "      <td>0</td>\n",
       "      <td>1</td>\n",
       "    </tr>\n",
       "    <tr>\n",
       "      <th>4022</th>\n",
       "      <td>0</td>\n",
       "      <td>1</td>\n",
       "    </tr>\n",
       "    <tr>\n",
       "      <th>4023</th>\n",
       "      <td>0</td>\n",
       "      <td>1</td>\n",
       "    </tr>\n",
       "  </tbody>\n",
       "</table>\n",
       "<p>4024 rows × 2 columns</p>\n",
       "</div>"
      ],
      "text/plain": [
       "      A_Stage_DISTANT  A_Stage_REGIONAL\n",
       "0                   0                 1\n",
       "1                   0                 1\n",
       "2                   0                 1\n",
       "3                   0                 1\n",
       "4                   0                 1\n",
       "...               ...               ...\n",
       "4019                0                 1\n",
       "4020                0                 1\n",
       "4021                0                 1\n",
       "4022                0                 1\n",
       "4023                0                 1\n",
       "\n",
       "[4024 rows x 2 columns]"
      ]
     },
     "execution_count": 74,
     "metadata": {},
     "output_type": "execute_result"
    }
   ],
   "source": [
    "ndf['A_Stage_DISTANT'] = ndf['A_Stage_DISTANT'].astype(int)\n",
    "ndf['A_Stage_REGIONAL'] = ndf['A_Stage_REGIONAL'].astype(int)\n",
    "\n",
    "ndf[['A_Stage_DISTANT', 'A_Stage_REGIONAL']]\n"
   ]
  },
  {
   "cell_type": "code",
   "execution_count": 76,
   "metadata": {},
   "outputs": [
    {
     "data": {
      "text/html": [
       "<div>\n",
       "<style scoped>\n",
       "    .dataframe tbody tr th:only-of-type {\n",
       "        vertical-align: middle;\n",
       "    }\n",
       "\n",
       "    .dataframe tbody tr th {\n",
       "        vertical-align: top;\n",
       "    }\n",
       "\n",
       "    .dataframe thead th {\n",
       "        text-align: right;\n",
       "    }\n",
       "</style>\n",
       "<table border=\"1\" class=\"dataframe\">\n",
       "  <thead>\n",
       "    <tr style=\"text-align: right;\">\n",
       "      <th></th>\n",
       "      <th>A_Stage_DISTANT</th>\n",
       "      <th>A_Stage_REGIONAL</th>\n",
       "    </tr>\n",
       "  </thead>\n",
       "  <tbody>\n",
       "    <tr>\n",
       "      <th>0</th>\n",
       "      <td>0</td>\n",
       "      <td>1</td>\n",
       "    </tr>\n",
       "    <tr>\n",
       "      <th>1</th>\n",
       "      <td>0</td>\n",
       "      <td>1</td>\n",
       "    </tr>\n",
       "    <tr>\n",
       "      <th>2</th>\n",
       "      <td>0</td>\n",
       "      <td>1</td>\n",
       "    </tr>\n",
       "    <tr>\n",
       "      <th>3</th>\n",
       "      <td>0</td>\n",
       "      <td>1</td>\n",
       "    </tr>\n",
       "    <tr>\n",
       "      <th>4</th>\n",
       "      <td>0</td>\n",
       "      <td>1</td>\n",
       "    </tr>\n",
       "    <tr>\n",
       "      <th>...</th>\n",
       "      <td>...</td>\n",
       "      <td>...</td>\n",
       "    </tr>\n",
       "    <tr>\n",
       "      <th>4019</th>\n",
       "      <td>0</td>\n",
       "      <td>1</td>\n",
       "    </tr>\n",
       "    <tr>\n",
       "      <th>4020</th>\n",
       "      <td>0</td>\n",
       "      <td>1</td>\n",
       "    </tr>\n",
       "    <tr>\n",
       "      <th>4021</th>\n",
       "      <td>0</td>\n",
       "      <td>1</td>\n",
       "    </tr>\n",
       "    <tr>\n",
       "      <th>4022</th>\n",
       "      <td>0</td>\n",
       "      <td>1</td>\n",
       "    </tr>\n",
       "    <tr>\n",
       "      <th>4023</th>\n",
       "      <td>0</td>\n",
       "      <td>1</td>\n",
       "    </tr>\n",
       "  </tbody>\n",
       "</table>\n",
       "<p>4024 rows × 2 columns</p>\n",
       "</div>"
      ],
      "text/plain": [
       "      A_Stage_DISTANT  A_Stage_REGIONAL\n",
       "0                   0                 1\n",
       "1                   0                 1\n",
       "2                   0                 1\n",
       "3                   0                 1\n",
       "4                   0                 1\n",
       "...               ...               ...\n",
       "4019                0                 1\n",
       "4020                0                 1\n",
       "4021                0                 1\n",
       "4022                0                 1\n",
       "4023                0                 1\n",
       "\n",
       "[4024 rows x 2 columns]"
      ]
     },
     "execution_count": 76,
     "metadata": {},
     "output_type": "execute_result"
    }
   ],
   "source": [
    "ndf['A_Stage_DISTANT'] = ndf['A_Stage_DISTANT'].astype(int)\n",
    "ndf['A_Stage_REGIONAL'] = ndf['A_Stage_REGIONAL'].astype(int)\n",
    "\n",
    "ndf[['A_Stage_DISTANT', 'A_Stage_REGIONAL']]\n"
   ]
  },
  {
   "cell_type": "code",
   "execution_count": 77,
   "metadata": {},
   "outputs": [
    {
     "name": "stdout",
     "output_type": "stream",
     "text": [
      "<class 'pandas.core.frame.DataFrame'>\n",
      "RangeIndex: 4024 entries, 0 to 4023\n",
      "Data columns (total 25 columns):\n",
      " #   Column                               Non-Null Count  Dtype  \n",
      "---  ------                               --------------  -----  \n",
      " 0   Age                                  4024 non-null   float64\n",
      " 1   T_Stage_                             4024 non-null   int64  \n",
      " 2   N_Stage                              4024 non-null   int64  \n",
      " 3   6th_Stage                            4024 non-null   int64  \n",
      " 4   Grade                                4024 non-null   int64  \n",
      " 5   Tumor_Size                           3818 non-null   object \n",
      " 6   Estrogen_Status                      3831 non-null   object \n",
      " 7   Progesterone_Status                  3805 non-null   object \n",
      " 8   Regional_Node_Examined               3807 non-null   object \n",
      " 9   Reginol_Node_Positive                3817 non-null   object \n",
      " 10  Survival_Months                      3798 non-null   object \n",
      " 11  Status                               4024 non-null   object \n",
      " 12  Race_Black                           4024 non-null   int64  \n",
      " 13  Race_Other                           4024 non-null   int64  \n",
      " 14  Race_White                           4024 non-null   int64  \n",
      " 15  Marital_Status_divorced              4024 non-null   int64  \n",
      " 16  Marital_Status_married               4024 non-null   int64  \n",
      " 17  Marital_Status_separated             4024 non-null   int64  \n",
      " 18  Marital_Status_single                4024 non-null   int64  \n",
      " 19  Marital_Status_widowed               4024 non-null   int64  \n",
      " 20  differentiate_POORLY DIFFERENTIATED  4024 non-null   int64  \n",
      " 21  differentiate_UNDIFFERENTIATED       4024 non-null   int64  \n",
      " 22  differentiate_WELL DIFFERENTIATED    4024 non-null   int64  \n",
      " 23  A_Stage_DISTANT                      4024 non-null   int64  \n",
      " 24  A_Stage_REGIONAL                     4024 non-null   int64  \n",
      "dtypes: float64(1), int64(17), object(7)\n",
      "memory usage: 786.1+ KB\n"
     ]
    }
   ],
   "source": [
    "ndf.info()"
   ]
  },
  {
   "cell_type": "markdown",
   "metadata": {},
   "source": [
    "#### Tumor Size\n",
    "##### Each indicates exact size in millimeters."
   ]
  },
  {
   "cell_type": "code",
   "execution_count": 78,
   "metadata": {},
   "outputs": [
    {
     "data": {
      "text/plain": [
       "array(['missing', '35', '63', '18', '20', '8', '30', '103', '32', '13',\n",
       "       '59', '15', '19', '46', ' MISSING ', '25', '29', '40', '70', '22',\n",
       "       '17', '21', '10', '27', '23', '5', '51', nan, ' missing ', '55',\n",
       "       '120', '77', '11', '12', '26', '75', '130', '34', '50', '80', '3',\n",
       "       '60', '14', '24', '16', '45', '76', 'MISSING', '38', '49', '7',\n",
       "       '4', '72', '9', '100', '43', '62', '37', '68', '52', '85', '57',\n",
       "       '39', '28', '48', '110', '65', '105', '140', '31', '90', '2',\n",
       "       '108', '98', '47', '42', '54', '61', '6', '36', '74', '33', '1',\n",
       "       '81', '58', '117', '44', '123', '95', '107', '92', '69', '56',\n",
       "       '82', '41', '78', '97', '88', '53', '101', '84', '83', '73', '66',\n",
       "       '104', '94', '86', '64', '96', '79', '67'], dtype=object)"
      ]
     },
     "execution_count": 78,
     "metadata": {},
     "output_type": "execute_result"
    }
   ],
   "source": [
    "ndf['Tumor_Size'].unique()"
   ]
  },
  {
   "cell_type": "code",
   "execution_count": 79,
   "metadata": {},
   "outputs": [
    {
     "data": {
      "text/plain": [
       "np.int64(206)"
      ]
     },
     "execution_count": 79,
     "metadata": {},
     "output_type": "execute_result"
    }
   ],
   "source": [
    "ndf['Tumor_Size'].isnull().sum()"
   ]
  },
  {
   "cell_type": "code",
   "execution_count": 80,
   "metadata": {},
   "outputs": [
    {
     "data": {
      "text/html": [
       "<div>\n",
       "<style scoped>\n",
       "    .dataframe tbody tr th:only-of-type {\n",
       "        vertical-align: middle;\n",
       "    }\n",
       "\n",
       "    .dataframe tbody tr th {\n",
       "        vertical-align: top;\n",
       "    }\n",
       "\n",
       "    .dataframe thead th {\n",
       "        text-align: right;\n",
       "    }\n",
       "</style>\n",
       "<table border=\"1\" class=\"dataframe\">\n",
       "  <thead>\n",
       "    <tr style=\"text-align: right;\">\n",
       "      <th></th>\n",
       "      <th>Tumor_Size</th>\n",
       "    </tr>\n",
       "  </thead>\n",
       "  <tbody>\n",
       "    <tr>\n",
       "      <th>0</th>\n",
       "      <td>NaN</td>\n",
       "    </tr>\n",
       "    <tr>\n",
       "      <th>1</th>\n",
       "      <td>35.0</td>\n",
       "    </tr>\n",
       "    <tr>\n",
       "      <th>2</th>\n",
       "      <td>63.0</td>\n",
       "    </tr>\n",
       "    <tr>\n",
       "      <th>3</th>\n",
       "      <td>18.0</td>\n",
       "    </tr>\n",
       "    <tr>\n",
       "      <th>4</th>\n",
       "      <td>NaN</td>\n",
       "    </tr>\n",
       "  </tbody>\n",
       "</table>\n",
       "</div>"
      ],
      "text/plain": [
       "   Tumor_Size\n",
       "0         NaN\n",
       "1        35.0\n",
       "2        63.0\n",
       "3        18.0\n",
       "4         NaN"
      ]
     },
     "execution_count": 80,
     "metadata": {},
     "output_type": "execute_result"
    }
   ],
   "source": [
    "ndf['Tumor_Size'] = ndf['Tumor_Size'].replace(['missing', ' MISSING ', ' missing ', 'MISSING', 'nan', ' missing'], np.nan)\n",
    "\n",
    "ndf['Tumor_Size'] = pd.to_numeric(ndf['Tumor_Size'], errors='coerce')\n",
    "\n",
    "ndf[['Tumor_Size']].head()\n"
   ]
  },
  {
   "cell_type": "code",
   "execution_count": 81,
   "metadata": {},
   "outputs": [
    {
     "name": "stdout",
     "output_type": "stream",
     "text": [
      "Mean Tumor Size: 30.386655011655012\n",
      "Mode Tumor Size: 25.0\n",
      "Median Tumor Size: 25.0\n"
     ]
    }
   ],
   "source": [
    "mean_tumor_size = ndf['Tumor_Size'].mean()\n",
    "mode_tumor_size = ndf['Tumor_Size'].mode()[0]  # mode() returns a series, so we take the first element\n",
    "median_tumor_size = ndf['Tumor_Size'].median()\n",
    "\n",
    "print(f\"Mean Tumor Size: {mean_tumor_size}\")\n",
    "print(f\"Mode Tumor Size: {mode_tumor_size}\")\n",
    "print(f\"Median Tumor Size: {median_tumor_size}\")\n"
   ]
  },
  {
   "cell_type": "code",
   "execution_count": 82,
   "metadata": {},
   "outputs": [
    {
     "name": "stderr",
     "output_type": "stream",
     "text": [
      "C:\\Users\\Concept D\\AppData\\Local\\Temp\\ipykernel_5912\\2721835256.py:1: FutureWarning: A value is trying to be set on a copy of a DataFrame or Series through chained assignment using an inplace method.\n",
      "The behavior will change in pandas 3.0. This inplace method will never work because the intermediate object on which we are setting values always behaves as a copy.\n",
      "\n",
      "For example, when doing 'df[col].method(value, inplace=True)', try using 'df.method({col: value}, inplace=True)' or df[col] = df[col].method(value) instead, to perform the operation inplace on the original object.\n",
      "\n",
      "\n",
      "  ndf['Tumor_Size'].fillna(median_tumor_size, inplace=True)\n"
     ]
    },
    {
     "data": {
      "text/html": [
       "<div>\n",
       "<style scoped>\n",
       "    .dataframe tbody tr th:only-of-type {\n",
       "        vertical-align: middle;\n",
       "    }\n",
       "\n",
       "    .dataframe tbody tr th {\n",
       "        vertical-align: top;\n",
       "    }\n",
       "\n",
       "    .dataframe thead th {\n",
       "        text-align: right;\n",
       "    }\n",
       "</style>\n",
       "<table border=\"1\" class=\"dataframe\">\n",
       "  <thead>\n",
       "    <tr style=\"text-align: right;\">\n",
       "      <th></th>\n",
       "      <th>Tumor_Size</th>\n",
       "    </tr>\n",
       "  </thead>\n",
       "  <tbody>\n",
       "    <tr>\n",
       "      <th>0</th>\n",
       "      <td>25.0</td>\n",
       "    </tr>\n",
       "    <tr>\n",
       "      <th>1</th>\n",
       "      <td>35.0</td>\n",
       "    </tr>\n",
       "    <tr>\n",
       "      <th>2</th>\n",
       "      <td>63.0</td>\n",
       "    </tr>\n",
       "    <tr>\n",
       "      <th>3</th>\n",
       "      <td>18.0</td>\n",
       "    </tr>\n",
       "    <tr>\n",
       "      <th>4</th>\n",
       "      <td>25.0</td>\n",
       "    </tr>\n",
       "    <tr>\n",
       "      <th>...</th>\n",
       "      <td>...</td>\n",
       "    </tr>\n",
       "    <tr>\n",
       "      <th>4019</th>\n",
       "      <td>9.0</td>\n",
       "    </tr>\n",
       "    <tr>\n",
       "      <th>4020</th>\n",
       "      <td>46.0</td>\n",
       "    </tr>\n",
       "    <tr>\n",
       "      <th>4021</th>\n",
       "      <td>22.0</td>\n",
       "    </tr>\n",
       "    <tr>\n",
       "      <th>4022</th>\n",
       "      <td>44.0</td>\n",
       "    </tr>\n",
       "    <tr>\n",
       "      <th>4023</th>\n",
       "      <td>30.0</td>\n",
       "    </tr>\n",
       "  </tbody>\n",
       "</table>\n",
       "<p>4024 rows × 1 columns</p>\n",
       "</div>"
      ],
      "text/plain": [
       "      Tumor_Size\n",
       "0           25.0\n",
       "1           35.0\n",
       "2           63.0\n",
       "3           18.0\n",
       "4           25.0\n",
       "...          ...\n",
       "4019         9.0\n",
       "4020        46.0\n",
       "4021        22.0\n",
       "4022        44.0\n",
       "4023        30.0\n",
       "\n",
       "[4024 rows x 1 columns]"
      ]
     },
     "execution_count": 82,
     "metadata": {},
     "output_type": "execute_result"
    }
   ],
   "source": [
    "ndf['Tumor_Size'].fillna(median_tumor_size, inplace=True)\n",
    "\n",
    "ndf[['Tumor_Size']]"
   ]
  },
  {
   "cell_type": "code",
   "execution_count": 83,
   "metadata": {},
   "outputs": [
    {
     "name": "stdout",
     "output_type": "stream",
     "text": [
      "<class 'pandas.core.series.Series'>\n",
      "RangeIndex: 4024 entries, 0 to 4023\n",
      "Series name: Tumor_Size\n",
      "Non-Null Count  Dtype  \n",
      "--------------  -----  \n",
      "4024 non-null   float64\n",
      "dtypes: float64(1)\n",
      "memory usage: 31.6 KB\n"
     ]
    }
   ],
   "source": [
    "ndf['Tumor_Size'].info()"
   ]
  },
  {
   "cell_type": "markdown",
   "metadata": {},
   "source": [
    "#### Estrogen Status\n"
   ]
  },
  {
   "cell_type": "code",
   "execution_count": 84,
   "metadata": {},
   "outputs": [
    {
     "data": {
      "text/plain": [
       "array([' positive ', ' Positive ', 'positive', 'Positive', 'POSITIVE',\n",
       "       ' POSITIVE ', 'negative', 'Negative', nan, ' NEGATIVE ',\n",
       "       'NEGATIVE', ' Negative ', ' negative '], dtype=object)"
      ]
     },
     "execution_count": 84,
     "metadata": {},
     "output_type": "execute_result"
    }
   ],
   "source": [
    "ndf['Estrogen_Status'].unique()"
   ]
  },
  {
   "cell_type": "code",
   "execution_count": 85,
   "metadata": {},
   "outputs": [
    {
     "data": {
      "text/plain": [
       "array(['POSITIVE', 'NEGATIVE', nan], dtype=object)"
      ]
     },
     "execution_count": 85,
     "metadata": {},
     "output_type": "execute_result"
    }
   ],
   "source": [
    "ndf['Estrogen_Status'] = ndf['Estrogen_Status'].str.strip().str.upper()\n",
    "\n",
    "ndf['Estrogen_Status'].unique()"
   ]
  },
  {
   "cell_type": "code",
   "execution_count": 86,
   "metadata": {},
   "outputs": [
    {
     "data": {
      "text/plain": [
       "Estrogen_Status\n",
       "POSITIVE    3574\n",
       "NEGATIVE     257\n",
       "NaN          193\n",
       "Name: count, dtype: int64"
      ]
     },
     "execution_count": 86,
     "metadata": {},
     "output_type": "execute_result"
    }
   ],
   "source": [
    "Estrogen_Status_frequency = ndf['Estrogen_Status'].value_counts(dropna=False)\n",
    "\n",
    "Estrogen_Status_frequency"
   ]
  },
  {
   "cell_type": "code",
   "execution_count": 87,
   "metadata": {},
   "outputs": [
    {
     "name": "stderr",
     "output_type": "stream",
     "text": [
      "C:\\Users\\Concept D\\AppData\\Local\\Temp\\ipykernel_5912\\2449801190.py:1: FutureWarning: A value is trying to be set on a copy of a DataFrame or Series through chained assignment using an inplace method.\n",
      "The behavior will change in pandas 3.0. This inplace method will never work because the intermediate object on which we are setting values always behaves as a copy.\n",
      "\n",
      "For example, when doing 'df[col].method(value, inplace=True)', try using 'df.method({col: value}, inplace=True)' or df[col] = df[col].method(value) instead, to perform the operation inplace on the original object.\n",
      "\n",
      "\n",
      "  ndf['Estrogen_Status'].fillna('POSITIVE', inplace=True)\n"
     ]
    },
    {
     "data": {
      "text/plain": [
       "Estrogen_Status\n",
       "POSITIVE    3767\n",
       "NEGATIVE     257\n",
       "Name: count, dtype: int64"
      ]
     },
     "execution_count": 87,
     "metadata": {},
     "output_type": "execute_result"
    }
   ],
   "source": [
    "ndf['Estrogen_Status'].fillna('POSITIVE', inplace=True)\n",
    "Estrogen_Status_frequency = ndf['Estrogen_Status'].value_counts(dropna=False)\n",
    "\n",
    "Estrogen_Status_frequency"
   ]
  },
  {
   "cell_type": "code",
   "execution_count": 88,
   "metadata": {},
   "outputs": [
    {
     "name": "stderr",
     "output_type": "stream",
     "text": [
      "C:\\Users\\Concept D\\AppData\\Local\\Temp\\ipykernel_5912\\160973338.py:1: FutureWarning: Downcasting behavior in `replace` is deprecated and will be removed in a future version. To retain the old behavior, explicitly call `result.infer_objects(copy=False)`. To opt-in to the future behavior, set `pd.set_option('future.no_silent_downcasting', True)`\n",
      "  ndf['Estrogen_Status'] = ndf['Estrogen_Status'].replace({\n"
     ]
    }
   ],
   "source": [
    "ndf['Estrogen_Status'] = ndf['Estrogen_Status'].replace({\n",
    "    'NEGATIVE': 0,\n",
    "    'POSITIVE': 1\n",
    "    \n",
    "})\n",
    "ndf['Estrogen_Status'] = pd.to_numeric(ndf['Estrogen_Status'], errors='coerce')"
   ]
  },
  {
   "cell_type": "code",
   "execution_count": 89,
   "metadata": {},
   "outputs": [
    {
     "name": "stdout",
     "output_type": "stream",
     "text": [
      "<class 'pandas.core.series.Series'>\n",
      "RangeIndex: 4024 entries, 0 to 4023\n",
      "Series name: Estrogen_Status\n",
      "Non-Null Count  Dtype\n",
      "--------------  -----\n",
      "4024 non-null   int64\n",
      "dtypes: int64(1)\n",
      "memory usage: 31.6 KB\n"
     ]
    }
   ],
   "source": [
    "ndf['Estrogen_Status'].info()"
   ]
  },
  {
   "cell_type": "markdown",
   "metadata": {},
   "source": [
    "#### Progesterone_Status \n"
   ]
  },
  {
   "cell_type": "code",
   "execution_count": 90,
   "metadata": {},
   "outputs": [
    {
     "data": {
      "text/plain": [
       "array([' positive ', ' Positive ', nan, 'POSITIVE', ' POSITIVE ',\n",
       "       'positive', 'Positive', ' Negative ', 'Negative', 'negative',\n",
       "       ' NEGATIVE ', ' negative ', 'NEGATIVE'], dtype=object)"
      ]
     },
     "execution_count": 90,
     "metadata": {},
     "output_type": "execute_result"
    }
   ],
   "source": [
    "ndf['Progesterone_Status'].unique()\n"
   ]
  },
  {
   "cell_type": "code",
   "execution_count": 91,
   "metadata": {},
   "outputs": [
    {
     "data": {
      "text/plain": [
       "array(['POSITIVE', nan, 'NEGATIVE'], dtype=object)"
      ]
     },
     "execution_count": 91,
     "metadata": {},
     "output_type": "execute_result"
    }
   ],
   "source": [
    "ndf['Progesterone_Status'] = ndf['Progesterone_Status'].str.strip().str.upper()\n",
    "\n",
    "ndf['Progesterone_Status'].unique()"
   ]
  },
  {
   "cell_type": "code",
   "execution_count": 92,
   "metadata": {},
   "outputs": [
    {
     "data": {
      "text/plain": [
       "Progesterone_Status\n",
       "POSITIVE    3141\n",
       "NEGATIVE     664\n",
       "NaN          219\n",
       "Name: count, dtype: int64"
      ]
     },
     "execution_count": 92,
     "metadata": {},
     "output_type": "execute_result"
    }
   ],
   "source": [
    "Progesterone_Status_frequency = ndf['Progesterone_Status'].value_counts(dropna=False)\n",
    "\n",
    "Progesterone_Status_frequency"
   ]
  },
  {
   "cell_type": "code",
   "execution_count": 93,
   "metadata": {},
   "outputs": [
    {
     "name": "stderr",
     "output_type": "stream",
     "text": [
      "C:\\Users\\Concept D\\AppData\\Local\\Temp\\ipykernel_5912\\1606662864.py:1: FutureWarning: A value is trying to be set on a copy of a DataFrame or Series through chained assignment using an inplace method.\n",
      "The behavior will change in pandas 3.0. This inplace method will never work because the intermediate object on which we are setting values always behaves as a copy.\n",
      "\n",
      "For example, when doing 'df[col].method(value, inplace=True)', try using 'df.method({col: value}, inplace=True)' or df[col] = df[col].method(value) instead, to perform the operation inplace on the original object.\n",
      "\n",
      "\n",
      "  ndf['Progesterone_Status'].fillna('POSITIVE', inplace=True)\n"
     ]
    },
    {
     "data": {
      "text/plain": [
       "Progesterone_Status\n",
       "POSITIVE    3360\n",
       "NEGATIVE     664\n",
       "Name: count, dtype: int64"
      ]
     },
     "execution_count": 93,
     "metadata": {},
     "output_type": "execute_result"
    }
   ],
   "source": [
    "ndf['Progesterone_Status'].fillna('POSITIVE', inplace=True)\n",
    "Progesterone_Status_frequency = ndf['Progesterone_Status'].value_counts(dropna=False)\n",
    "\n",
    "Progesterone_Status_frequency"
   ]
  },
  {
   "cell_type": "code",
   "execution_count": 94,
   "metadata": {},
   "outputs": [
    {
     "name": "stdout",
     "output_type": "stream",
     "text": [
      "<class 'pandas.core.frame.DataFrame'>\n",
      "RangeIndex: 4024 entries, 0 to 4023\n",
      "Data columns (total 25 columns):\n",
      " #   Column                               Non-Null Count  Dtype  \n",
      "---  ------                               --------------  -----  \n",
      " 0   Age                                  4024 non-null   float64\n",
      " 1   T_Stage_                             4024 non-null   int64  \n",
      " 2   N_Stage                              4024 non-null   int64  \n",
      " 3   6th_Stage                            4024 non-null   int64  \n",
      " 4   Grade                                4024 non-null   int64  \n",
      " 5   Tumor_Size                           4024 non-null   float64\n",
      " 6   Estrogen_Status                      4024 non-null   int64  \n",
      " 7   Progesterone_Status                  4024 non-null   object \n",
      " 8   Regional_Node_Examined               3807 non-null   object \n",
      " 9   Reginol_Node_Positive                3817 non-null   object \n",
      " 10  Survival_Months                      3798 non-null   object \n",
      " 11  Status                               4024 non-null   object \n",
      " 12  Race_Black                           4024 non-null   int64  \n",
      " 13  Race_Other                           4024 non-null   int64  \n",
      " 14  Race_White                           4024 non-null   int64  \n",
      " 15  Marital_Status_divorced              4024 non-null   int64  \n",
      " 16  Marital_Status_married               4024 non-null   int64  \n",
      " 17  Marital_Status_separated             4024 non-null   int64  \n",
      " 18  Marital_Status_single                4024 non-null   int64  \n",
      " 19  Marital_Status_widowed               4024 non-null   int64  \n",
      " 20  differentiate_POORLY DIFFERENTIATED  4024 non-null   int64  \n",
      " 21  differentiate_UNDIFFERENTIATED       4024 non-null   int64  \n",
      " 22  differentiate_WELL DIFFERENTIATED    4024 non-null   int64  \n",
      " 23  A_Stage_DISTANT                      4024 non-null   int64  \n",
      " 24  A_Stage_REGIONAL                     4024 non-null   int64  \n",
      "dtypes: float64(2), int64(18), object(5)\n",
      "memory usage: 786.1+ KB\n"
     ]
    }
   ],
   "source": [
    "ndf.info()"
   ]
  },
  {
   "cell_type": "code",
   "execution_count": 95,
   "metadata": {},
   "outputs": [
    {
     "name": "stderr",
     "output_type": "stream",
     "text": [
      "C:\\Users\\Concept D\\AppData\\Local\\Temp\\ipykernel_5912\\1402822608.py:1: FutureWarning: Downcasting behavior in `replace` is deprecated and will be removed in a future version. To retain the old behavior, explicitly call `result.infer_objects(copy=False)`. To opt-in to the future behavior, set `pd.set_option('future.no_silent_downcasting', True)`\n",
      "  ndf['Progesterone_Status'] = ndf['Progesterone_Status'].replace({\n"
     ]
    }
   ],
   "source": [
    "ndf['Progesterone_Status'] = ndf['Progesterone_Status'].replace({\n",
    "    'NEGATIVE': 0,\n",
    "    'POSITIVE': 1\n",
    "    \n",
    "})\n",
    "ndf['Progesterone_Status'] = pd.to_numeric(ndf['Progesterone_Status'], errors='coerce')"
   ]
  },
  {
   "cell_type": "code",
   "execution_count": 96,
   "metadata": {},
   "outputs": [
    {
     "name": "stdout",
     "output_type": "stream",
     "text": [
      "<class 'pandas.core.series.Series'>\n",
      "RangeIndex: 4024 entries, 0 to 4023\n",
      "Series name: Progesterone_Status\n",
      "Non-Null Count  Dtype\n",
      "--------------  -----\n",
      "4024 non-null   int64\n",
      "dtypes: int64(1)\n",
      "memory usage: 31.6 KB\n"
     ]
    }
   ],
   "source": [
    "ndf['Progesterone_Status'].info() \n"
   ]
  },
  {
   "cell_type": "markdown",
   "metadata": {},
   "source": [
    "#### Reginol Node Examined"
   ]
  },
  {
   "cell_type": "code",
   "execution_count": 97,
   "metadata": {},
   "outputs": [
    {
     "data": {
      "text/plain": [
       "array(['24', '14', '2', 'MISSING', '18', '11', '9', '20', '21', 'missing',\n",
       "       '13', '23', '16', '22', ' missing ', '15', '4', '26', '31', '25',\n",
       "       '10', '3', '5', '6', '19', '12', nan, '8', '17', '7', '49', '1',\n",
       "       '33', '30', '34', '28', '32', '27', '42', '29', ' MISSING ', '41',\n",
       "       '39', '40', '38', '47', '54', '36', '61', '37', '35', '43', '52',\n",
       "       '45', '57', '51', '60'], dtype=object)"
      ]
     },
     "execution_count": 97,
     "metadata": {},
     "output_type": "execute_result"
    }
   ],
   "source": [
    "ndf['Regional_Node_Examined'].unique()"
   ]
  },
  {
   "cell_type": "code",
   "execution_count": 98,
   "metadata": {},
   "outputs": [
    {
     "data": {
      "text/plain": [
       "np.int64(217)"
      ]
     },
     "execution_count": 98,
     "metadata": {},
     "output_type": "execute_result"
    }
   ],
   "source": [
    "ndf['Regional_Node_Examined'].isnull().sum()"
   ]
  },
  {
   "cell_type": "code",
   "execution_count": 99,
   "metadata": {},
   "outputs": [
    {
     "data": {
      "text/html": [
       "<div>\n",
       "<style scoped>\n",
       "    .dataframe tbody tr th:only-of-type {\n",
       "        vertical-align: middle;\n",
       "    }\n",
       "\n",
       "    .dataframe tbody tr th {\n",
       "        vertical-align: top;\n",
       "    }\n",
       "\n",
       "    .dataframe thead th {\n",
       "        text-align: right;\n",
       "    }\n",
       "</style>\n",
       "<table border=\"1\" class=\"dataframe\">\n",
       "  <thead>\n",
       "    <tr style=\"text-align: right;\">\n",
       "      <th></th>\n",
       "      <th>Regional_Node_Examined</th>\n",
       "    </tr>\n",
       "  </thead>\n",
       "  <tbody>\n",
       "    <tr>\n",
       "      <th>0</th>\n",
       "      <td>24.0</td>\n",
       "    </tr>\n",
       "    <tr>\n",
       "      <th>1</th>\n",
       "      <td>14.0</td>\n",
       "    </tr>\n",
       "    <tr>\n",
       "      <th>2</th>\n",
       "      <td>14.0</td>\n",
       "    </tr>\n",
       "    <tr>\n",
       "      <th>3</th>\n",
       "      <td>2.0</td>\n",
       "    </tr>\n",
       "    <tr>\n",
       "      <th>4</th>\n",
       "      <td>NaN</td>\n",
       "    </tr>\n",
       "  </tbody>\n",
       "</table>\n",
       "</div>"
      ],
      "text/plain": [
       "   Regional_Node_Examined\n",
       "0                    24.0\n",
       "1                    14.0\n",
       "2                    14.0\n",
       "3                     2.0\n",
       "4                     NaN"
      ]
     },
     "execution_count": 99,
     "metadata": {},
     "output_type": "execute_result"
    }
   ],
   "source": [
    "ndf['Regional_Node_Examined'] = ndf['Regional_Node_Examined'].replace(['missing', ' MISSING ', ' missing ', 'MISSING', 'nan', ' missing'], np.nan)\n",
    "\n",
    "ndf['Regional_Node_Examined'] = pd.to_numeric(ndf['Regional_Node_Examined'], errors='coerce')\n",
    "\n",
    "ndf[['Regional_Node_Examined']].head()\n"
   ]
  },
  {
   "cell_type": "code",
   "execution_count": 100,
   "metadata": {},
   "outputs": [
    {
     "data": {
      "text/plain": [
       "array([24., 14.,  2., nan, 18., 11.,  9., 20., 21., 13., 23., 16., 22.,\n",
       "       15.,  4., 26., 31., 25., 10.,  3.,  5.,  6., 19., 12.,  8., 17.,\n",
       "        7., 49.,  1., 33., 30., 34., 28., 32., 27., 42., 29., 41., 39.,\n",
       "       40., 38., 47., 54., 36., 61., 37., 35., 43., 52., 45., 57., 51.,\n",
       "       60.])"
      ]
     },
     "execution_count": 100,
     "metadata": {},
     "output_type": "execute_result"
    }
   ],
   "source": [
    "ndf['Regional_Node_Examined'].unique()"
   ]
  },
  {
   "cell_type": "code",
   "execution_count": 101,
   "metadata": {},
   "outputs": [
    {
     "name": "stdout",
     "output_type": "stream",
     "text": [
      "Mean = Size: 14.453376205787782\n",
      "Mode  Size: 13.0\n",
      "Median  Size: 14.0\n"
     ]
    }
   ],
   "source": [
    "mean_Regional_Node_Examined = ndf['Regional_Node_Examined'].mean()\n",
    "mode_Regional_Node_Examined = ndf['Regional_Node_Examined'].mode()[0]  # mode() returns a series, so we take the first element\n",
    "median_Regional_Node_Examined = ndf['Regional_Node_Examined'].median()\n",
    "\n",
    "print(f\"Mean = Size: {mean_Regional_Node_Examined}\")\n",
    "print(f\"Mode  Size: {mode_Regional_Node_Examined}\")\n",
    "print(f\"Median  Size: {median_Regional_Node_Examined}\")\n"
   ]
  },
  {
   "cell_type": "code",
   "execution_count": 102,
   "metadata": {},
   "outputs": [
    {
     "name": "stderr",
     "output_type": "stream",
     "text": [
      "C:\\Users\\Concept D\\AppData\\Local\\Temp\\ipykernel_5912\\706916573.py:1: FutureWarning: A value is trying to be set on a copy of a DataFrame or Series through chained assignment using an inplace method.\n",
      "The behavior will change in pandas 3.0. This inplace method will never work because the intermediate object on which we are setting values always behaves as a copy.\n",
      "\n",
      "For example, when doing 'df[col].method(value, inplace=True)', try using 'df.method({col: value}, inplace=True)' or df[col] = df[col].method(value) instead, to perform the operation inplace on the original object.\n",
      "\n",
      "\n",
      "  ndf['Regional_Node_Examined'].fillna(median_Regional_Node_Examined, inplace=True)\n"
     ]
    },
    {
     "data": {
      "text/html": [
       "<div>\n",
       "<style scoped>\n",
       "    .dataframe tbody tr th:only-of-type {\n",
       "        vertical-align: middle;\n",
       "    }\n",
       "\n",
       "    .dataframe tbody tr th {\n",
       "        vertical-align: top;\n",
       "    }\n",
       "\n",
       "    .dataframe thead th {\n",
       "        text-align: right;\n",
       "    }\n",
       "</style>\n",
       "<table border=\"1\" class=\"dataframe\">\n",
       "  <thead>\n",
       "    <tr style=\"text-align: right;\">\n",
       "      <th></th>\n",
       "      <th>Regional_Node_Examined</th>\n",
       "    </tr>\n",
       "  </thead>\n",
       "  <tbody>\n",
       "    <tr>\n",
       "      <th>0</th>\n",
       "      <td>24.0</td>\n",
       "    </tr>\n",
       "    <tr>\n",
       "      <th>1</th>\n",
       "      <td>14.0</td>\n",
       "    </tr>\n",
       "    <tr>\n",
       "      <th>2</th>\n",
       "      <td>14.0</td>\n",
       "    </tr>\n",
       "    <tr>\n",
       "      <th>3</th>\n",
       "      <td>2.0</td>\n",
       "    </tr>\n",
       "    <tr>\n",
       "      <th>4</th>\n",
       "      <td>14.0</td>\n",
       "    </tr>\n",
       "    <tr>\n",
       "      <th>...</th>\n",
       "      <td>...</td>\n",
       "    </tr>\n",
       "    <tr>\n",
       "      <th>4019</th>\n",
       "      <td>1.0</td>\n",
       "    </tr>\n",
       "    <tr>\n",
       "      <th>4020</th>\n",
       "      <td>14.0</td>\n",
       "    </tr>\n",
       "    <tr>\n",
       "      <th>4021</th>\n",
       "      <td>11.0</td>\n",
       "    </tr>\n",
       "    <tr>\n",
       "      <th>4022</th>\n",
       "      <td>11.0</td>\n",
       "    </tr>\n",
       "    <tr>\n",
       "      <th>4023</th>\n",
       "      <td>14.0</td>\n",
       "    </tr>\n",
       "  </tbody>\n",
       "</table>\n",
       "<p>4024 rows × 1 columns</p>\n",
       "</div>"
      ],
      "text/plain": [
       "      Regional_Node_Examined\n",
       "0                       24.0\n",
       "1                       14.0\n",
       "2                       14.0\n",
       "3                        2.0\n",
       "4                       14.0\n",
       "...                      ...\n",
       "4019                     1.0\n",
       "4020                    14.0\n",
       "4021                    11.0\n",
       "4022                    11.0\n",
       "4023                    14.0\n",
       "\n",
       "[4024 rows x 1 columns]"
      ]
     },
     "execution_count": 102,
     "metadata": {},
     "output_type": "execute_result"
    }
   ],
   "source": [
    "ndf['Regional_Node_Examined'].fillna(median_Regional_Node_Examined, inplace=True)\n",
    "\n",
    "ndf[['Regional_Node_Examined']]\n"
   ]
  },
  {
   "cell_type": "code",
   "execution_count": 103,
   "metadata": {},
   "outputs": [
    {
     "name": "stdout",
     "output_type": "stream",
     "text": [
      "<class 'pandas.core.frame.DataFrame'>\n",
      "RangeIndex: 4024 entries, 0 to 4023\n",
      "Data columns (total 25 columns):\n",
      " #   Column                               Non-Null Count  Dtype  \n",
      "---  ------                               --------------  -----  \n",
      " 0   Age                                  4024 non-null   float64\n",
      " 1   T_Stage_                             4024 non-null   int64  \n",
      " 2   N_Stage                              4024 non-null   int64  \n",
      " 3   6th_Stage                            4024 non-null   int64  \n",
      " 4   Grade                                4024 non-null   int64  \n",
      " 5   Tumor_Size                           4024 non-null   float64\n",
      " 6   Estrogen_Status                      4024 non-null   int64  \n",
      " 7   Progesterone_Status                  4024 non-null   int64  \n",
      " 8   Regional_Node_Examined               4024 non-null   float64\n",
      " 9   Reginol_Node_Positive                3817 non-null   object \n",
      " 10  Survival_Months                      3798 non-null   object \n",
      " 11  Status                               4024 non-null   object \n",
      " 12  Race_Black                           4024 non-null   int64  \n",
      " 13  Race_Other                           4024 non-null   int64  \n",
      " 14  Race_White                           4024 non-null   int64  \n",
      " 15  Marital_Status_divorced              4024 non-null   int64  \n",
      " 16  Marital_Status_married               4024 non-null   int64  \n",
      " 17  Marital_Status_separated             4024 non-null   int64  \n",
      " 18  Marital_Status_single                4024 non-null   int64  \n",
      " 19  Marital_Status_widowed               4024 non-null   int64  \n",
      " 20  differentiate_POORLY DIFFERENTIATED  4024 non-null   int64  \n",
      " 21  differentiate_UNDIFFERENTIATED       4024 non-null   int64  \n",
      " 22  differentiate_WELL DIFFERENTIATED    4024 non-null   int64  \n",
      " 23  A_Stage_DISTANT                      4024 non-null   int64  \n",
      " 24  A_Stage_REGIONAL                     4024 non-null   int64  \n",
      "dtypes: float64(3), int64(19), object(3)\n",
      "memory usage: 786.1+ KB\n"
     ]
    }
   ],
   "source": [
    "ndf.info()"
   ]
  },
  {
   "cell_type": "markdown",
   "metadata": {},
   "source": [
    "#### Reginol_Node_Positive"
   ]
  },
  {
   "cell_type": "code",
   "execution_count": 104,
   "metadata": {},
   "outputs": [
    {
     "data": {
      "text/plain": [
       "array(['1', nan, '2', 'MISSING', '18', '12', ' MISSING ', '3', '7', '14',\n",
       "       ' missing ', 'missing', '22', '17', '23', '4', '6', '5', '9', '20',\n",
       "       '16', '13', '11', '24', '10', '8', '27', '21', '26', '15', '19',\n",
       "       '28', '31', '46', '33', '29', '37', '30', '35', '25', '32', '41',\n",
       "       '34'], dtype=object)"
      ]
     },
     "execution_count": 104,
     "metadata": {},
     "output_type": "execute_result"
    }
   ],
   "source": [
    "ndf['Reginol_Node_Positive'].unique()"
   ]
  },
  {
   "cell_type": "code",
   "execution_count": 105,
   "metadata": {},
   "outputs": [
    {
     "data": {
      "text/plain": [
       "np.int64(207)"
      ]
     },
     "execution_count": 105,
     "metadata": {},
     "output_type": "execute_result"
    }
   ],
   "source": [
    "ndf['Reginol_Node_Positive'].isnull().sum()"
   ]
  },
  {
   "cell_type": "code",
   "execution_count": 106,
   "metadata": {},
   "outputs": [
    {
     "data": {
      "text/html": [
       "<div>\n",
       "<style scoped>\n",
       "    .dataframe tbody tr th:only-of-type {\n",
       "        vertical-align: middle;\n",
       "    }\n",
       "\n",
       "    .dataframe tbody tr th {\n",
       "        vertical-align: top;\n",
       "    }\n",
       "\n",
       "    .dataframe thead th {\n",
       "        text-align: right;\n",
       "    }\n",
       "</style>\n",
       "<table border=\"1\" class=\"dataframe\">\n",
       "  <thead>\n",
       "    <tr style=\"text-align: right;\">\n",
       "      <th></th>\n",
       "      <th>Reginol_Node_Positive</th>\n",
       "    </tr>\n",
       "  </thead>\n",
       "  <tbody>\n",
       "    <tr>\n",
       "      <th>0</th>\n",
       "      <td>1.0</td>\n",
       "    </tr>\n",
       "    <tr>\n",
       "      <th>1</th>\n",
       "      <td>NaN</td>\n",
       "    </tr>\n",
       "    <tr>\n",
       "      <th>2</th>\n",
       "      <td>NaN</td>\n",
       "    </tr>\n",
       "    <tr>\n",
       "      <th>3</th>\n",
       "      <td>1.0</td>\n",
       "    </tr>\n",
       "    <tr>\n",
       "      <th>4</th>\n",
       "      <td>1.0</td>\n",
       "    </tr>\n",
       "  </tbody>\n",
       "</table>\n",
       "</div>"
      ],
      "text/plain": [
       "   Reginol_Node_Positive\n",
       "0                    1.0\n",
       "1                    NaN\n",
       "2                    NaN\n",
       "3                    1.0\n",
       "4                    1.0"
      ]
     },
     "execution_count": 106,
     "metadata": {},
     "output_type": "execute_result"
    }
   ],
   "source": [
    "ndf['Reginol_Node_Positive'] = ndf['Reginol_Node_Positive'].replace(['missing', ' MISSING ', ' missing ', 'MISSING', 'nan', ' missing'], np.nan)\n",
    "\n",
    "ndf['Reginol_Node_Positive'] = pd.to_numeric(ndf['Reginol_Node_Positive'], errors='coerce')\n",
    "\n",
    "ndf[['Reginol_Node_Positive']].head()\n"
   ]
  },
  {
   "cell_type": "code",
   "execution_count": 107,
   "metadata": {},
   "outputs": [
    {
     "data": {
      "text/plain": [
       "np.int64(612)"
      ]
     },
     "execution_count": 107,
     "metadata": {},
     "output_type": "execute_result"
    }
   ],
   "source": [
    "ndf['Reginol_Node_Positive'].isnull().sum()"
   ]
  },
  {
   "cell_type": "code",
   "execution_count": 108,
   "metadata": {},
   "outputs": [
    {
     "data": {
      "text/plain": [
       "array([ 1., nan,  2., 18., 12.,  3.,  7., 14., 22., 17., 23.,  4.,  6.,\n",
       "        5.,  9., 20., 16., 13., 11., 24., 10.,  8., 27., 21., 26., 15.,\n",
       "       19., 28., 31., 46., 33., 29., 37., 30., 35., 25., 32., 41., 34.])"
      ]
     },
     "execution_count": 108,
     "metadata": {},
     "output_type": "execute_result"
    }
   ],
   "source": [
    "ndf['Reginol_Node_Positive'].unique()"
   ]
  },
  {
   "cell_type": "code",
   "execution_count": 109,
   "metadata": {},
   "outputs": [
    {
     "name": "stdout",
     "output_type": "stream",
     "text": [
      "Mean = Size: 4.168815943728019\n",
      "Mode  Size: 1.0\n",
      "Median  Size: 2.0\n"
     ]
    }
   ],
   "source": [
    "mean_Reginol_Node_Positive = ndf['Reginol_Node_Positive'].mean()\n",
    "mode_Reginol_Node_Positive= ndf['Reginol_Node_Positive'].mode()[0]  # mode() returns a series, so we take the first element\n",
    "median_Reginol_Node_Positive= ndf['Reginol_Node_Positive'].median()\n",
    "\n",
    "print(f\"Mean = Size: {mean_Reginol_Node_Positive}\")\n",
    "print(f\"Mode  Size: {mode_Reginol_Node_Positive}\")\n",
    "print(f\"Median  Size: {median_Reginol_Node_Positive}\")\n"
   ]
  },
  {
   "cell_type": "code",
   "execution_count": 110,
   "metadata": {},
   "outputs": [
    {
     "name": "stderr",
     "output_type": "stream",
     "text": [
      "C:\\Users\\Concept D\\AppData\\Local\\Temp\\ipykernel_5912\\3900529205.py:1: FutureWarning: A value is trying to be set on a copy of a DataFrame or Series through chained assignment using an inplace method.\n",
      "The behavior will change in pandas 3.0. This inplace method will never work because the intermediate object on which we are setting values always behaves as a copy.\n",
      "\n",
      "For example, when doing 'df[col].method(value, inplace=True)', try using 'df.method({col: value}, inplace=True)' or df[col] = df[col].method(value) instead, to perform the operation inplace on the original object.\n",
      "\n",
      "\n",
      "  ndf['Reginol_Node_Positive'].fillna(median_Reginol_Node_Positive, inplace=True)\n"
     ]
    },
    {
     "data": {
      "text/html": [
       "<div>\n",
       "<style scoped>\n",
       "    .dataframe tbody tr th:only-of-type {\n",
       "        vertical-align: middle;\n",
       "    }\n",
       "\n",
       "    .dataframe tbody tr th {\n",
       "        vertical-align: top;\n",
       "    }\n",
       "\n",
       "    .dataframe thead th {\n",
       "        text-align: right;\n",
       "    }\n",
       "</style>\n",
       "<table border=\"1\" class=\"dataframe\">\n",
       "  <thead>\n",
       "    <tr style=\"text-align: right;\">\n",
       "      <th></th>\n",
       "      <th>Reginol_Node_Positive</th>\n",
       "    </tr>\n",
       "  </thead>\n",
       "  <tbody>\n",
       "    <tr>\n",
       "      <th>0</th>\n",
       "      <td>1.0</td>\n",
       "    </tr>\n",
       "    <tr>\n",
       "      <th>1</th>\n",
       "      <td>2.0</td>\n",
       "    </tr>\n",
       "    <tr>\n",
       "      <th>2</th>\n",
       "      <td>2.0</td>\n",
       "    </tr>\n",
       "    <tr>\n",
       "      <th>3</th>\n",
       "      <td>1.0</td>\n",
       "    </tr>\n",
       "    <tr>\n",
       "      <th>4</th>\n",
       "      <td>1.0</td>\n",
       "    </tr>\n",
       "    <tr>\n",
       "      <th>...</th>\n",
       "      <td>...</td>\n",
       "    </tr>\n",
       "    <tr>\n",
       "      <th>4019</th>\n",
       "      <td>1.0</td>\n",
       "    </tr>\n",
       "    <tr>\n",
       "      <th>4020</th>\n",
       "      <td>8.0</td>\n",
       "    </tr>\n",
       "    <tr>\n",
       "      <th>4021</th>\n",
       "      <td>3.0</td>\n",
       "    </tr>\n",
       "    <tr>\n",
       "      <th>4022</th>\n",
       "      <td>1.0</td>\n",
       "    </tr>\n",
       "    <tr>\n",
       "      <th>4023</th>\n",
       "      <td>2.0</td>\n",
       "    </tr>\n",
       "  </tbody>\n",
       "</table>\n",
       "<p>4024 rows × 1 columns</p>\n",
       "</div>"
      ],
      "text/plain": [
       "      Reginol_Node_Positive\n",
       "0                       1.0\n",
       "1                       2.0\n",
       "2                       2.0\n",
       "3                       1.0\n",
       "4                       1.0\n",
       "...                     ...\n",
       "4019                    1.0\n",
       "4020                    8.0\n",
       "4021                    3.0\n",
       "4022                    1.0\n",
       "4023                    2.0\n",
       "\n",
       "[4024 rows x 1 columns]"
      ]
     },
     "execution_count": 110,
     "metadata": {},
     "output_type": "execute_result"
    }
   ],
   "source": [
    "ndf['Reginol_Node_Positive'].fillna(median_Reginol_Node_Positive, inplace=True)\n",
    "\n",
    "ndf[['Reginol_Node_Positive']]\n"
   ]
  },
  {
   "cell_type": "code",
   "execution_count": 111,
   "metadata": {},
   "outputs": [
    {
     "data": {
      "text/plain": [
       "array([ 1.,  2., 18., 12.,  3.,  7., 14., 22., 17., 23.,  4.,  6.,  5.,\n",
       "        9., 20., 16., 13., 11., 24., 10.,  8., 27., 21., 26., 15., 19.,\n",
       "       28., 31., 46., 33., 29., 37., 30., 35., 25., 32., 41., 34.])"
      ]
     },
     "execution_count": 111,
     "metadata": {},
     "output_type": "execute_result"
    }
   ],
   "source": [
    "ndf['Reginol_Node_Positive'].unique()"
   ]
  },
  {
   "cell_type": "code",
   "execution_count": 112,
   "metadata": {},
   "outputs": [
    {
     "name": "stdout",
     "output_type": "stream",
     "text": [
      "<class 'pandas.core.frame.DataFrame'>\n",
      "RangeIndex: 4024 entries, 0 to 4023\n",
      "Data columns (total 25 columns):\n",
      " #   Column                               Non-Null Count  Dtype  \n",
      "---  ------                               --------------  -----  \n",
      " 0   Age                                  4024 non-null   float64\n",
      " 1   T_Stage_                             4024 non-null   int64  \n",
      " 2   N_Stage                              4024 non-null   int64  \n",
      " 3   6th_Stage                            4024 non-null   int64  \n",
      " 4   Grade                                4024 non-null   int64  \n",
      " 5   Tumor_Size                           4024 non-null   float64\n",
      " 6   Estrogen_Status                      4024 non-null   int64  \n",
      " 7   Progesterone_Status                  4024 non-null   int64  \n",
      " 8   Regional_Node_Examined               4024 non-null   float64\n",
      " 9   Reginol_Node_Positive                4024 non-null   float64\n",
      " 10  Survival_Months                      3798 non-null   object \n",
      " 11  Status                               4024 non-null   object \n",
      " 12  Race_Black                           4024 non-null   int64  \n",
      " 13  Race_Other                           4024 non-null   int64  \n",
      " 14  Race_White                           4024 non-null   int64  \n",
      " 15  Marital_Status_divorced              4024 non-null   int64  \n",
      " 16  Marital_Status_married               4024 non-null   int64  \n",
      " 17  Marital_Status_separated             4024 non-null   int64  \n",
      " 18  Marital_Status_single                4024 non-null   int64  \n",
      " 19  Marital_Status_widowed               4024 non-null   int64  \n",
      " 20  differentiate_POORLY DIFFERENTIATED  4024 non-null   int64  \n",
      " 21  differentiate_UNDIFFERENTIATED       4024 non-null   int64  \n",
      " 22  differentiate_WELL DIFFERENTIATED    4024 non-null   int64  \n",
      " 23  A_Stage_DISTANT                      4024 non-null   int64  \n",
      " 24  A_Stage_REGIONAL                     4024 non-null   int64  \n",
      "dtypes: float64(4), int64(19), object(2)\n",
      "memory usage: 786.1+ KB\n"
     ]
    }
   ],
   "source": [
    "ndf.info()"
   ]
  },
  {
   "cell_type": "markdown",
   "metadata": {},
   "source": [
    "#### Survival Months\n"
   ]
  },
  {
   "cell_type": "code",
   "execution_count": 113,
   "metadata": {},
   "outputs": [
    {
     "data": {
      "text/plain": [
       "array(['MISSING', '62', '75', '84', '50', '89', '54', '14', '70',\n",
       "       ' missing ', '64', '92', '56', '38', '49', '105', '107', '77',\n",
       "       'missing', '78', nan, '98', '102', '82', '86', '52', '90', '37',\n",
       "       '103', ' MISSING ', '42', '63', '39', '59', '71', '74', '73', '91',\n",
       "       '106', '60', '44', '85', '79', '104', '12', '95', '81', '55', '65',\n",
       "       '72', '57', '40', '25', '8', '53', '58', '24', '66', '93', '94',\n",
       "       '100', '87', '41', '67', '69', '101', '51', '13', '11', '47', '23',\n",
       "       '45', '68', '15', '31', '76', '16', '99', '96', '7', '61', '48',\n",
       "       '88', '97', '80', '83', '3', '22', '30', '6', '9', '5', '10', '19',\n",
       "       '34', '18', '35', '27', '36', '4', '33', '26', '20', '28', '43',\n",
       "       '17', '29', '21', '2', '46', '32'], dtype=object)"
      ]
     },
     "execution_count": 113,
     "metadata": {},
     "output_type": "execute_result"
    }
   ],
   "source": [
    "ndf['Survival_Months'].unique()"
   ]
  },
  {
   "cell_type": "code",
   "execution_count": 114,
   "metadata": {},
   "outputs": [
    {
     "data": {
      "text/plain": [
       "np.int64(226)"
      ]
     },
     "execution_count": 114,
     "metadata": {},
     "output_type": "execute_result"
    }
   ],
   "source": [
    "ndf['Survival_Months'].isnull().sum()"
   ]
  },
  {
   "cell_type": "code",
   "execution_count": 115,
   "metadata": {},
   "outputs": [
    {
     "data": {
      "text/html": [
       "<div>\n",
       "<style scoped>\n",
       "    .dataframe tbody tr th:only-of-type {\n",
       "        vertical-align: middle;\n",
       "    }\n",
       "\n",
       "    .dataframe tbody tr th {\n",
       "        vertical-align: top;\n",
       "    }\n",
       "\n",
       "    .dataframe thead th {\n",
       "        text-align: right;\n",
       "    }\n",
       "</style>\n",
       "<table border=\"1\" class=\"dataframe\">\n",
       "  <thead>\n",
       "    <tr style=\"text-align: right;\">\n",
       "      <th></th>\n",
       "      <th>Survival_Months</th>\n",
       "    </tr>\n",
       "  </thead>\n",
       "  <tbody>\n",
       "    <tr>\n",
       "      <th>0</th>\n",
       "      <td>NaN</td>\n",
       "    </tr>\n",
       "    <tr>\n",
       "      <th>1</th>\n",
       "      <td>62.0</td>\n",
       "    </tr>\n",
       "    <tr>\n",
       "      <th>2</th>\n",
       "      <td>75.0</td>\n",
       "    </tr>\n",
       "    <tr>\n",
       "      <th>3</th>\n",
       "      <td>84.0</td>\n",
       "    </tr>\n",
       "    <tr>\n",
       "      <th>4</th>\n",
       "      <td>50.0</td>\n",
       "    </tr>\n",
       "  </tbody>\n",
       "</table>\n",
       "</div>"
      ],
      "text/plain": [
       "   Survival_Months\n",
       "0              NaN\n",
       "1             62.0\n",
       "2             75.0\n",
       "3             84.0\n",
       "4             50.0"
      ]
     },
     "execution_count": 115,
     "metadata": {},
     "output_type": "execute_result"
    }
   ],
   "source": [
    "ndf['Survival_Months'] = ndf['Survival_Months'].replace(['missing', ' MISSING ', ' missing ', 'MISSING', 'nan', ' missing'], np.nan)\n",
    "\n",
    "ndf['Survival_Months'] = pd.to_numeric(ndf['Survival_Months'], errors='coerce')\n",
    "\n",
    "ndf[['Survival_Months']].head()\n"
   ]
  },
  {
   "cell_type": "code",
   "execution_count": 116,
   "metadata": {},
   "outputs": [
    {
     "data": {
      "text/plain": [
       "np.int64(625)"
      ]
     },
     "execution_count": 116,
     "metadata": {},
     "output_type": "execute_result"
    }
   ],
   "source": [
    "ndf['Survival_Months'].isnull().sum()"
   ]
  },
  {
   "cell_type": "code",
   "execution_count": 117,
   "metadata": {},
   "outputs": [
    {
     "name": "stdout",
     "output_type": "stream",
     "text": [
      "Mean = Size: 71.16475433951162\n",
      "Mode  Size: 69.0\n",
      "Median  Size: 73.0\n"
     ]
    }
   ],
   "source": [
    "mean_Survival_Months = ndf['Survival_Months'].mean()\n",
    "mode_Survival_Months= ndf['Survival_Months'].mode()[0]  \n",
    "median_Survival_Months= ndf['Survival_Months'].median()\n",
    "\n",
    "print(f\"Mean = Size: {mean_Survival_Months}\")\n",
    "print(f\"Mode  Size: {mode_Survival_Months}\")\n",
    "print(f\"Median  Size: {median_Survival_Months}\")"
   ]
  },
  {
   "cell_type": "code",
   "execution_count": 118,
   "metadata": {},
   "outputs": [
    {
     "name": "stderr",
     "output_type": "stream",
     "text": [
      "C:\\Users\\Concept D\\AppData\\Local\\Temp\\ipykernel_5912\\1043454301.py:1: FutureWarning: A value is trying to be set on a copy of a DataFrame or Series through chained assignment using an inplace method.\n",
      "The behavior will change in pandas 3.0. This inplace method will never work because the intermediate object on which we are setting values always behaves as a copy.\n",
      "\n",
      "For example, when doing 'df[col].method(value, inplace=True)', try using 'df.method({col: value}, inplace=True)' or df[col] = df[col].method(value) instead, to perform the operation inplace on the original object.\n",
      "\n",
      "\n",
      "  ndf['Survival_Months'].fillna(median_Survival_Months, inplace=True)\n"
     ]
    },
    {
     "data": {
      "text/html": [
       "<div>\n",
       "<style scoped>\n",
       "    .dataframe tbody tr th:only-of-type {\n",
       "        vertical-align: middle;\n",
       "    }\n",
       "\n",
       "    .dataframe tbody tr th {\n",
       "        vertical-align: top;\n",
       "    }\n",
       "\n",
       "    .dataframe thead th {\n",
       "        text-align: right;\n",
       "    }\n",
       "</style>\n",
       "<table border=\"1\" class=\"dataframe\">\n",
       "  <thead>\n",
       "    <tr style=\"text-align: right;\">\n",
       "      <th></th>\n",
       "      <th>Survival_Months</th>\n",
       "    </tr>\n",
       "  </thead>\n",
       "  <tbody>\n",
       "    <tr>\n",
       "      <th>0</th>\n",
       "      <td>73.0</td>\n",
       "    </tr>\n",
       "    <tr>\n",
       "      <th>1</th>\n",
       "      <td>62.0</td>\n",
       "    </tr>\n",
       "    <tr>\n",
       "      <th>2</th>\n",
       "      <td>75.0</td>\n",
       "    </tr>\n",
       "    <tr>\n",
       "      <th>3</th>\n",
       "      <td>84.0</td>\n",
       "    </tr>\n",
       "    <tr>\n",
       "      <th>4</th>\n",
       "      <td>50.0</td>\n",
       "    </tr>\n",
       "    <tr>\n",
       "      <th>...</th>\n",
       "      <td>...</td>\n",
       "    </tr>\n",
       "    <tr>\n",
       "      <th>4019</th>\n",
       "      <td>49.0</td>\n",
       "    </tr>\n",
       "    <tr>\n",
       "      <th>4020</th>\n",
       "      <td>69.0</td>\n",
       "    </tr>\n",
       "    <tr>\n",
       "      <th>4021</th>\n",
       "      <td>69.0</td>\n",
       "    </tr>\n",
       "    <tr>\n",
       "      <th>4022</th>\n",
       "      <td>73.0</td>\n",
       "    </tr>\n",
       "    <tr>\n",
       "      <th>4023</th>\n",
       "      <td>100.0</td>\n",
       "    </tr>\n",
       "  </tbody>\n",
       "</table>\n",
       "<p>4024 rows × 1 columns</p>\n",
       "</div>"
      ],
      "text/plain": [
       "      Survival_Months\n",
       "0                73.0\n",
       "1                62.0\n",
       "2                75.0\n",
       "3                84.0\n",
       "4                50.0\n",
       "...               ...\n",
       "4019             49.0\n",
       "4020             69.0\n",
       "4021             69.0\n",
       "4022             73.0\n",
       "4023            100.0\n",
       "\n",
       "[4024 rows x 1 columns]"
      ]
     },
     "execution_count": 118,
     "metadata": {},
     "output_type": "execute_result"
    }
   ],
   "source": [
    "ndf['Survival_Months'].fillna(median_Survival_Months, inplace=True)\n",
    "\n",
    "ndf[['Survival_Months']]\n"
   ]
  },
  {
   "cell_type": "code",
   "execution_count": 119,
   "metadata": {},
   "outputs": [
    {
     "name": "stdout",
     "output_type": "stream",
     "text": [
      "<class 'pandas.core.frame.DataFrame'>\n",
      "RangeIndex: 4024 entries, 0 to 4023\n",
      "Data columns (total 25 columns):\n",
      " #   Column                               Non-Null Count  Dtype  \n",
      "---  ------                               --------------  -----  \n",
      " 0   Age                                  4024 non-null   float64\n",
      " 1   T_Stage_                             4024 non-null   int64  \n",
      " 2   N_Stage                              4024 non-null   int64  \n",
      " 3   6th_Stage                            4024 non-null   int64  \n",
      " 4   Grade                                4024 non-null   int64  \n",
      " 5   Tumor_Size                           4024 non-null   float64\n",
      " 6   Estrogen_Status                      4024 non-null   int64  \n",
      " 7   Progesterone_Status                  4024 non-null   int64  \n",
      " 8   Regional_Node_Examined               4024 non-null   float64\n",
      " 9   Reginol_Node_Positive                4024 non-null   float64\n",
      " 10  Survival_Months                      4024 non-null   float64\n",
      " 11  Status                               4024 non-null   object \n",
      " 12  Race_Black                           4024 non-null   int64  \n",
      " 13  Race_Other                           4024 non-null   int64  \n",
      " 14  Race_White                           4024 non-null   int64  \n",
      " 15  Marital_Status_divorced              4024 non-null   int64  \n",
      " 16  Marital_Status_married               4024 non-null   int64  \n",
      " 17  Marital_Status_separated             4024 non-null   int64  \n",
      " 18  Marital_Status_single                4024 non-null   int64  \n",
      " 19  Marital_Status_widowed               4024 non-null   int64  \n",
      " 20  differentiate_POORLY DIFFERENTIATED  4024 non-null   int64  \n",
      " 21  differentiate_UNDIFFERENTIATED       4024 non-null   int64  \n",
      " 22  differentiate_WELL DIFFERENTIATED    4024 non-null   int64  \n",
      " 23  A_Stage_DISTANT                      4024 non-null   int64  \n",
      " 24  A_Stage_REGIONAL                     4024 non-null   int64  \n",
      "dtypes: float64(5), int64(19), object(1)\n",
      "memory usage: 786.1+ KB\n"
     ]
    }
   ],
   "source": [
    "ndf.info()"
   ]
  },
  {
   "cell_type": "markdown",
   "metadata": {},
   "source": [
    "#### Status"
   ]
  },
  {
   "cell_type": "code",
   "execution_count": 120,
   "metadata": {},
   "outputs": [
    {
     "data": {
      "text/plain": [
       "array(['Alive', 'Dead'], dtype=object)"
      ]
     },
     "execution_count": 120,
     "metadata": {},
     "output_type": "execute_result"
    }
   ],
   "source": [
    "ndf['Status'].unique()"
   ]
  },
  {
   "cell_type": "code",
   "execution_count": 121,
   "metadata": {},
   "outputs": [],
   "source": [
    "ndf['Status'] = ndf['Status'].replace({\n",
    "    'DEAD': 0,\n",
    "    'ALIVE': 1\n",
    "    \n",
    "})\n",
    "ndf['Status'] = pd.to_numeric(ndf['Status'], errors='coerce')"
   ]
  },
  {
   "cell_type": "code",
   "execution_count": 122,
   "metadata": {},
   "outputs": [
    {
     "name": "stdout",
     "output_type": "stream",
     "text": [
      "<class 'pandas.core.series.Series'>\n",
      "RangeIndex: 4024 entries, 0 to 4023\n",
      "Series name: Status\n",
      "Non-Null Count  Dtype  \n",
      "--------------  -----  \n",
      "0 non-null      float64\n",
      "dtypes: float64(1)\n",
      "memory usage: 31.6 KB\n"
     ]
    }
   ],
   "source": [
    "ndf['Status'].info() "
   ]
  },
  {
   "cell_type": "code",
   "execution_count": 123,
   "metadata": {},
   "outputs": [
    {
     "data": {
      "text/html": [
       "<div>\n",
       "<style scoped>\n",
       "    .dataframe tbody tr th:only-of-type {\n",
       "        vertical-align: middle;\n",
       "    }\n",
       "\n",
       "    .dataframe tbody tr th {\n",
       "        vertical-align: top;\n",
       "    }\n",
       "\n",
       "    .dataframe thead th {\n",
       "        text-align: right;\n",
       "    }\n",
       "</style>\n",
       "<table border=\"1\" class=\"dataframe\">\n",
       "  <thead>\n",
       "    <tr style=\"text-align: right;\">\n",
       "      <th></th>\n",
       "      <th>Age</th>\n",
       "      <th>T_Stage_</th>\n",
       "      <th>N_Stage</th>\n",
       "      <th>6th_Stage</th>\n",
       "      <th>Grade</th>\n",
       "      <th>Tumor_Size</th>\n",
       "      <th>Estrogen_Status</th>\n",
       "      <th>Progesterone_Status</th>\n",
       "      <th>Regional_Node_Examined</th>\n",
       "      <th>Reginol_Node_Positive</th>\n",
       "      <th>...</th>\n",
       "      <th>Marital_Status_divorced</th>\n",
       "      <th>Marital_Status_married</th>\n",
       "      <th>Marital_Status_separated</th>\n",
       "      <th>Marital_Status_single</th>\n",
       "      <th>Marital_Status_widowed</th>\n",
       "      <th>differentiate_POORLY DIFFERENTIATED</th>\n",
       "      <th>differentiate_UNDIFFERENTIATED</th>\n",
       "      <th>differentiate_WELL DIFFERENTIATED</th>\n",
       "      <th>A_Stage_DISTANT</th>\n",
       "      <th>A_Stage_REGIONAL</th>\n",
       "    </tr>\n",
       "  </thead>\n",
       "  <tbody>\n",
       "    <tr>\n",
       "      <th>count</th>\n",
       "      <td>4024.000000</td>\n",
       "      <td>4024.000000</td>\n",
       "      <td>4024.000000</td>\n",
       "      <td>4024.000000</td>\n",
       "      <td>4024.000000</td>\n",
       "      <td>4024.000000</td>\n",
       "      <td>4024.000000</td>\n",
       "      <td>4024.000000</td>\n",
       "      <td>4024.000000</td>\n",
       "      <td>4024.000000</td>\n",
       "      <td>...</td>\n",
       "      <td>4024.000000</td>\n",
       "      <td>4024.000000</td>\n",
       "      <td>4024.000000</td>\n",
       "      <td>4024.000000</td>\n",
       "      <td>4024.000000</td>\n",
       "      <td>4024.000000</td>\n",
       "      <td>4024.000000</td>\n",
       "      <td>4024.000000</td>\n",
       "      <td>4024.000000</td>\n",
       "      <td>4024.000000</td>\n",
       "    </tr>\n",
       "    <tr>\n",
       "      <th>mean</th>\n",
       "      <td>53.939861</td>\n",
       "      <td>1.794732</td>\n",
       "      <td>1.413767</td>\n",
       "      <td>2.150845</td>\n",
       "      <td>2.136431</td>\n",
       "      <td>29.594185</td>\n",
       "      <td>0.936133</td>\n",
       "      <td>0.834990</td>\n",
       "      <td>14.385437</td>\n",
       "      <td>3.838966</td>\n",
       "      <td>...</td>\n",
       "      <td>0.115308</td>\n",
       "      <td>0.670477</td>\n",
       "      <td>0.010686</td>\n",
       "      <td>0.146869</td>\n",
       "      <td>0.056660</td>\n",
       "      <td>0.257207</td>\n",
       "      <td>0.004722</td>\n",
       "      <td>0.128728</td>\n",
       "      <td>0.021372</td>\n",
       "      <td>0.978628</td>\n",
       "    </tr>\n",
       "    <tr>\n",
       "      <th>std</th>\n",
       "      <td>8.222385</td>\n",
       "      <td>0.743929</td>\n",
       "      <td>0.678874</td>\n",
       "      <td>1.081956</td>\n",
       "      <td>0.623131</td>\n",
       "      <td>19.521343</td>\n",
       "      <td>0.244546</td>\n",
       "      <td>0.371236</td>\n",
       "      <td>7.489444</td>\n",
       "      <td>4.770801</td>\n",
       "      <td>...</td>\n",
       "      <td>0.319433</td>\n",
       "      <td>0.470098</td>\n",
       "      <td>0.102832</td>\n",
       "      <td>0.354019</td>\n",
       "      <td>0.231221</td>\n",
       "      <td>0.437149</td>\n",
       "      <td>0.068561</td>\n",
       "      <td>0.334940</td>\n",
       "      <td>0.144638</td>\n",
       "      <td>0.144638</td>\n",
       "    </tr>\n",
       "    <tr>\n",
       "      <th>min</th>\n",
       "      <td>30.000000</td>\n",
       "      <td>1.000000</td>\n",
       "      <td>1.000000</td>\n",
       "      <td>1.000000</td>\n",
       "      <td>1.000000</td>\n",
       "      <td>1.000000</td>\n",
       "      <td>0.000000</td>\n",
       "      <td>0.000000</td>\n",
       "      <td>1.000000</td>\n",
       "      <td>1.000000</td>\n",
       "      <td>...</td>\n",
       "      <td>0.000000</td>\n",
       "      <td>0.000000</td>\n",
       "      <td>0.000000</td>\n",
       "      <td>0.000000</td>\n",
       "      <td>0.000000</td>\n",
       "      <td>0.000000</td>\n",
       "      <td>0.000000</td>\n",
       "      <td>0.000000</td>\n",
       "      <td>0.000000</td>\n",
       "      <td>0.000000</td>\n",
       "    </tr>\n",
       "    <tr>\n",
       "      <th>25%</th>\n",
       "      <td>48.000000</td>\n",
       "      <td>1.000000</td>\n",
       "      <td>1.000000</td>\n",
       "      <td>1.000000</td>\n",
       "      <td>2.000000</td>\n",
       "      <td>18.000000</td>\n",
       "      <td>1.000000</td>\n",
       "      <td>1.000000</td>\n",
       "      <td>10.000000</td>\n",
       "      <td>1.000000</td>\n",
       "      <td>...</td>\n",
       "      <td>0.000000</td>\n",
       "      <td>0.000000</td>\n",
       "      <td>0.000000</td>\n",
       "      <td>0.000000</td>\n",
       "      <td>0.000000</td>\n",
       "      <td>0.000000</td>\n",
       "      <td>0.000000</td>\n",
       "      <td>0.000000</td>\n",
       "      <td>0.000000</td>\n",
       "      <td>1.000000</td>\n",
       "    </tr>\n",
       "    <tr>\n",
       "      <th>50%</th>\n",
       "      <td>54.000000</td>\n",
       "      <td>2.000000</td>\n",
       "      <td>1.000000</td>\n",
       "      <td>2.000000</td>\n",
       "      <td>2.000000</td>\n",
       "      <td>25.000000</td>\n",
       "      <td>1.000000</td>\n",
       "      <td>1.000000</td>\n",
       "      <td>14.000000</td>\n",
       "      <td>2.000000</td>\n",
       "      <td>...</td>\n",
       "      <td>0.000000</td>\n",
       "      <td>1.000000</td>\n",
       "      <td>0.000000</td>\n",
       "      <td>0.000000</td>\n",
       "      <td>0.000000</td>\n",
       "      <td>0.000000</td>\n",
       "      <td>0.000000</td>\n",
       "      <td>0.000000</td>\n",
       "      <td>0.000000</td>\n",
       "      <td>1.000000</td>\n",
       "    </tr>\n",
       "    <tr>\n",
       "      <th>75%</th>\n",
       "      <td>60.000000</td>\n",
       "      <td>2.000000</td>\n",
       "      <td>2.000000</td>\n",
       "      <td>3.000000</td>\n",
       "      <td>3.000000</td>\n",
       "      <td>35.000000</td>\n",
       "      <td>1.000000</td>\n",
       "      <td>1.000000</td>\n",
       "      <td>18.000000</td>\n",
       "      <td>4.000000</td>\n",
       "      <td>...</td>\n",
       "      <td>0.000000</td>\n",
       "      <td>1.000000</td>\n",
       "      <td>0.000000</td>\n",
       "      <td>0.000000</td>\n",
       "      <td>0.000000</td>\n",
       "      <td>1.000000</td>\n",
       "      <td>0.000000</td>\n",
       "      <td>0.000000</td>\n",
       "      <td>0.000000</td>\n",
       "      <td>1.000000</td>\n",
       "    </tr>\n",
       "    <tr>\n",
       "      <th>max</th>\n",
       "      <td>69.000000</td>\n",
       "      <td>4.000000</td>\n",
       "      <td>3.000000</td>\n",
       "      <td>5.000000</td>\n",
       "      <td>4.000000</td>\n",
       "      <td>140.000000</td>\n",
       "      <td>1.000000</td>\n",
       "      <td>1.000000</td>\n",
       "      <td>61.000000</td>\n",
       "      <td>46.000000</td>\n",
       "      <td>...</td>\n",
       "      <td>1.000000</td>\n",
       "      <td>1.000000</td>\n",
       "      <td>1.000000</td>\n",
       "      <td>1.000000</td>\n",
       "      <td>1.000000</td>\n",
       "      <td>1.000000</td>\n",
       "      <td>1.000000</td>\n",
       "      <td>1.000000</td>\n",
       "      <td>1.000000</td>\n",
       "      <td>1.000000</td>\n",
       "    </tr>\n",
       "  </tbody>\n",
       "</table>\n",
       "<p>8 rows × 25 columns</p>\n",
       "</div>"
      ],
      "text/plain": [
       "               Age     T_Stage_      N_Stage    6th_Stage        Grade  \\\n",
       "count  4024.000000  4024.000000  4024.000000  4024.000000  4024.000000   \n",
       "mean     53.939861     1.794732     1.413767     2.150845     2.136431   \n",
       "std       8.222385     0.743929     0.678874     1.081956     0.623131   \n",
       "min      30.000000     1.000000     1.000000     1.000000     1.000000   \n",
       "25%      48.000000     1.000000     1.000000     1.000000     2.000000   \n",
       "50%      54.000000     2.000000     1.000000     2.000000     2.000000   \n",
       "75%      60.000000     2.000000     2.000000     3.000000     3.000000   \n",
       "max      69.000000     4.000000     3.000000     5.000000     4.000000   \n",
       "\n",
       "        Tumor_Size  Estrogen_Status  Progesterone_Status  \\\n",
       "count  4024.000000      4024.000000          4024.000000   \n",
       "mean     29.594185         0.936133             0.834990   \n",
       "std      19.521343         0.244546             0.371236   \n",
       "min       1.000000         0.000000             0.000000   \n",
       "25%      18.000000         1.000000             1.000000   \n",
       "50%      25.000000         1.000000             1.000000   \n",
       "75%      35.000000         1.000000             1.000000   \n",
       "max     140.000000         1.000000             1.000000   \n",
       "\n",
       "       Regional_Node_Examined  Reginol_Node_Positive  ...  \\\n",
       "count             4024.000000            4024.000000  ...   \n",
       "mean                14.385437               3.838966  ...   \n",
       "std                  7.489444               4.770801  ...   \n",
       "min                  1.000000               1.000000  ...   \n",
       "25%                 10.000000               1.000000  ...   \n",
       "50%                 14.000000               2.000000  ...   \n",
       "75%                 18.000000               4.000000  ...   \n",
       "max                 61.000000              46.000000  ...   \n",
       "\n",
       "       Marital_Status_divorced  Marital_Status_married  \\\n",
       "count              4024.000000             4024.000000   \n",
       "mean                  0.115308                0.670477   \n",
       "std                   0.319433                0.470098   \n",
       "min                   0.000000                0.000000   \n",
       "25%                   0.000000                0.000000   \n",
       "50%                   0.000000                1.000000   \n",
       "75%                   0.000000                1.000000   \n",
       "max                   1.000000                1.000000   \n",
       "\n",
       "       Marital_Status_separated  Marital_Status_single  \\\n",
       "count               4024.000000            4024.000000   \n",
       "mean                   0.010686               0.146869   \n",
       "std                    0.102832               0.354019   \n",
       "min                    0.000000               0.000000   \n",
       "25%                    0.000000               0.000000   \n",
       "50%                    0.000000               0.000000   \n",
       "75%                    0.000000               0.000000   \n",
       "max                    1.000000               1.000000   \n",
       "\n",
       "       Marital_Status_widowed  differentiate_POORLY DIFFERENTIATED  \\\n",
       "count             4024.000000                          4024.000000   \n",
       "mean                 0.056660                             0.257207   \n",
       "std                  0.231221                             0.437149   \n",
       "min                  0.000000                             0.000000   \n",
       "25%                  0.000000                             0.000000   \n",
       "50%                  0.000000                             0.000000   \n",
       "75%                  0.000000                             1.000000   \n",
       "max                  1.000000                             1.000000   \n",
       "\n",
       "       differentiate_UNDIFFERENTIATED  differentiate_WELL DIFFERENTIATED  \\\n",
       "count                     4024.000000                        4024.000000   \n",
       "mean                         0.004722                           0.128728   \n",
       "std                          0.068561                           0.334940   \n",
       "min                          0.000000                           0.000000   \n",
       "25%                          0.000000                           0.000000   \n",
       "50%                          0.000000                           0.000000   \n",
       "75%                          0.000000                           0.000000   \n",
       "max                          1.000000                           1.000000   \n",
       "\n",
       "       A_Stage_DISTANT  A_Stage_REGIONAL  \n",
       "count      4024.000000       4024.000000  \n",
       "mean          0.021372          0.978628  \n",
       "std           0.144638          0.144638  \n",
       "min           0.000000          0.000000  \n",
       "25%           0.000000          1.000000  \n",
       "50%           0.000000          1.000000  \n",
       "75%           0.000000          1.000000  \n",
       "max           1.000000          1.000000  \n",
       "\n",
       "[8 rows x 25 columns]"
      ]
     },
     "execution_count": 123,
     "metadata": {},
     "output_type": "execute_result"
    }
   ],
   "source": [
    "ndf.describe()"
   ]
  },
  {
   "cell_type": "code",
   "execution_count": 124,
   "metadata": {},
   "outputs": [
    {
     "name": "stdout",
     "output_type": "stream",
     "text": [
      "<class 'pandas.core.frame.DataFrame'>\n",
      "RangeIndex: 4024 entries, 0 to 4023\n",
      "Data columns (total 25 columns):\n",
      " #   Column                               Non-Null Count  Dtype  \n",
      "---  ------                               --------------  -----  \n",
      " 0   Age                                  4024 non-null   float64\n",
      " 1   T_Stage_                             4024 non-null   int64  \n",
      " 2   N_Stage                              4024 non-null   int64  \n",
      " 3   6th_Stage                            4024 non-null   int64  \n",
      " 4   Grade                                4024 non-null   int64  \n",
      " 5   Tumor_Size                           4024 non-null   float64\n",
      " 6   Estrogen_Status                      4024 non-null   int64  \n",
      " 7   Progesterone_Status                  4024 non-null   int64  \n",
      " 8   Regional_Node_Examined               4024 non-null   float64\n",
      " 9   Reginol_Node_Positive                4024 non-null   float64\n",
      " 10  Survival_Months                      4024 non-null   float64\n",
      " 11  Status                               0 non-null      float64\n",
      " 12  Race_Black                           4024 non-null   int64  \n",
      " 13  Race_Other                           4024 non-null   int64  \n",
      " 14  Race_White                           4024 non-null   int64  \n",
      " 15  Marital_Status_divorced              4024 non-null   int64  \n",
      " 16  Marital_Status_married               4024 non-null   int64  \n",
      " 17  Marital_Status_separated             4024 non-null   int64  \n",
      " 18  Marital_Status_single                4024 non-null   int64  \n",
      " 19  Marital_Status_widowed               4024 non-null   int64  \n",
      " 20  differentiate_POORLY DIFFERENTIATED  4024 non-null   int64  \n",
      " 21  differentiate_UNDIFFERENTIATED       4024 non-null   int64  \n",
      " 22  differentiate_WELL DIFFERENTIATED    4024 non-null   int64  \n",
      " 23  A_Stage_DISTANT                      4024 non-null   int64  \n",
      " 24  A_Stage_REGIONAL                     4024 non-null   int64  \n",
      "dtypes: float64(6), int64(19)\n",
      "memory usage: 786.1 KB\n"
     ]
    }
   ],
   "source": [
    "ndf.info()"
   ]
  },
  {
   "cell_type": "code",
   "execution_count": 127,
   "metadata": {},
   "outputs": [],
   "source": [
    "ndf.to_csv(r'E:\\DataMining\\Breast_Cancer\\Breast_Cancer_cleaned.csv')"
   ]
  },
  {
   "cell_type": "markdown",
   "metadata": {},
   "source": [
    "## vis"
   ]
  }
 ],
 "metadata": {
  "kernelspec": {
   "display_name": "Python 3",
   "language": "python",
   "name": "python3"
  },
  "language_info": {
   "codemirror_mode": {
    "name": "ipython",
    "version": 3
   },
   "file_extension": ".py",
   "mimetype": "text/x-python",
   "name": "python",
   "nbconvert_exporter": "python",
   "pygments_lexer": "ipython3",
   "version": "3.13.0"
  }
 },
 "nbformat": 4,
 "nbformat_minor": 2
}
